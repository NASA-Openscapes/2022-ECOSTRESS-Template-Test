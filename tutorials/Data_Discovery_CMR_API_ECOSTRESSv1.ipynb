{
 "cells": [
  {
   "cell_type": "markdown",
   "id": "ef03c624-93e5-4fe3-920f-3d8e666daf52",
   "metadata": {
    "tags": []
   },
   "source": [
    "# Data discovery with NASA's CMR\n",
    "\n",
    "## Summary\n",
    "\n",
    "In this notebook, we will walk through how to search for Earthdata data collections and granules. Along the way we will explore the available search parameters, information return, and specific contrains when using the CMR API. Our object is to identify assets to access that we would downloaded, or perform S3 direct access, within an analysis workflow \n",
    "\n",
    "We will be querying CMR for [ECOSTRESS]() collections/granules to identify assets we would downloaded, or perform S3 direct access, within an analysis workflow\n",
    "\n",
    "## Requirements\n",
    "\n",
    "### 1. Earthdata Login\n",
    "\n",
    "An Earthdata Login account is required to access data, as well as discover restricted data, from the NASA Earthdata system. Thus, to access NASA data, you need Earthdata Login. Please visit https://urs.earthdata.nasa.gov to register and manage your Earthdata Login account. This account is free to create and only takes a moment to set up.\n",
    "\n",
    "## Learning Objectives\n",
    "\n",
    "- understand what CMR/CMR API is and what CMR/CMR API can be used for \n",
    "- how to use the `requests` package to search data collections and granules  \n",
    "- how to parse the results of these searches.\n",
    "\n",
    "## What is CMR\n",
    "CMR is the Common Metadata Repository.  It catalogs all data for NASA's Earth Observing System Data and Information System (EOSDIS).  It is the backend of [Earthdata Search](https://search.earthdata.nasa.gov/search), the GUI search interface you are probably familiar with.  More information about CMR can be found [here](https://earthdata.nasa.gov/eosdis/science-system-description/eosdis-components/cmr).\n",
    "\n",
    "Unfortunately, the GUI for Earthdata Search is not accessible from a cloud instance - at least not without some work.  Earthdata Search is also not immediately reproducible.  What I mean by that is if you create a search using the GUI you would have to note the search criteria (date range, search area, collection name, etc), take a screenshot, copy the search url, or save the list of data granules returned by the search, in order to recreate the search.  This information would have to be re-entered each time you or someone else wanted to do the search.  You could make typos or other mistakes.  A cleaner, reproducible solution is to search CMR programmatically using the CMR API.\n",
    "\n",
    "## What is the CMR API\n",
    "API stands for Application Programming Interface.  It allows applications (software, services, etc) to send information to each other.  A helpful analogy is a waiter in a restaurant.  The waiter takes your drink or food order that you select from the menu, often translated into short-hand, to the bar or kitchen, and then returns (hopefully) with what you ordered when it is ready.\n",
    "\n",
    "The CMR API accepts search terms such as collection name, keywords, datetime range, and location, queries the CMR database and returns the results."
   ]
  },
  {
   "cell_type": "markdown",
   "id": "4c0e6feb-7e22-49e8-ad2f-14341e025608",
   "metadata": {},
   "source": [
    "---"
   ]
  },
  {
   "cell_type": "markdown",
   "id": "instant-parliament",
   "metadata": {},
   "source": [
    "## Getting Started: How to search CMR from Python\n",
    "The first step is to import python packages.  We will use:  \n",
    "- `requests` This package does most of the work for us accessing the CMR API using HTTP methods. \n",
    "- `pprint` to _pretty print_ the results of the search.  \n",
    "\n",
    "A more in-depth tutorial on `requests` is [here](https://realpython.com/python-requests/)"
   ]
  },
  {
   "cell_type": "code",
   "execution_count": 1,
   "id": "prime-hierarchy",
   "metadata": {},
   "outputs": [],
   "source": [
    "import requests\n",
    "from pprint import pprint"
   ]
  },
  {
   "cell_type": "markdown",
   "id": "authorized-conditioning",
   "metadata": {},
   "source": [
    "To conduct a search using the CMR API, `requests` needs the url for the root CMR search endpoint. We'll assign this url to a python variable as a _string_."
   ]
  },
  {
   "cell_type": "code",
   "execution_count": 2,
   "id": "existing-concert",
   "metadata": {},
   "outputs": [],
   "source": [
    "CMR_OPS = 'https://cmr.earthdata.nasa.gov/search'"
   ]
  },
  {
   "cell_type": "markdown",
   "id": "sorted-possession",
   "metadata": {},
   "source": [
    "CMR allows search by __collections__, which are datasets, and __granules__, which are files that contain data. Many of the same search parameters can be used for collections and granules but the type of results returned differ. Search parameters can be found in the [API Documentation](https://cmr.earthdata.nasa.gov/search/site/docs/search/api.html).  \n",
    "\n",
    "Whether we search __collections__ or __granules__ is distinguished by adding `\"collections\"` or `\"granules\"` to the end of the CMR endpoint URL.  \n",
    "\n",
    "We are going to search collections first, so we add `\"collections\"` to the URL. We are using a `python` format string in the examples below."
   ]
  },
  {
   "cell_type": "code",
   "execution_count": 3,
   "id": "floating-defensive",
   "metadata": {},
   "outputs": [],
   "source": [
    "url = f'{CMR_OPS}/{\"collections\"}'"
   ]
  },
  {
   "cell_type": "markdown",
   "id": "racial-fifteen",
   "metadata": {},
   "source": [
    "In this first example, I want to retrieve a list of __ECOSTRESS__ collections.  \n",
    "\n",
    "We want to get the content in `json` (pronounced \"jason\") format, so I pass a dictionary to the header keyword argument to say that I want results returned as `json`.\n",
    "\n",
    "The `.get()` method is used to send this information to the CMR API. `get()` calls the HTTP method __GET__. "
   ]
  },
  {
   "cell_type": "code",
   "execution_count": 4,
   "id": "suited-wrestling",
   "metadata": {},
   "outputs": [],
   "source": [
    "response = requests.get(url,\n",
    "                        params={\n",
    "                            #'cloud_hosted': 'True',\n",
    "                            'has_granules': 'True',\n",
    "                            'project': 'ECOSTRESS'\n",
    "                        },\n",
    "                        headers={\n",
    "                            'Accept': 'application/json',\n",
    "                        }\n",
    "                       )"
   ]
  },
  {
   "cell_type": "markdown",
   "id": "monetary-harbor",
   "metadata": {},
   "source": [
    "The request returns a `Response` object.    \n",
    "\n",
    "To check that our request was successful we can print the `response` variable we saved the request to."
   ]
  },
  {
   "cell_type": "code",
   "execution_count": 5,
   "id": "ongoing-progressive",
   "metadata": {},
   "outputs": [
    {
     "data": {
      "text/plain": [
       "<Response [200]>"
      ]
     },
     "execution_count": 5,
     "metadata": {},
     "output_type": "execute_result"
    }
   ],
   "source": [
    "response"
   ]
  },
  {
   "cell_type": "markdown",
   "id": "linear-collins",
   "metadata": {},
   "source": [
    "A __200__ response is what we want. This means that the requests was successful. For more information on HTTP status codes see <https://en.wikipedia.org/wiki/List_of_HTTP_status_codes>\n",
    "\n",
    "A more explict way to check the status code is to use the `status_code` attribute. Both methods return a HTTP status code."
   ]
  },
  {
   "cell_type": "code",
   "execution_count": 6,
   "id": "printable-determination",
   "metadata": {},
   "outputs": [
    {
     "data": {
      "text/plain": [
       "200"
      ]
     },
     "execution_count": 6,
     "metadata": {},
     "output_type": "execute_result"
    }
   ],
   "source": [
    "response.status_code"
   ]
  },
  {
   "cell_type": "markdown",
   "id": "australian-resolution",
   "metadata": {},
   "source": [
    "The response from `requests.get` returns the results of the search and metadata about those results in the `headers`.  \n",
    "\n",
    "More information about the `response` object can be found by typing `help(response)`.\n",
    "\n",
    "`headers` contains useful information in a case-insensitive dictionary. We requested (above) that the information be return in json which means the object return is a dictionary in our Python environment. We'll iterate through the returned dictionary, looping throught each field (`k`) and its associated value (`v`). For more on interating through dictionary object click [here](https://realpython.com/iterate-through-dictionary-python/)."
   ]
  },
  {
   "cell_type": "code",
   "execution_count": 7,
   "id": "driving-vintage",
   "metadata": {},
   "outputs": [
    {
     "name": "stdout",
     "output_type": "stream",
     "text": [
      "Content-Type: application/json;charset=utf-8\n",
      "Transfer-Encoding: chunked\n",
      "Connection: keep-alive\n",
      "Date: Mon, 04 Apr 2022 20:49:51 GMT\n",
      "X-Frame-Options: SAMEORIGIN\n",
      "Access-Control-Allow-Origin: *\n",
      "X-XSS-Protection: 1; mode=block\n",
      "CMR-Request-Id: 314acdbe-d98e-418f-b371-f68c800a5ef8\n",
      "Strict-Transport-Security: max-age=31536000\n",
      "CMR-Search-After: [0.0,0.0,\"ECO4ESIALEXI\",\"1\",1639530606,21]\n",
      "CMR-Hits: 13\n",
      "Access-Control-Expose-Headers: CMR-Hits, CMR-Request-Id, X-Request-Id, CMR-Scroll-Id, CMR-Search-After, CMR-Timed-Out, CMR-Shapefile-Original-Point-Count, CMR-Shapefile-Simplified-Point-Count\n",
      "X-Content-Type-Options: nosniff\n",
      "CMR-Took: 257\n",
      "X-Request-Id: 4pSYODszZbFzRnsA0AeHUqpjCgu4pw27vyVYVbL3CWS0pOMp2M1_tQ==\n",
      "Vary: Accept-Encoding, User-Agent\n",
      "Content-Encoding: gzip\n",
      "Server: ServerTokens ProductOnly\n",
      "X-Cache: Miss from cloudfront\n",
      "Via: 1.1 c1c7bd66e338154bf556b9c8414debe8.cloudfront.net (CloudFront)\n",
      "X-Amz-Cf-Pop: HIO50-C2\n",
      "X-Amz-Cf-Id: 4pSYODszZbFzRnsA0AeHUqpjCgu4pw27vyVYVbL3CWS0pOMp2M1_tQ==\n"
     ]
    }
   ],
   "source": [
    "for k, v in response.headers.items():\n",
    "    print(f'{k}: {v}')"
   ]
  },
  {
   "cell_type": "markdown",
   "id": "durable-ceramic",
   "metadata": {},
   "source": [
    "Each item in the dictionary can be accessed in the normal way you access a `python` dictionary but the keys uniquely case-insensitive. Let's take a look at the commonly used `CMR-Hits` key.\n",
    "\n"
   ]
  },
  {
   "cell_type": "code",
   "execution_count": 8,
   "id": "entertaining-blend",
   "metadata": {},
   "outputs": [
    {
     "data": {
      "text/plain": [
       "'13'"
      ]
     },
     "execution_count": 8,
     "metadata": {},
     "output_type": "execute_result"
    }
   ],
   "source": [
    "response.headers['CMR-Hits']"
   ]
  },
  {
   "cell_type": "markdown",
   "id": "governmental-disclosure",
   "metadata": {},
   "source": [
    "Note that \"cmr-hits\" works as well!"
   ]
  },
  {
   "cell_type": "code",
   "execution_count": 9,
   "id": "unsigned-january",
   "metadata": {},
   "outputs": [
    {
     "data": {
      "text/plain": [
       "'13'"
      ]
     },
     "execution_count": 9,
     "metadata": {},
     "output_type": "execute_result"
    }
   ],
   "source": [
    "response.headers['cmr-hits']"
   ]
  },
  {
   "cell_type": "markdown",
   "id": "eleven-mother",
   "metadata": {},
   "source": [
    "In some situations the response to your query can return a very large number of result, some of which may not be relevant. We can add additional [query parameters](https://cmr.earthdata.nasa.gov/search/site/docs/search/api.html) to restrict the information returned. We're going to restrict the search by the `provider` parameter.\n",
    "\n",
    "You can modify the code below to explore all Earthdata data products hosted by the various providers. When searching by provider, use _Cloud Provider_ to search for cloud-hosted datasets and _On-Premises Provider_ to search for datasets archived at the DAACs. A partial list of providers is given below.\n",
    "\n",
    "DAAC      | Short Name                              | Cloud Provider | On-Premises Provider  \n",
    "----------|-----------------------------------------|----------------|----------------------  \n",
    "NSIDC     | National Snow and Ice Data Center       | NSIDC_CPRD     | NSIDC_ECS  \n",
    "GHRC DAAC | Global Hydrometeorology Resource Center | GHRC_DAAC      | GHRC_DAAC  \n",
    "PO DAAC   | Physical Oceanography Distributed Active Archive Center | POCLOUD | PODAAC  \n",
    "ASF       | Alaska Satellite Facility | ASF | ASF  \n",
    "ORNL DAAC | Oak Ridge National Laboratory | ORNL_CLOUD | ORNL_DAAC  \n",
    "LP DAAC   | Land Processes Distributed Active Archive Center | LPCLOUD | LPDAAC_ECS\n",
    "GES DISC  | NASA Goddard Earth Sciences (GES) Data and Information Services Center (DISC) | GES_DISC | GES_DISC\n",
    "OB DAAC   | NASA's Ocean Biology Distributed Active Archive Center |   | OB_DAAC\n",
    "SEDAC     | NASA's Socioeconomic Data and Applications Center |   | SEDAC"
   ]
  },
  {
   "cell_type": "markdown",
   "id": "5842dc3b-639a-4cac-a838-6413ee1b4bb6",
   "metadata": {},
   "source": [
    "We'll assign the provider to a variable as a _string_ and insert the variable into the parameter argument in the request. We'll also assign the term 'ECOSTRESS' to a varible so we don't need to repeatedly add it to the requests parameters. "
   ]
  },
  {
   "cell_type": "code",
   "execution_count": 10,
   "id": "77daf931-54d6-40b0-823b-a36c352fd06c",
   "metadata": {},
   "outputs": [],
   "source": [
    "provider = 'LPDAAC_ECS'\n",
    "project = 'ECOSTRESS'"
   ]
  },
  {
   "cell_type": "code",
   "execution_count": 11,
   "id": "economic-airfare",
   "metadata": {},
   "outputs": [
    {
     "data": {
      "text/plain": [
       "<Response [200]>"
      ]
     },
     "execution_count": 11,
     "metadata": {},
     "output_type": "execute_result"
    }
   ],
   "source": [
    "response = requests.get(url,\n",
    "                        params={\n",
    "                            #'cloud_hosted': 'True',\n",
    "                            'has_granules': 'True',\n",
    "                            'provider': provider,\n",
    "                            'project': project,\n",
    "                        },\n",
    "                        headers={\n",
    "                            'Accept': 'application/json'\n",
    "                        }\n",
    "                       )\n",
    "response"
   ]
  },
  {
   "cell_type": "code",
   "execution_count": 12,
   "id": "imperial-congo",
   "metadata": {},
   "outputs": [
    {
     "data": {
      "text/plain": [
       "'13'"
      ]
     },
     "execution_count": 12,
     "metadata": {},
     "output_type": "execute_result"
    }
   ],
   "source": [
    "response.headers['cmr-hits']"
   ]
  },
  {
   "cell_type": "markdown",
   "id": "peripheral-static",
   "metadata": {},
   "source": [
    "Search results are contained in the __content__ part of the Response object. However, `response.content` returns information in bytes."
   ]
  },
  {
   "cell_type": "code",
   "execution_count": 13,
   "id": "hawaiian-honolulu",
   "metadata": {
    "tags": []
   },
   "outputs": [
    {
     "data": {
      "text/plain": [
       "b'{\"feed\":{\"updated\":\"2022-04-04T20:49:52.307Z\",\"id\":\"https://cmr.earthdata.nasa.gov:443/search/collections.json?has_granules=True&provider=LPDAAC_ECS&project=ECOSTRESS\",\"title\":\"ECHO dataset metadata\",\"entry\":[{\"processing_level_id\":\"2\",\"boxes\":[\"-90 -180 90 180\"],\"time_start\":\"2018-07-09T00:00:00.000Z\",\"version_id\":\"001\",\"dataset_id\":\"ECOSTRESS Land Surface Temperature and Emissivity Daily L2 Global 70m V001\",\"has_spatial_subsetting\":false,\"has_transforms\":false,\"has_variables\":false,\"data_center\":\"LPDAAC_ECS\",\"short_name\":\"ECO2LSTE\",\"organizations\":[\"LP DAAC\",\"NASA/JPL/ECOSTRESS\"],\"title\":\"ECOSTRESS Land Surface Temperature and Emissivity Daily L2 Global 70m V001\",\"coordinate_system\":\"CARTESIAN\",\"summary\":\"The ECOsystem Spaceborne Thermal Radiometer Experiment on Space Station (ECOSTRESS) mission measures the temperature of plants to better understand how much water plants need and how they respond to stress. ECOSTRESS is attached to the International Space Station (ISS) and collects data over the conterminous United States (CONUS) as well as key biomes and agricultural zones around the world and selected FLUXNET (http://fluxnet.fluxdata.org/about/) validation sites. A map of the acquisition coverage can be found on the ECOSTRESS website (https://ecostress.jpl.nasa.gov/science).\\\\r\\\\n\\\\r\\\\nThe ECO2LSTE Version 1 data product provides atmospherically corrected land surface temperature and emissivity (LST&E) values derived from five thermal infrared (TIR) bands. The ECO2LSTE data product was derived using a physics-based Temperature/Emissivity Separation (TES) algorithm. The ECO2LSTE is provided as swath data and has a spatial resolution of 70 meters (m).  The corresponding ECO1BGEO data product is required to georeference the ECO2LSTE data product. \\\\r\\\\n\\\\r\\\\nThe ECO2LSTE Version 1 data product contains layers of LST, emissivity for bands 1 through 5, quality control for LST&E, LST error, emissivity error for bands 1 through 5, wideband emissivity, and Precipitable Water Vapor (PWV). For acquisitions after May 15, 2019, data products contain data values for TIR bands 2, 4 and 5 only. TIR bands 1 and 3 contain fill values to accommodate direct streaming of data from the ISS as mentioned in the Known Issues section.\\\\r\\\\n\\\\r\\\\nData acquisition gaps: ECOSTRESS was launched on June 29, 2018 and moved to autonomous science operations on August 20, 2018 following a successful in-orbit checkout period. On September 29, 2018, ECOSTRESS experienced an anomaly with its primary mass storage unit (MSU). ECOSTRESS has a primary and secondary MSU (A and B). On December 5, 2018, the instrument was switched to the secondary MSU and science operations resumed. On March 14, 2019, the secondary MSU experienced a similar anomaly temporarily halting science acquisitions. On May 15, 2019, a new data acquisition approach was implemented and science acquisitions resumed. To optimize the new acquisition approach TIR bands 2, 4 and 5 are being downloaded. The data products are as previously, except the bands not downloaded contain fill values (L1 radiance and L2 emissivity).\",\"service_features\":{\"opendap\":{\"has_formats\":false,\"has_variables\":false,\"has_transforms\":false,\"has_spatial_subsetting\":false,\"has_temporal_subsetting\":false},\"esi\":{\"has_formats\":false,\"has_variables\":false,\"has_transforms\":false,\"has_spatial_subsetting\":false,\"has_temporal_subsetting\":false},\"harmony\":{\"has_formats\":false,\"has_variables\":false,\"has_transforms\":false,\"has_spatial_subsetting\":false,\"has_temporal_subsetting\":false}},\"orbit_parameters\":{},\"id\":\"C1534729776-LPDAAC_ECS\",\"has_formats\":false,\"score\":1.32,\"consortiums\":[\"GEOSS\",\"EOSDIS\"],\"original_format\":\"UMM_JSON\",\"archive_center\":\"LP DAAC\",\"has_temporal_subsetting\":false,\"browse_flag\":true,\"platforms\":[\"ISS\"],\"online_access_flag\":true,\"links\":[{\"rel\":\"http://esipfed.org/ns/fedsearch/1.1/data#\",\"hreflang\":\"en-US\",\"href\":\"https://search.earthdata.nasa.gov/search?q=C1534729776-LPDAAC_ECS\"},{\"rel\":\"http://esipfed.org/ns/fedsearch/1.1/data#\",\"hreflang\":\"en-US\",\"href\":\"https://e4ftl01.cr.usgs.gov/ECOSTRESS/ECO2LSTE.001/\"},{\"rel\":\"http://esipfed.org/ns/fedsearch/1.1/metadata#\",\"hreflang\":\"en-US\",\"href\":\"https://doi.org/10.5067/ECOSTRESS/ECO2LSTE.001\"},{\"rel\":\"http://esipfed.org/ns/fedsearch/1.1/metadata#\",\"hreflang\":\"en-US\",\"href\":\"https://lpdaac.usgs.gov/\"},{\"rel\":\"http://esipfed.org/ns/fedsearch/1.1/documentation#\",\"hreflang\":\"en-US\",\"href\":\"https://lpdaac.usgs.gov/documents/423/ECO2_User_Guide_V1.pdf\"},{\"rel\":\"http://esipfed.org/ns/fedsearch/1.1/documentation#\",\"hreflang\":\"en-US\",\"href\":\"https://lpdaac.usgs.gov/documents/1324/ECO2_LSTE_ATBD_V1.pdf\"},{\"rel\":\"http://esipfed.org/ns/fedsearch/1.1/metadata#\",\"hreflang\":\"en-US\",\"href\":\"https://ecostress.jpl.nasa.gov/science\"},{\"rel\":\"http://esipfed.org/ns/fedsearch/1.1/documentation#\",\"hreflang\":\"en-US\",\"href\":\"https://lpdaac.usgs.gov/documents/380/ECO2_PSD_V1.pdf\"},{\"rel\":\"http://esipfed.org/ns/fedsearch/1.1/documentation#\",\"hreflang\":\"en-US\",\"href\":\"https://lpdaac.usgs.gov/documents/299/ECO2_ASD_V1.pdf\"},{\"rel\":\"http://esipfed.org/ns/fedsearch/1.1/documentation#\",\"hreflang\":\"en-US\",\"href\":\"https://lpdaac.usgs.gov/documents/227/ECO_Earthdata_Search_Quick_Guide.pdf\"},{\"rel\":\"http://esipfed.org/ns/fedsearch/1.1/browse#\",\"hreflang\":\"en-US\",\"href\":\"https://e4ftl01.cr.usgs.gov//WORKING/BRWS/Browse.001/2020.10.29/ECOSTRESS_L2_LSTE_13110_011_20201028T103433_0601_01.1.jpg\"},{\"rel\":\"http://esipfed.org/ns/fedsearch/1.1/data#\",\"hreflang\":\"en-US\",\"href\":\"https://appeears.earthdatacloud.nasa.gov/\"},{\"rel\":\"http://esipfed.org/ns/fedsearch/1.1/data#\",\"hreflang\":\"en-US\",\"href\":\"https://earthexplorer.usgs.gov/\"},{\"rel\":\"http://esipfed.org/ns/fedsearch/1.1/service#\",\"hreflang\":\"en-US\",\"href\":\"https://opendap.cr.usgs.gov/opendap/hyrax/ECOB/ECOSTRESS/ECO2LSTE.001/contents.html\"}]},{\"processing_level_id\":\"1B\",\"boxes\":[\"-90 -180 90 180\"],\"time_start\":\"2018-07-09T00:00:00.000Z\",\"version_id\":\"001\",\"dataset_id\":\"ECOSTRESS Geolocation Daily L1B Global 70m V001\",\"has_spatial_subsetting\":false,\"has_transforms\":false,\"has_variables\":false,\"data_center\":\"LPDAAC_ECS\",\"short_name\":\"ECO1BGEO\",\"organizations\":[\"LP DAAC\",\"NASA/JPL/ECOSTRESS\"],\"title\":\"ECOSTRESS Geolocation Daily L1B Global 70m V001\",\"coordinate_system\":\"CARTESIAN\",\"summary\":\"The ECOsystem Spaceborne Thermal Radiometer Experiment on Space Station (ECOSTRESS) mission  measures the temperature of plants to better understand how much water plants need and how they respond to stress. ECOSTRESS is attached to the International Space Station (ISS) and collects data over the conterminous United States (CONUS) as well as key biomes and agricultural zones around the world and selected FLUXNET (http://fluxnet.fluxdata.org/about/) validation sites. A map of the acquisition coverage can be found on the ECOSTRESS website (https://ecostress.jpl.nasa.gov/science). \\\\r\\\\n\\\\r\\\\nThe ECO1BGEO Version 1 data product provides the geolocation information for the radiance values retrieved in the ECO1BRAD Version 1 data product (https://doi.org/10.5067/ECOSTRESS/ECO1BRAD.001). The ECO1BGEO data product should be used to georeference the ECO1BRAD, ECO2CLD, ECO2LSTE, ECO3ANCQA, ECO3ETPTJPL, ECO4ESIPTJPL, ECO4WUE data products. The geolocation processing corrects the ISS-reported ephemeris and attitude data by image matching with a global ortho-base derived from Landsat data, and then assigns latitude and longitude values to each of the Level 1 radiance pixels. When image matching is successful, the data are geolocated to better than 50 meter (m) accuracy. The ECO1BGEO data product is provided as swath data.\\\\r\\\\n\\\\r\\\\nThe ECO1BGEO data product contains data layers for latitude and longitude values, solar and view geometry information, surface height, and the fraction of pixel on land versus water.\\\\r\\\\n\\\\r\\\\nData acquisition gaps:  ECOSTRESS was launched on June 29, 2018 and moved to autonomous science operations on August 20, 2018 following a successful in-orbit checkout period. On September 29, 2018, ECOSTRESS experienced an anomaly with its primary mass storage unit (MSU). ECOSTRESS has a primary and secondary MSU (A and B). On December 5, 2018, the instrument was switched to the secondary MSU and science operations resumed. On March 14, 2019, the secondary MSU experienced a similar anomaly temporarily halting science acquisitions. On May 15, 2019, a new data acquisition approach was implemented and science acquisitions resumed. To optimize the new acquisition approach TIR bands 2, 4 and 5 are being downloaded. The data products are as previously, except the bands not downloaded contain fill values (L1 radiance and L2 emissivity).\",\"service_features\":{\"opendap\":{\"has_formats\":false,\"has_variables\":false,\"has_transforms\":false,\"has_spatial_subsetting\":false,\"has_temporal_subsetting\":false},\"esi\":{\"has_formats\":false,\"has_variables\":false,\"has_transforms\":false,\"has_spatial_subsetting\":false,\"has_temporal_subsetting\":false},\"harmony\":{\"has_formats\":false,\"has_variables\":false,\"has_transforms\":false,\"has_spatial_subsetting\":false,\"has_temporal_subsetting\":false}},\"orbit_parameters\":{},\"id\":\"C1534584923-LPDAAC_ECS\",\"has_formats\":false,\"score\":1.32,\"consortiums\":[\"GEOSS\",\"EOSDIS\"],\"original_format\":\"UMM_JSON\",\"archive_center\":\"LP DAAC\",\"has_temporal_subsetting\":false,\"browse_flag\":false,\"platforms\":[\"ISS\"],\"online_access_flag\":true,\"links\":[{\"rel\":\"http://esipfed.org/ns/fedsearch/1.1/data#\",\"hreflang\":\"en-US\",\"href\":\"https://search.earthdata.nasa.gov/search?q=C1534584923-LPDAAC_ECS\"},{\"rel\":\"http://esipfed.org/ns/fedsearch/1.1/data#\",\"hreflang\":\"en-US\",\"href\":\"https://e4ftl01.cr.usgs.gov/ECOSTRESS/ECO1BGEO.001/\"},{\"rel\":\"http://esipfed.org/ns/fedsearch/1.1/metadata#\",\"hreflang\":\"en-US\",\"href\":\"https://lpdaac.usgs.gov/\"},{\"rel\":\"http://esipfed.org/ns/fedsearch/1.1/metadata#\",\"hreflang\":\"en-US\",\"href\":\"https://doi.org/10.5067/ECOSTRESS/ECO1BGEO.001\"},{\"rel\":\"http://esipfed.org/ns/fedsearch/1.1/documentation#\",\"hreflang\":\"en-US\",\"href\":\"https://lpdaac.usgs.gov/documents/1323/ECO1B_User_Guide_V1.pdf\"},{\"rel\":\"http://esipfed.org/ns/fedsearch/1.1/metadata#\",\"hreflang\":\"en-US\",\"href\":\"https://ecostress.jpl.nasa.gov/science\"},{\"rel\":\"http://esipfed.org/ns/fedsearch/1.1/documentation#\",\"hreflang\":\"en-US\",\"href\":\"https://lpdaac.usgs.gov/documents/222/ECO1B_Calibration_ATBD_V1.pdf\"},{\"rel\":\"http://esipfed.org/ns/fedsearch/1.1/documentation#\",\"hreflang\":\"en-US\",\"href\":\"https://lpdaac.usgs.gov/documents/223/ECO1B_Geolocation_ATBD_V1.pdf\"},{\"rel\":\"http://esipfed.org/ns/fedsearch/1.1/documentation#\",\"hreflang\":\"en-US\",\"href\":\"https://lpdaac.usgs.gov/documents/1321/ECO1B_PSD_V1.pdf\"},{\"rel\":\"http://esipfed.org/ns/fedsearch/1.1/documentation#\",\"hreflang\":\"en-US\",\"href\":\"https://lpdaac.usgs.gov/documents/225/ECO1B_Rad_ASD_V1.pdf\"},{\"rel\":\"http://esipfed.org/ns/fedsearch/1.1/documentation#\",\"hreflang\":\"en-US\",\"href\":\"https://lpdaac.usgs.gov/documents/226/ECO1B_Geo_ASD_V1.pdf\"},{\"rel\":\"http://esipfed.org/ns/fedsearch/1.1/documentation#\",\"hreflang\":\"en-US\",\"href\":\"https://lpdaac.usgs.gov/documents/227/ECO_Earthdata_Search_Quick_Guide.pdf\"},{\"rel\":\"http://esipfed.org/ns/fedsearch/1.1/data#\",\"hreflang\":\"en-US\",\"href\":\"https://earthexplorer.usgs.gov/\"},{\"rel\":\"http://esipfed.org/ns/fedsearch/1.1/data#\",\"hreflang\":\"en-US\",\"href\":\"https://appeears.earthdatacloud.nasa.gov/\"},{\"rel\":\"http://esipfed.org/ns/fedsearch/1.1/service#\",\"hreflang\":\"en-US\",\"href\":\"https://opendap.cr.usgs.gov/opendap/hyrax/ECOA/ECOSTRESS/ECO1BGEO.001/contents.html\"}]},{\"processing_level_id\":\"3\",\"boxes\":[\"23 -127 52 -65\"],\"time_start\":\"2018-07-15T00:00:00.000Z\",\"version_id\":\"001\",\"dataset_id\":\"ECOSTRESS Evapotranspiration dis-ALEXI Daily L3 CONUS 70 m V001\",\"has_spatial_subsetting\":true,\"has_transforms\":true,\"associations\":{\"services\":[\"S1568897323-LPDAAC_ECS\"]},\"has_variables\":true,\"data_center\":\"LPDAAC_ECS\",\"short_name\":\"ECO3ETALEXI\",\"organizations\":[\"LP DAAC\",\"NASA/JPL/ECOSTRESS\"],\"title\":\"ECOSTRESS Evapotranspiration dis-ALEXI Daily L3 CONUS 70 m V001\",\"coordinate_system\":\"CARTESIAN\",\"summary\":\"The ECOsystem Spaceborne Thermal Radiometer Experiment on Space Station (ECOSTRESS) mission measures the temperature of plants to better understand how much water plants need and how they respond to stress. ECOSTRESS is attached to the International Space Station (ISS) and collects data over the conterminous United States (CONUS) as well as key biomes and agricultural zones around the world and selected FLUXNET (http://fluxnet.fluxdata.org/about/) validation sites. A map of the acquisition coverage can be found on the ECOSTRESS website (https://ecostress.jpl.nasa.gov/science).\\\\r\\\\n\\\\r\\\\nThe NASA Jet Propulsion Laboratory (JPL) ECO3ETALEXI Version 1 data product provides estimates of daily evapotranspiration (ET) using the ECOSTRESS Level 2 (L2) land surface temperature and emissivity (LST&E) product, along with ancillary meteorological data and remotely sensed vegetation cover information. The ECO3ETALEXI data product is derived using a physics-based surface energy balance (SEB) algorithm, the Atmosphere Land Exchange Inverse (ALEXI) Disaggregation algorithm (DisALEXI). Described in the Algorithm Theoretical Basis Document (ATBD) (https://lpdaac.usgs.gov/documents/1000/ECO3ETALEXI_ATBD_V1.pdf), DisALEXI is based on spatial disaggregation of regional-scale fluxes from the ALEXI SEB model. There are many approaches for spatially mapping ET; however, SEB methods are favored for remote sensing retrievals based on land-surface temperature. ALEXI was initially developed for managed landscapes and has now been evaluated in comparison with micrometeorological flux tower observations over crop, forest, grassland, wetland, and semiarid desert sites. Applications include crop water use, crop phenology monitoring, and drought early warning or water stress detection. ECO3ETALEXI is available for CONUS at 70-meter (m) pixel resolution.\\\\r\\\\n\\\\r\\\\nThe ECO3ETALEXI Version 1 data product contains layers of daily ET, ET uncertainty, and associated quality flags. A low-resolution browse is also available showing daily ET as a stretched image with a color ramp in JPEG format.\\\\r\\\\n\",\"service_features\":{\"opendap\":{\"has_formats\":false,\"has_variables\":false,\"has_transforms\":false,\"has_spatial_subsetting\":false,\"has_temporal_subsetting\":false},\"esi\":{\"has_formats\":false,\"has_variables\":false,\"has_transforms\":false,\"has_spatial_subsetting\":false,\"has_temporal_subsetting\":false},\"harmony\":{\"has_formats\":false,\"has_variables\":false,\"has_transforms\":false,\"has_spatial_subsetting\":false,\"has_temporal_subsetting\":false}},\"orbit_parameters\":{},\"id\":\"C1639530522-LPDAAC_ECS\",\"has_formats\":false,\"score\":1.32,\"consortiums\":[\"GEOSS\",\"EOSDIS\"],\"original_format\":\"UMM_JSON\",\"archive_center\":\"LP DAAC\",\"has_temporal_subsetting\":true,\"browse_flag\":true,\"platforms\":[\"ISS\"],\"online_access_flag\":true,\"links\":[{\"rel\":\"http://esipfed.org/ns/fedsearch/1.1/data#\",\"hreflang\":\"en-US\",\"href\":\"https://search.earthdata.nasa.gov/search?q=C1639530522-LPDAAC_ECS\"},{\"rel\":\"http://esipfed.org/ns/fedsearch/1.1/data#\",\"hreflang\":\"en-US\",\"href\":\"https://e4ftl01.cr.usgs.gov/ECOSTRESS/ECO3ETALEXI.001/\"},{\"rel\":\"http://esipfed.org/ns/fedsearch/1.1/metadata#\",\"hreflang\":\"en-US\",\"href\":\"https://doi.org/10.5067/ECOSTRESS/ECO3ETALEXI.001\"},{\"rel\":\"http://esipfed.org/ns/fedsearch/1.1/metadata#\",\"hreflang\":\"en-US\",\"href\":\"https://lpdaac.usgs.gov/\"},{\"rel\":\"http://esipfed.org/ns/fedsearch/1.1/documentation#\",\"hreflang\":\"en-US\",\"href\":\"https://lpdaac.usgs.gov/documents/999/ECO3ETALEXI_User_Guide_V1.pdf\"},{\"rel\":\"http://esipfed.org/ns/fedsearch/1.1/documentation#\",\"hreflang\":\"en-US\",\"href\":\"https://lpdaac.usgs.gov/documents/1000/ECO3ETALEXI_ATBD_V1.pdf\"},{\"rel\":\"http://esipfed.org/ns/fedsearch/1.1/documentation#\",\"hreflang\":\"en-US\",\"href\":\"https://lpdaac.usgs.gov/documents/227/ECO_Earthdata_Search_Quick_Guide.pdf\"},{\"rel\":\"http://esipfed.org/ns/fedsearch/1.1/browse#\",\"hreflang\":\"en-US\",\"href\":\"https://e4ftl01.cr.usgs.gov//WORKING/BRWS/Browse.001/2020.10.25/ECOSTRESS_L3_ET_ALEXI_12977_012_20201019T204204_0601_01.1.jpg\"},{\"rel\":\"http://esipfed.org/ns/fedsearch/1.1/data#\",\"hreflang\":\"en-US\",\"href\":\"https://appeears.earthdatacloud.nasa.gov/\"}]},{\"processing_level_id\":\"2\",\"boxes\":[\"-90 -180 90 180\"],\"time_start\":\"2018-07-09T00:00:00.000Z\",\"version_id\":\"001\",\"dataset_id\":\"ECOSTRESS Cloud Mask Daily L2 Global 70m V001\",\"has_spatial_subsetting\":false,\"has_transforms\":false,\"has_variables\":false,\"data_center\":\"LPDAAC_ECS\",\"short_name\":\"ECO2CLD\",\"organizations\":[\"LP DAAC\",\"NASA/JPL/ECOSTRESS\"],\"title\":\"ECOSTRESS Cloud Mask Daily L2 Global 70m V001\",\"coordinate_system\":\"CARTESIAN\",\"summary\":\"The ECOsystem Spaceborne Thermal Radiometer Experiment on Space Station (ECOSTRESS) mission measures the temperature of plants to better understand how much water plants need and how they respond to stress. ECOSTRESS is attached to the International Space Station (ISS) and collects data over the conterminous United States (CONUS) as well as key biomes and agricultural zones around the world and selected FLUXNET (http://fluxnet.fluxdata.org/about/) validation sites. A map of the acquisition coverage can be found on the ECOSTRESS website (https://ecostress.jpl.nasa.gov/science).\\\\r\\\\n\\\\r\\\\nThe ECO2CLD Version 1 data product provides a cloud mask that can be used to determine cloud cover for the ECO1BRAD, ECO2LSTE, ECO3ETPTJPL, ECO4ESIPTJPL, and ECO4WUE data products. The ECOSTRESS Level 2 cloud product is derived using the five calibrated thermal bands in a multispectral cloud-conservative thresholding approach. The details of the algorithm are provided in the Algorithm Theoretical Basis Document (ATBD). The corresponding ECO1BGEO (https://doi.org/10.5067/ECOSTRESS/ECO1BGEO.001) data product is required to georeference the ECO2CLD data product.\\\\r\\\\n\\\\r\\\\nThe ECO2CLD Version 1 data product contains a single cloud mask layer. Information on how to interpret the bit fields in the cloud mask is provided in section 3.1 of the User Guide.\\\\r\\\\n\\\\r\\\\nData acquisition gaps: ECOSTRESS was launched on June 29, 2018 and moved to autonomous science operations on August 20, 2018 following a successful in-orbit checkout period. On September 29, 2018, ECOSTRESS experienced an anomaly with its primary mass storage unit (MSU). ECOSTRESS has a primary and secondary MSU (A and B). On December 5, 2018, the instrument was switched to the secondary MSU and science operations resumed. On March 14, 2019, the secondary MSU experienced a similar anomaly temporarily halting science acquisitions. On May 15, 2019, a new data acquisition approach was implemented and science acquisitions resumed. To optimize the new acquisition approach TIR bands 2, 4 and 5 are being downloaded. The data products are as previously, except the bands not downloaded contain fill values (L1 radiance and L2 emissivity).\\\\r\\\\n\",\"service_features\":{\"opendap\":{\"has_formats\":false,\"has_variables\":false,\"has_transforms\":false,\"has_spatial_subsetting\":false,\"has_temporal_subsetting\":false},\"esi\":{\"has_formats\":false,\"has_variables\":false,\"has_transforms\":false,\"has_spatial_subsetting\":false,\"has_temporal_subsetting\":false},\"harmony\":{\"has_formats\":false,\"has_variables\":false,\"has_transforms\":false,\"has_spatial_subsetting\":false,\"has_temporal_subsetting\":false}},\"orbit_parameters\":{},\"id\":\"C1534730833-LPDAAC_ECS\",\"has_formats\":false,\"score\":1.32,\"consortiums\":[\"GEOSS\",\"EOSDIS\"],\"original_format\":\"UMM_JSON\",\"archive_center\":\"LP DAAC\",\"has_temporal_subsetting\":false,\"browse_flag\":true,\"platforms\":[\"ISS\"],\"online_access_flag\":true,\"links\":[{\"rel\":\"http://esipfed.org/ns/fedsearch/1.1/data#\",\"hreflang\":\"en-US\",\"href\":\"https://search.earthdata.nasa.gov/search?q=C1534730833-LPDAAC_ECS\"},{\"rel\":\"http://esipfed.org/ns/fedsearch/1.1/data#\",\"hreflang\":\"en-US\",\"href\":\"https://e4ftl01.cr.usgs.gov/ECOSTRESS/ECO2CLD.001/\"},{\"rel\":\"http://esipfed.org/ns/fedsearch/1.1/metadata#\",\"hreflang\":\"en-US\",\"href\":\"https://doi.org/10.5067/ECOSTRESS/ECO2CLD.001\"},{\"rel\":\"http://esipfed.org/ns/fedsearch/1.1/metadata#\",\"hreflang\":\"en-US\",\"href\":\"https://lpdaac.usgs.gov/\"},{\"rel\":\"http://esipfed.org/ns/fedsearch/1.1/documentation#\",\"hreflang\":\"en-US\",\"href\":\"https://lpdaac.usgs.gov/documents/423/ECO2_User_Guide_V1.pdf\"},{\"rel\":\"http://esipfed.org/ns/fedsearch/1.1/documentation#\",\"hreflang\":\"en-US\",\"href\":\"https://lpdaac.usgs.gov/documents/296/ECO2_Cloud_ATBD_V1.pdf\"},{\"rel\":\"http://esipfed.org/ns/fedsearch/1.1/metadata#\",\"hreflang\":\"en-US\",\"href\":\"https://ecostress.jpl.nasa.gov/science\"},{\"rel\":\"http://esipfed.org/ns/fedsearch/1.1/documentation#\",\"hreflang\":\"en-US\",\"href\":\"https://lpdaac.usgs.gov/documents/380/ECO2_PSD_V1.pdf\"},{\"rel\":\"http://esipfed.org/ns/fedsearch/1.1/documentation#\",\"hreflang\":\"en-US\",\"href\":\"https://lpdaac.usgs.gov/documents/299/ECO2_ASD_V1.pdf\"},{\"rel\":\"http://esipfed.org/ns/fedsearch/1.1/documentation#\",\"hreflang\":\"en-US\",\"href\":\"https://lpdaac.usgs.gov/documents/227/ECO_Earthdata_Search_Quick_Guide.pdf\"},{\"rel\":\"http://esipfed.org/ns/fedsearch/1.1/browse#\",\"hreflang\":\"en-US\",\"href\":\"https://e4ftl01.cr.usgs.gov//WORKING/BRWS/Browse.001/2020.10.29/ECOSTRESS_L2_CLOUD_13108_017_20201028T073252_0601_01.1.jpg\"},{\"rel\":\"http://esipfed.org/ns/fedsearch/1.1/data#\",\"hreflang\":\"en-US\",\"href\":\"https://appeears.earthdatacloud.nasa.gov/\"},{\"rel\":\"http://esipfed.org/ns/fedsearch/1.1/data#\",\"hreflang\":\"en-US\",\"href\":\"https://earthexplorer.usgs.gov/\"},{\"rel\":\"http://esipfed.org/ns/fedsearch/1.1/service#\",\"hreflang\":\"en-US\",\"href\":\"https://opendap.cr.usgs.gov/opendap/hyrax/ECOB/ECOSTRESS/ECO2CLD.001/contents.html\"}]},{\"processing_level_id\":\"3\",\"boxes\":[\"-90 -180 90 180\"],\"time_start\":\"2018-07-15T00:00:00.000Z\",\"version_id\":\"001\",\"dataset_id\":\"ECOSTRESS Evapotranspiration PT-JPL Daily L3 Global 70m V001\",\"has_spatial_subsetting\":false,\"has_transforms\":false,\"has_variables\":false,\"data_center\":\"LPDAAC_ECS\",\"short_name\":\"ECO3ETPTJPL\",\"organizations\":[\"LP DAAC\",\"NASA/JPL/ECOSTRESS\"],\"title\":\"ECOSTRESS Evapotranspiration PT-JPL Daily L3 Global 70m V001\",\"coordinate_system\":\"CARTESIAN\",\"summary\":\"The ECOsystem Spaceborne Thermal Radiometer Experiment on Space Station (ECOSTRESS) mission measures the temperature of plants to better understand how much water plants need and how they respond to stress. ECOSTRESS is attached to the International Space Station (ISS) and collects data over the conterminous United States (CONUS) as well as key biomes and agricultural zones around the world and selected FLUXNET (http://fluxnet.fluxdata.org/about/) validation sites. A map of the acquisition coverage can be found on the ECOSTRESS website (https://ecostress.jpl.nasa.gov/science).\\\\r\\\\n\\\\r\\\\nECO3ETPTJPL Version 1 is a Level 3 (L3) product that provides evapotranspiration (ET) generated from data acquired by the ECOSTRESS radiometer instrument according to the Priestly-Taylor Jet Propulsion Laboratory (PT-JPL) algorithm described in the Algorithm Theoretical Basis Document (ATBD) (https://lpdaac.usgs.gov/documents/335/ECO3ETPTJPL_ATBD_V1.pdf). The ET product is generated from the Level 2 data products for surface temperature and emissivity, the Level 1 geolocation information, and a significant number of ancillary data inputs from other sources.  ET is set by various controls, including radiative and atmospheric demand, and environmental sensitivity, productivity, vegetation physiology, and phenology. PT-JPL is best utilized for natural ecosystems. The L3 ET product is used for creating the Level 4 products, Evaporative Stress Index (ESI) and Water Use Efficiency (WUE).\\\\r\\\\n\\\\r\\\\nThe ECO3ETPTJPL Version 1 data product contains layers of instantaneous ET, daily ET, canopy transpiration, soil evaporation, ET uncertainty, and interception evaporation. \\\\r\\\\n\\\\r\\\\nData acquisition gaps: ECOSTRESS was launched on June 29, 2018 and moved to autonomous science operations on August 20, 2018 following a successful in-orbit checkout period. On September 29, 2018, ECOSTRESS experienced an anomaly with its primary mass storage unit (MSU). ECOSTRESS has a primary and secondary MSU (A and B). On December 5, 2018, the instrument was switched to the secondary MSU and science operations resumed. On March 14, 2019, the secondary MSU experienced a similar anomaly temporarily halting science acquisitions. On May 15, 2019, a new data acquisition approach was implemented and science acquisitions resumed. To optimize the new acquisition approach TIR bands 2, 4 and 5 are being downloaded. The data products are as previously, except the bands not downloaded contain fill values (L1 radiance and L2 emissivity).\",\"service_features\":{\"opendap\":{\"has_formats\":false,\"has_variables\":false,\"has_transforms\":false,\"has_spatial_subsetting\":false,\"has_temporal_subsetting\":false},\"esi\":{\"has_formats\":false,\"has_variables\":false,\"has_transforms\":false,\"has_spatial_subsetting\":false,\"has_temporal_subsetting\":false},\"harmony\":{\"has_formats\":false,\"has_variables\":false,\"has_transforms\":false,\"has_spatial_subsetting\":false,\"has_temporal_subsetting\":false}},\"orbit_parameters\":{},\"id\":\"C1534730469-LPDAAC_ECS\",\"has_formats\":false,\"score\":1.32,\"consortiums\":[\"GEOSS\",\"EOSDIS\"],\"original_format\":\"UMM_JSON\",\"archive_center\":\"LP DAAC\",\"has_temporal_subsetting\":false,\"browse_flag\":true,\"platforms\":[\"ISS\"],\"online_access_flag\":true,\"links\":[{\"rel\":\"http://esipfed.org/ns/fedsearch/1.1/data#\",\"hreflang\":\"en-US\",\"href\":\"https://search.earthdata.nasa.gov/search?q=C1534730469-LPDAAC_ECS\"},{\"rel\":\"http://esipfed.org/ns/fedsearch/1.1/data#\",\"hreflang\":\"en-US\",\"href\":\"https://e4ftl01.cr.usgs.gov/ECOSTRESS/ECO3ETPTJPL.001/\"},{\"rel\":\"http://esipfed.org/ns/fedsearch/1.1/metadata#\",\"hreflang\":\"en-US\",\"href\":\"https://doi.org/10.5067/ECOSTRESS/ECO3ETPTJPL.001\"},{\"rel\":\"http://esipfed.org/ns/fedsearch/1.1/metadata#\",\"hreflang\":\"en-US\",\"href\":\"https://lpdaac.usgs.gov/\"},{\"rel\":\"http://esipfed.org/ns/fedsearch/1.1/documentation#\",\"hreflang\":\"en-US\",\"href\":\"https://lpdaac.usgs.gov/documents/424/ECO3ETPTJPL_User_Guide_V1.pdf\"},{\"rel\":\"http://esipfed.org/ns/fedsearch/1.1/documentation#\",\"hreflang\":\"en-US\",\"href\":\"https://lpdaac.usgs.gov/documents/335/ECO3ETPTJPL_ATBD_V1.pdf\"},{\"rel\":\"http://esipfed.org/ns/fedsearch/1.1/documentation#\",\"hreflang\":\"en-US\",\"href\":\"https://lpdaac.usgs.gov/documents/381/ECO3ETPTJPL_PSD_V1.pdf\"},{\"rel\":\"http://esipfed.org/ns/fedsearch/1.1/documentation#\",\"hreflang\":\"en-US\",\"href\":\"https://lpdaac.usgs.gov/documents/334/ECO3ETPTJPL_ASD_V1.pdf\"},{\"rel\":\"http://esipfed.org/ns/fedsearch/1.1/documentation#\",\"hreflang\":\"en-US\",\"href\":\"https://lpdaac.usgs.gov/documents/227/ECO_Earthdata_Search_Quick_Guide.pdf\"},{\"rel\":\"http://esipfed.org/ns/fedsearch/1.1/browse#\",\"hreflang\":\"en-US\",\"href\":\"https://e4ftl01.cr.usgs.gov//WORKING/BRWS/Browse.001/2020.10.29/ECOSTRESS_L3_ET_PT-JPL_13106_013_20201028T044524_0601_01.1.jpg\"},{\"rel\":\"http://esipfed.org/ns/fedsearch/1.1/data#\",\"hreflang\":\"en-US\",\"href\":\"https://appeears.earthdatacloud.nasa.gov/\"},{\"rel\":\"http://esipfed.org/ns/fedsearch/1.1/data#\",\"hreflang\":\"en-US\",\"href\":\"https://earthexplorer.usgs.gov/\"},{\"rel\":\"http://esipfed.org/ns/fedsearch/1.1/service#\",\"hreflang\":\"en-US\",\"href\":\"https://opendap.cr.usgs.gov/opendap/hyrax/ECOB/ECOSTRESS/ECO3ETPTJPL.001/contents.html\"}]},{\"processing_level_id\":\"1B\",\"boxes\":[\"-90 -180 90 180\"],\"time_start\":\"2018-07-09T00:00:00.000Z\",\"version_id\":\"001\",\"dataset_id\":\"ECOSTRESS Resampled Radiance Daily L1B Global 70m V001\",\"has_spatial_subsetting\":false,\"has_transforms\":false,\"has_variables\":false,\"data_center\":\"LPDAAC_ECS\",\"short_name\":\"ECO1BMAPRAD\",\"organizations\":[\"LP DAAC\",\"NASA/JPL/ECOSTRESS\"],\"title\":\"ECOSTRESS Resampled Radiance Daily L1B Global 70m V001\",\"coordinate_system\":\"CARTESIAN\",\"summary\":\"The ECOsystem Spaceborne Thermal Radiometer Experiment on Space Station (ECOSTRESS) mission  measures the temperature of plants to better understand how much water plants need and how they respond to stress. ECOSTRESS is attached to the International Space Station (ISS) and collects data over the conterminous United States (CONUS) as well as key biomes and agricultural zones around the world and selected FLUXNET (http://fluxnet.fluxdata.org/about/) validation sites. A map of the acquisition coverage can be found on the ECOSTRESS website (https://ecostress.jpl.nasa.gov/science). \\\\r\\\\n\\\\r\\\\nThe ECO1BMAPRAD Version 1 data product combines the at-sensor calibrated radiance values retrieved for the ECO1BRAD (https://doi.org/10.5067/ECOSTRESS/ECO1BRAD.001) data product and the geolocation information provided in the ECO1BGEO (https://doi.org/10.5067/ECOSTRESS/ECO1BGEO.001) data product to produce a geotagged, resampled radiance product.  The ECO1BMAPRAD data product is produced as a map registered product that is in a rotated geographic projection with a spatial resolution of 70 m. The ECO1BMAPRAD data product accounts for the overlap and variable pixel size in the ECO1BRAD data product.\\\\r\\\\n\\\\r\\\\nThe ECO1BMAPRAD Version 1 data product contains data layers including the radiance values for the five thermal infrared (TIR) bands, digital number (DN) values for the shortwave infrared (SWIR) band, associated data quality indicators, latitude and longitude values, solar and view geometry information, and surface height.\\\\r\\\\n\\\\r\\\\nThe ECO1BMAPRAD Version 1 data product contains data layers including the radiance values for the five thermal infrared (TIR) bands, digital number (DN) values for the shortwave infrared (SWIR) band, associated data quality indicators, latitude and longitude values, solar and view geometry information, and surface height. For acquisitions after May 15, 2019, data products contain data values for the 8.785 \\xce\\xbcm, 10.522 \\xce\\xbcm, and 12.001 \\xce\\xbcm (TIR) bands only. The 1.6 \\xce\\xbcm (SWIR), 8.285 \\xce\\xbcm (TIR), and 9.060 \\xce\\xbcm (TIR) bands contain fill values to accommodate direct streaming of data from the ISS as mentioned in the Known Issues section.\\\\r\\\\n\\\\r\\\\nData acquisition gaps: ECOSTRESS was launched on June 29, 2018 and moved to autonomous science operations on August 20, 2018 following a successful in-orbit checkout period. On September 29, 2018, ECOSTRESS experienced an anomaly with its primary mass storage unit (MSU). ECOSTRESS has a primary and secondary MSU (A and B). On December 5, 2018, the instrument was switched to the secondary MSU and science operations resumed. On March 14, 2019, the secondary MSU experienced a similar anomaly temporarily halting science acquisitions. On May 15, 2019, a new data acquisition approach was implemented and science acquisitions resumed. To optimize the new acquisition approach TIR bands 2, 4 and 5 are being downloaded. The data products are as previously, except the bands not downloaded contain fill values (L1 radiance and L2 emissivity).\",\"service_features\":{\"opendap\":{\"has_formats\":false,\"has_variables\":false,\"has_transforms\":false,\"has_spatial_subsetting\":false,\"has_temporal_subsetting\":false},\"esi\":{\"has_formats\":false,\"has_variables\":false,\"has_transforms\":false,\"has_spatial_subsetting\":false,\"has_temporal_subsetting\":false},\"harmony\":{\"has_formats\":false,\"has_variables\":false,\"has_transforms\":false,\"has_spatial_subsetting\":false,\"has_temporal_subsetting\":false}},\"orbit_parameters\":{},\"id\":\"C1545228916-LPDAAC_ECS\",\"has_formats\":false,\"score\":1.32,\"consortiums\":[\"GEOSS\",\"EOSDIS\"],\"original_format\":\"UMM_JSON\",\"archive_center\":\"LP DAAC\",\"has_temporal_subsetting\":false,\"browse_flag\":true,\"platforms\":[\"ISS\"],\"online_access_flag\":true,\"links\":[{\"rel\":\"http://esipfed.org/ns/fedsearch/1.1/data#\",\"hreflang\":\"en-US\",\"href\":\"https://search.earthdata.nasa.gov/search?q=C1545228916-LPDAAC_ECS\"},{\"rel\":\"http://esipfed.org/ns/fedsearch/1.1/data#\",\"hreflang\":\"en-US\",\"href\":\"https://e4ftl01.cr.usgs.gov/ECOSTRESS/ECO1BMAPRAD.001/\"},{\"rel\":\"http://esipfed.org/ns/fedsearch/1.1/metadata#\",\"hreflang\":\"en-US\",\"href\":\"https://lpdaac.usgs.gov/\"},{\"rel\":\"http://esipfed.org/ns/fedsearch/1.1/metadata#\",\"hreflang\":\"en-US\",\"href\":\"https://doi.org/10.5067/ECOSTRESS/ECO1BMAPRAD.001\"},{\"rel\":\"http://esipfed.org/ns/fedsearch/1.1/documentation#\",\"hreflang\":\"en-US\",\"href\":\"https://lpdaac.usgs.gov/documents/1323/ECO1B_User_Guide_V1.pdf\"},{\"rel\":\"http://esipfed.org/ns/fedsearch/1.1/metadata#\",\"hreflang\":\"en-US\",\"href\":\"https://ecostress.jpl.nasa.gov/science\"},{\"rel\":\"http://esipfed.org/ns/fedsearch/1.1/documentation#\",\"hreflang\":\"en-US\",\"href\":\"https://lpdaac.usgs.gov/documents/222/ECO1B_Calibration_ATBD_V1.pdf\"},{\"rel\":\"http://esipfed.org/ns/fedsearch/1.1/documentation#\",\"hreflang\":\"en-US\",\"href\":\"https://lpdaac.usgs.gov/documents/223/ECO1B_Geolocation_ATBD_V1.pdf\"},{\"rel\":\"http://esipfed.org/ns/fedsearch/1.1/documentation#\",\"hreflang\":\"en-US\",\"href\":\"https://lpdaac.usgs.gov/documents/1321/ECO1B_PSD_V1.pdf\"},{\"rel\":\"http://esipfed.org/ns/fedsearch/1.1/documentation#\",\"hreflang\":\"en-US\",\"href\":\"https://lpdaac.usgs.gov/documents/225/ECO1B_Rad_ASD_V1.pdf\"},{\"rel\":\"http://esipfed.org/ns/fedsearch/1.1/documentation#\",\"hreflang\":\"en-US\",\"href\":\"https://lpdaac.usgs.gov/documents/226/ECO1B_Geo_ASD_V1.pdf\"},{\"rel\":\"http://esipfed.org/ns/fedsearch/1.1/documentation#\",\"hreflang\":\"en-US\",\"href\":\"https://lpdaac.usgs.gov/documents/227/ECO_Earthdata_Search_Quick_Guide.pdf\"},{\"rel\":\"http://esipfed.org/ns/fedsearch/1.1/data#\",\"hreflang\":\"en-US\",\"href\":\"https://earthexplorer.usgs.gov/\"},{\"rel\":\"http://esipfed.org/ns/fedsearch/1.1/browse#\",\"hreflang\":\"en-US\",\"href\":\"https://e4ftl01.cr.usgs.gov//WORKING/BRWS/Browse.001/2019.12.31/ECOSTRESS_L1B_MAP_RAD_08422_001_20191231T002428_0601_01.1.jpg?_ga=2.210053781.1882281295.1577729098-2066674673.1574795892\"},{\"rel\":\"http://esipfed.org/ns/fedsearch/1.1/data#\",\"hreflang\":\"en-US\",\"href\":\"https://appeears.earthdatacloud.nasa.gov/\"},{\"rel\":\"http://esipfed.org/ns/fedsearch/1.1/service#\",\"hreflang\":\"en-US\",\"href\":\"https://opendap.cr.usgs.gov/opendap/hyrax/ECOD/ECOSTRESS/ECO1BMAPRAD.001/contents.html\"}]},{\"processing_level_id\":\"1B\",\"boxes\":[\"-90 -180 90 180\"],\"time_start\":\"2018-07-09T00:00:00.000Z\",\"version_id\":\"001\",\"dataset_id\":\"ECOSTRESS At-sensor Calibrated Radiance Daily L1B Global 70m V001\",\"has_spatial_subsetting\":false,\"has_transforms\":false,\"has_variables\":false,\"data_center\":\"LPDAAC_ECS\",\"short_name\":\"ECO1BRAD\",\"organizations\":[\"LP DAAC\",\"NASA/JPL/ECOSTRESS\"],\"title\":\"ECOSTRESS At-sensor Calibrated Radiance Daily L1B Global 70m V001\",\"coordinate_system\":\"CARTESIAN\",\"summary\":\"The ECOsystem Spaceborne Thermal Radiometer Experiment on Space Station (ECOSTRESS) mission  measures the temperature of plants to better understand how much water plants need and how they respond to stress. ECOSTRESS is attached to the International Space Station (ISS) and collects data over the conterminous United States (CONUS) as well as key biomes and agricultural zones around the world and selected FLUXNET (http://fluxnet.fluxdata.org/about/) validation sites. A map of the acquisition coverage can be found on the ECOSTRESS website (https://ecostress.jpl.nasa.gov/science).\\\\r\\\\n\\\\r\\\\nThe ECO1BRAD Version 1 data product provides at-sensor calibrated radiance values retrieved for five thermal infrared (TIR) bands operating between 8 and 12.5 \\xc2\\xb5m.  Additionally, the digital numbers (DN) for the shortwave infrared (SWIR) band are provided. The TIR bands are spatially co-registered to produce a variable spatial resolution between 70 meters (m) to 90 m at the edge of the swath. The ECO1BRAD data product is provided as swath data and does not contain geolocation information. The corresponding ECO1BGEO (https://doi.org/10.5067/ECOSTRESS/ECO1BGEO.001) data product is required to georeference the ECO1BRAD data product.  The geographic coverage of acquisitions for the ECO1BRAD Version 1 data product extends to areas outside of those indicated on the coverage map. However, corresponding higher-level products over these areas are not available at this time.\\\\r\\\\n\\\\r\\\\nThe ECO1BRAD Version 1 data product contains layers of radiance values for the five TIR bands, DN values for the SWIR band, associated data quality indicators, and ancillary data. For acquisitions after May 15, 2019, data products contain data values for the 8.785 \\xce\\xbcm, 10.522 \\xce\\xbcm, and 12.001 \\xce\\xbcm (TIR) bands only. The 1.6 \\xce\\xbcm (SWIR), 8.285 \\xce\\xbcm (TIR), and 9.060 \\xce\\xbcm (TIR) bands contain fill values to accommodate direct streaming of data from the ISS as mentioned in the Known Issues section.\\\\r\\\\n\\\\r\\\\nData acquisition gaps: ECOSTRESS was launched on June 29, 2018 and moved to autonomous science operations on August 20, 2018 following a successful in-orbit checkout period. On September 29, 2018, ECOSTRESS experienced an anomaly with its primary mass storage unit (MSU). ECOSTRESS has a primary and secondary MSU (A and B). On December 5, 2018, the instrument was switched to the secondary MSU and science operations resumed. On March 14, 2019, the secondary MSU experienced a similar anomaly temporarily halting science acquisitions. On May 15, 2019, a new data acquisition approach was implemented and science acquisitions resumed. To optimize the new acquisition approach TIR bands 2, 4 and 5 are being downloaded. The data products are as previously, except the bands not downloaded contain fill values (L1 radiance and L2 emissivity).\",\"service_features\":{\"opendap\":{\"has_formats\":false,\"has_variables\":false,\"has_transforms\":false,\"has_spatial_subsetting\":false,\"has_temporal_subsetting\":false},\"esi\":{\"has_formats\":false,\"has_variables\":false,\"has_transforms\":false,\"has_spatial_subsetting\":false,\"has_temporal_subsetting\":false},\"harmony\":{\"has_formats\":false,\"has_variables\":false,\"has_transforms\":false,\"has_spatial_subsetting\":false,\"has_temporal_subsetting\":false}},\"orbit_parameters\":{},\"id\":\"C1534582789-LPDAAC_ECS\",\"has_formats\":false,\"score\":1.32,\"consortiums\":[\"GEOSS\",\"EOSDIS\"],\"original_format\":\"UMM_JSON\",\"archive_center\":\"LP DAAC\",\"has_temporal_subsetting\":false,\"browse_flag\":true,\"platforms\":[\"ISS\"],\"online_access_flag\":true,\"links\":[{\"rel\":\"http://esipfed.org/ns/fedsearch/1.1/data#\",\"hreflang\":\"en-US\",\"href\":\"https://search.earthdata.nasa.gov/search?q=C1534582789-LPDAAC_ECS\"},{\"rel\":\"http://esipfed.org/ns/fedsearch/1.1/data#\",\"hreflang\":\"en-US\",\"href\":\"https://e4ftl01.cr.usgs.gov/ECOSTRESS/ECO1BRAD.001/\"},{\"rel\":\"http://esipfed.org/ns/fedsearch/1.1/metadata#\",\"hreflang\":\"en-US\",\"href\":\"https://doi.org/10.5067/ECOSTRESS/ECO1BRAD.001\"},{\"rel\":\"http://esipfed.org/ns/fedsearch/1.1/metadata#\",\"hreflang\":\"en-US\",\"href\":\"https://lpdaac.usgs.gov/\"},{\"rel\":\"http://esipfed.org/ns/fedsearch/1.1/documentation#\",\"hreflang\":\"en-US\",\"href\":\"https://lpdaac.usgs.gov/documents/1323/ECO1B_User_Guide_V1.pdf\"},{\"rel\":\"http://esipfed.org/ns/fedsearch/1.1/metadata#\",\"hreflang\":\"en-US\",\"href\":\"https://ecostress.jpl.nasa.gov/science\"},{\"rel\":\"http://esipfed.org/ns/fedsearch/1.1/documentation#\",\"hreflang\":\"en-US\",\"href\":\"https://lpdaac.usgs.gov/documents/222/ECO1B_Calibration_ATBD_V1.pdf\"},{\"rel\":\"http://esipfed.org/ns/fedsearch/1.1/documentation#\",\"hreflang\":\"en-US\",\"href\":\"https://lpdaac.usgs.gov/documents/223/ECO1B_Geolocation_ATBD_V1.pdf\"},{\"rel\":\"http://esipfed.org/ns/fedsearch/1.1/documentation#\",\"hreflang\":\"en-US\",\"href\":\"https://lpdaac.usgs.gov/documents/1321/ECO1B_PSD_V1.pdf\"},{\"rel\":\"http://esipfed.org/ns/fedsearch/1.1/documentation#\",\"hreflang\":\"en-US\",\"href\":\"https://lpdaac.usgs.gov/documents/225/ECO1B_Rad_ASD_V1.pdf\"},{\"rel\":\"http://esipfed.org/ns/fedsearch/1.1/documentation#\",\"hreflang\":\"en-US\",\"href\":\"https://lpdaac.usgs.gov/documents/226/ECO1B_Geo_ASD_V1.pdf\"},{\"rel\":\"http://esipfed.org/ns/fedsearch/1.1/documentation#\",\"hreflang\":\"en-US\",\"href\":\"https://lpdaac.usgs.gov/documents/227/ECO_Earthdata_Search_Quick_Guide.pdf\"},{\"rel\":\"http://esipfed.org/ns/fedsearch/1.1/data#\",\"hreflang\":\"en-US\",\"href\":\"https://earthexplorer.usgs.gov/\"},{\"rel\":\"http://esipfed.org/ns/fedsearch/1.1/browse#\",\"hreflang\":\"en-US\",\"href\":\"https://e4ftl01.cr.usgs.gov//WORKING/BRWS/Browse.001/2019.12.31/ECOSTRESS_L1B_RAD_08406_001_20191229T233632_0601_01.1.jpg?_ga=2.235356801.1882281295.1577729098-2066674673.1574795892\"},{\"rel\":\"http://esipfed.org/ns/fedsearch/1.1/service#\",\"hreflang\":\"en-US\",\"href\":\"https://opendap.cr.usgs.gov/opendap/hyrax/ECOA/ECOSTRESS/ECO1BRAD.001/contents.html\"}]},{\"processing_level_id\":\"3\",\"boxes\":[\"-90 -180 90 180\"],\"time_start\":\"2018-07-15T00:00:00.000Z\",\"version_id\":\"001\",\"dataset_id\":\"ECOSTRESS L3/L4 Ancillary data Quality Assurance (QA) flags L3 Global 70m V001\",\"has_spatial_subsetting\":false,\"has_transforms\":false,\"has_variables\":false,\"data_center\":\"LPDAAC_ECS\",\"short_name\":\"ECO3ANCQA\",\"organizations\":[\"LP DAAC\",\"NASA/JPL/ECOSTRESS\"],\"title\":\"ECOSTRESS L3/L4 Ancillary data Quality Assurance (QA) flags L3 Global 70m V001\",\"coordinate_system\":\"CARTESIAN\",\"summary\":\"The ECOsystem Spaceborne Thermal Radiometer Experiment on Space Station (ECOSTRESS) mission measures the temperature of plants to better understand how much water plants need and how they respond to stress. ECOSTRESS is attached to the International Space Station (ISS) and collects data over the conterminous United States (CONUS) as well as key biomes and agricultural zones around the world and selected FLUXNET (http://fluxnet.fluxdata.org/about/) validation sites. A map of the acquisition coverage can be found on the ECOSTRESS website (https://ecostress.jpl.nasa.gov/science).\\\\r\\\\n\\\\r\\\\nThe ECO3ANCQA Version 1 is a Level 3 (L3) product that provides Quality Assessment (QA) fields for all ancillary data used in L3 and Level 4 (L4) products generated by Jet Propulsion Laboratory (JPL). No quality flags are generated for the L3 or L4 products. Instead, the quality flags of the source data products are resampled by nearest neighbor onto the geolocation of the ECOSTRESS scene. A quality flag array for each input dataset, when available, is collected into the combined QA product.\\\\r\\\\n\\\\r\\\\nThe ECO3ANCQA Version 1 data product contains layers of quality flags for ECOSTRESS cloud mask, Landsat 8, land cover type, albedo, MODIS Terra aerosol, MODIS Terra Cloud 1 km, MODIS Terra Cloud 5 km, MODIS Terra atmospheric profile, vegetation indices, MODIS Terra gross primary productivity, and MODIS water mask.\\\\r\\\\n\\\\r\\\\nData acquisition gaps: ECOSTRESS was launched on June 29, 2018 and moved to autonomous science operations on August 20, 2018 following a successful in-orbit checkout period. On September 29, 2018, ECOSTRESS experienced an anomaly with its primary mass storage unit (MSU). ECOSTRESS has a primary and secondary MSU (A and B). On December 5, 2018, the instrument was switched to the secondary MSU and science operations resumed. On March 14, 2019, the secondary MSU experienced a similar anomaly temporarily halting science acquisitions. On May 15, 2019, a new data acquisition approach was implemented and science acquisitions resumed. To optimize the new acquisition approach TIR bands 2, 4 and 5 are being downloaded. The data products are as previously, except the bands not downloaded contain fill values (L1 radiance and L2 emissivity).\",\"service_features\":{\"opendap\":{\"has_formats\":false,\"has_variables\":false,\"has_transforms\":false,\"has_spatial_subsetting\":false,\"has_temporal_subsetting\":false},\"esi\":{\"has_formats\":false,\"has_variables\":false,\"has_transforms\":false,\"has_spatial_subsetting\":false,\"has_temporal_subsetting\":false},\"harmony\":{\"has_formats\":false,\"has_variables\":false,\"has_transforms\":false,\"has_spatial_subsetting\":false,\"has_temporal_subsetting\":false}},\"orbit_parameters\":{},\"id\":\"C1534730053-LPDAAC_ECS\",\"has_formats\":false,\"score\":1.32,\"consortiums\":[\"GEOSS\",\"EOSDIS\"],\"original_format\":\"UMM_JSON\",\"archive_center\":\"LP DAAC\",\"has_temporal_subsetting\":false,\"browse_flag\":false,\"platforms\":[\"ISS\"],\"online_access_flag\":true,\"links\":[{\"rel\":\"http://esipfed.org/ns/fedsearch/1.1/data#\",\"hreflang\":\"en-US\",\"href\":\"https://search.earthdata.nasa.gov/search?q=C1534730053-LPDAAC_ECS\"},{\"rel\":\"http://esipfed.org/ns/fedsearch/1.1/data#\",\"hreflang\":\"en-US\",\"href\":\"https://e4ftl01.cr.usgs.gov/ECOSTRESS/ECO3ANCQA.001/\"},{\"rel\":\"http://esipfed.org/ns/fedsearch/1.1/metadata#\",\"hreflang\":\"en-US\",\"href\":\"https://doi.org/10.5067/ECOSTRESS/ECO3ANCQA.001\"},{\"rel\":\"http://esipfed.org/ns/fedsearch/1.1/metadata#\",\"hreflang\":\"en-US\",\"href\":\"https://lpdaac.usgs.gov/\"},{\"rel\":\"http://esipfed.org/ns/fedsearch/1.1/documentation#\",\"hreflang\":\"en-US\",\"href\":\"https://lpdaac.usgs.gov/documents/424/ECO3ETPTJPL_User_Guide_V1.pdf\"},{\"rel\":\"http://esipfed.org/ns/fedsearch/1.1/documentation#\",\"hreflang\":\"en-US\",\"href\":\"https://lpdaac.usgs.gov/documents/335/ECO3ETPTJPL_ATBD_V1.pdf\"},{\"rel\":\"http://esipfed.org/ns/fedsearch/1.1/metadata#\",\"hreflang\":\"en-US\",\"href\":\"https://doi.org/10.5067/ECOSTRESS/ECO3ANCQA.001\"},{\"rel\":\"http://esipfed.org/ns/fedsearch/1.1/documentation#\",\"hreflang\":\"en-US\",\"href\":\"https://lpdaac.usgs.gov/documents/425/ECO4ESIPTJPL_User_Guide_V1.pdf\"},{\"rel\":\"http://esipfed.org/ns/fedsearch/1.1/documentation#\",\"hreflang\":\"en-US\",\"href\":\"https://lpdaac.usgs.gov/documents/342/ECO4ESIPTJPL_ATBD_V1.pdf\"},{\"rel\":\"http://esipfed.org/ns/fedsearch/1.1/documentation#\",\"hreflang\":\"en-US\",\"href\":\"https://lpdaac.usgs.gov/documents/381/ECO3ETPTJPL_PSD_V1.pdf\"},{\"rel\":\"http://esipfed.org/ns/fedsearch/1.1/documentation#\",\"hreflang\":\"en-US\",\"href\":\"https://lpdaac.usgs.gov/documents/382/ECO4ESIPTJPL_PSD_V1.pdf\"},{\"rel\":\"http://esipfed.org/ns/fedsearch/1.1/documentation#\",\"hreflang\":\"en-US\",\"href\":\"https://lpdaac.usgs.gov/documents/227/ECO_Earthdata_Search_Quick_Guide.pdf\"},{\"rel\":\"http://esipfed.org/ns/fedsearch/1.1/data#\",\"hreflang\":\"en-US\",\"href\":\"https://appeears.earthdatacloud.nasa.gov/\"},{\"rel\":\"http://esipfed.org/ns/fedsearch/1.1/data#\",\"hreflang\":\"en-US\",\"href\":\"https://earthexplorer.usgs.gov/\"},{\"rel\":\"http://esipfed.org/ns/fedsearch/1.1/service#\",\"hreflang\":\"en-US\",\"href\":\"https://opendap.cr.usgs.gov/opendap/hyrax/ECOB/ECOSTRESS/ECO2LSTE.001/contents.html\"}]},{\"processing_level_id\":\"3\",\"boxes\":[\"-90 -180 90 180\"],\"time_start\":\"2018-07-30T00:00:00.000Z\",\"version_id\":\"001\",\"dataset_id\":\"ECOSTRESS Evapotranspiration dis-ALEXI USDA Daily L3 Global 30m V001\",\"has_spatial_subsetting\":false,\"has_transforms\":false,\"has_variables\":false,\"data_center\":\"LPDAAC_ECS\",\"short_name\":\"ECO3ETALEXIU\",\"organizations\":[\"LP DAAC\",\"NASA/JPL/ECOSTRESS\"],\"title\":\"ECOSTRESS Evapotranspiration dis-ALEXI USDA Daily L3 Global 30m V001\",\"coordinate_system\":\"CARTESIAN\",\"summary\":\"The ECOsystem Spaceborne Thermal Radiometer Experiment on Space Station (ECOSTRESS) mission measures the temperature of plants to better understand how much water plants need and how they respond to stress. ECOSTRESS is attached to the International Space Station (ISS) and collects data over the conterminous United States (CONUS) as well as key biomes and agricultural zones around the world and selected [FLUXNET](http://fluxnet.fluxdata.org/about/) validation sites. A map of the acquisition coverage can be found on the ECOSTRESS website (https://ecostress.jpl.nasa.gov/science).\\\\r\\\\n\\\\r\\\\nThe United States Department of Agriculture (USDA) ECO3ETALEXIU Version 1 data product provides estimates of daily evapotranspiration (ET) using the ECOSTRESS Level 2 (L2) land surface temperature and emissivity (LST&E) product, along with ancillary meteorological data and remotely sensed vegetation cover information. The ECO3ETALEXIU data product is derived using a physics-based surface energy balance (SEB) algorithm, the Atmosphere Land Exchange Inverse (ALEXI) Disaggregation algorithm (disALEXI). Described in the Algorithm Theoretical Basis Document (ATBD) (https://lpdaac.usgs.gov/documents/332/ECO3ETALEXIU_ATBD_V1.pdf), disALEXI is based on spatial disaggregation of regional-scale fluxes from the ALEXI SEB model. Many approaches exist for mapping ET spatially; however, SEB methods are favored for remote sensing retrievals based on land-surface temperature. ALEXI was initially developed for managed landscapes. Applications include crop water use, crop phenology monitoring, and drought early warning or water stress detection. The output ET is generated on a UTM grid at a spatial resolution of 30 meters.\\\\r\\\\n\\\\r\\\\nThe ECO3ETALEXIU Version 1 data product contains layers of daily ET, ET uncertainty, and associated quality flags. A low-resolution browse is also available showing daily ET as a stretched image with a color ramp in JPEG format.\\\\r\\\\n\",\"service_features\":{\"opendap\":{\"has_formats\":false,\"has_variables\":false,\"has_transforms\":false,\"has_spatial_subsetting\":false,\"has_temporal_subsetting\":false},\"esi\":{\"has_formats\":false,\"has_variables\":false,\"has_transforms\":false,\"has_spatial_subsetting\":false,\"has_temporal_subsetting\":false},\"harmony\":{\"has_formats\":false,\"has_variables\":false,\"has_transforms\":false,\"has_spatial_subsetting\":false,\"has_temporal_subsetting\":false}},\"orbit_parameters\":{},\"id\":\"C1534730413-LPDAAC_ECS\",\"has_formats\":false,\"score\":1.32,\"consortiums\":[\"GEOSS\",\"EOSDIS\"],\"original_format\":\"UMM_JSON\",\"archive_center\":\"LP DAAC\",\"has_temporal_subsetting\":false,\"browse_flag\":true,\"platforms\":[\"ISS\"],\"online_access_flag\":true,\"links\":[{\"rel\":\"http://esipfed.org/ns/fedsearch/1.1/data#\",\"hreflang\":\"en-US\",\"href\":\"https://search.earthdata.nasa.gov/search?q=C1534730413-LPDAAC_ECS\"},{\"rel\":\"http://esipfed.org/ns/fedsearch/1.1/data#\",\"hreflang\":\"en-US\",\"href\":\"https://e4ftl01.cr.usgs.gov/ECOSTRESS/ECO3ETALEXIU.001/\"},{\"rel\":\"http://esipfed.org/ns/fedsearch/1.1/metadata#\",\"hreflang\":\"en-US\",\"href\":\"https://doi.org/10.5067/ECOSTRESS/ECO3ETALEXIU.001\"},{\"rel\":\"http://esipfed.org/ns/fedsearch/1.1/metadata#\",\"hreflang\":\"en-US\",\"href\":\"https://lpdaac.usgs.gov/\"},{\"rel\":\"http://esipfed.org/ns/fedsearch/1.1/documentation#\",\"hreflang\":\"en-US\",\"href\":\"https://lpdaac.usgs.gov/documents/331/ECO3ETALEXIU_User_Guide_V1.pdf\"},{\"rel\":\"http://esipfed.org/ns/fedsearch/1.1/documentation#\",\"hreflang\":\"en-US\",\"href\":\"https://lpdaac.usgs.gov/documents/332/ECO3ETALEXIU_ATBD_V1.pdf\"},{\"rel\":\"http://esipfed.org/ns/fedsearch/1.1/metadata#\",\"hreflang\":\"en-US\",\"href\":\"https://doi.org/10.5067/ECOSTRESS/ECO3ETALEXIU.001\"},{\"rel\":\"http://esipfed.org/ns/fedsearch/1.1/documentation#\",\"hreflang\":\"en-US\",\"href\":\"https://lpdaac.usgs.gov/documents/333/ECO3ETALEXIU_PSD_V1.pdf\"},{\"rel\":\"http://esipfed.org/ns/fedsearch/1.1/documentation#\",\"hreflang\":\"en-US\",\"href\":\"https://lpdaac.usgs.gov/documents/227/ECO_Earthdata_Search_Quick_Guide.pdf\"},{\"rel\":\"http://esipfed.org/ns/fedsearch/1.1/browse#\",\"hreflang\":\"en-US\",\"href\":\"https://e4ftl01.cr.usgs.gov//WORKING/BRWS/Browse.001/2019.07.25/ECOSTRESS_L3_ET_ALEXI_USDA_00731_008_20180822T201811_0503_03.mead.1.jpg?_ga=2.229793116.1575605641.1565613093-1371303444.1563801461\"}]},{\"processing_level_id\":\"4\",\"boxes\":[\"23 -127 52 -65\"],\"time_start\":\"2018-07-15T00:00:00.000Z\",\"version_id\":\"001\",\"dataset_id\":\"ECOSTRESS Evaporative Stress Index dis-ALEXI Daily L4 CONUS 70 m V001\",\"has_spatial_subsetting\":true,\"has_transforms\":true,\"associations\":{\"services\":[\"S1568897323-LPDAAC_ECS\"]},\"has_variables\":true,\"data_center\":\"LPDAAC_ECS\",\"short_name\":\"ECO4ESIALEXI\",\"organizations\":[\"LP DAAC\",\"NASA/JPL/ECOSTRESS\"],\"title\":\"ECOSTRESS Evaporative Stress Index dis-ALEXI Daily L4 CONUS 70 m V001\",\"coordinate_system\":\"CARTESIAN\",\"summary\":\"The ECOsystem Spaceborne Thermal Radiometer Experiment on Space Station (ECOSTRESS) mission measures the temperature of plants to better understand how much water plants need and how they respond to stress. ECOSTRESS is attached to the International Space Station (ISS) and collects data over the conterminous United States (CONUS) as well as key biomes and agricultural zones around the world and selected FLUXNET (http://fluxnet.fluxdata.org/about/) validation sites. A map of the acquisition coverage can be found on the ECOSTRESS website (https://ecostress.jpl.nasa.gov/science).\\\\r\\\\n\\\\r\\\\nThe NASA Jet Propulsion Laboratory (JPL) ECO4ESIALEXI Version 1 data product provides the Evaporative Stress Index (ESI), which is computed from clear-sky estimates of the relative daily evapotranspiration (ET) fraction: ESI = ET/ETo, where ET is ETdaily from the ECOSTRESS Level 3 product and ETo is the reference ET. A description of the major components of the ECOSTRESS algorithm implemented in Version 1 of the Atmosphere Land Exchange Inverse (ALEXI) Disaggregation algorithm (DisALEXI) ESI code is provided in the Algorithm Theoretical Basis Document (ATBD) (https://lpdaac.usgs.gov/documents/1002/ECO4ESIALEXI_ATBD_V1.pdf). ESI applications include indicating agricultural drought and observing vegetation stress. ECO4ESIALEXI is available for CONUS at 70-meter (m) pixel resolution.\\\\r\\\\n\\\\r\\\\nThe ECO4ESIALEXI Version 1 data product contains layers of daily evaporative stress index, evaporative stress index uncertainty, and associated quality flags. A low-resolution browse is also available showing daily ESI as a stretched image with a color ramp in JPEG format.\\\\r\\\\n\",\"service_features\":{\"opendap\":{\"has_formats\":false,\"has_variables\":false,\"has_transforms\":false,\"has_spatial_subsetting\":false,\"has_temporal_subsetting\":false},\"esi\":{\"has_formats\":false,\"has_variables\":false,\"has_transforms\":false,\"has_spatial_subsetting\":false,\"has_temporal_subsetting\":false},\"harmony\":{\"has_formats\":false,\"has_variables\":false,\"has_transforms\":false,\"has_spatial_subsetting\":false,\"has_temporal_subsetting\":false}},\"orbit_parameters\":{},\"id\":\"C1639530606-LPDAAC_ECS\",\"has_formats\":false,\"score\":1.32,\"consortiums\":[\"GEOSS\",\"EOSDIS\"],\"original_format\":\"UMM_JSON\",\"archive_center\":\"LP DAAC\",\"has_temporal_subsetting\":true,\"browse_flag\":true,\"platforms\":[\"ISS\"],\"online_access_flag\":true,\"links\":[{\"rel\":\"http://esipfed.org/ns/fedsearch/1.1/data#\",\"hreflang\":\"en-US\",\"href\":\"https://search.earthdata.nasa.gov/search?q=C1639530606-LPDAAC_ECS\"},{\"rel\":\"http://esipfed.org/ns/fedsearch/1.1/data#\",\"hreflang\":\"en-US\",\"href\":\"https://e4ftl01.cr.usgs.gov/ECOSTRESS/ECO4ESIALEXI.001/\"},{\"rel\":\"http://esipfed.org/ns/fedsearch/1.1/metadata#\",\"hreflang\":\"en-US\",\"href\":\"https://doi.org/10.5067/ECOSTRESS/ECO4ESIALEXI.001\"},{\"rel\":\"http://esipfed.org/ns/fedsearch/1.1/metadata#\",\"hreflang\":\"en-US\",\"href\":\"https://lpdaac.usgs.gov/\"},{\"rel\":\"http://esipfed.org/ns/fedsearch/1.1/documentation#\",\"hreflang\":\"en-US\",\"href\":\"https://lpdaac.usgs.gov/documents/1325/ECO4ESIALEXI_User_Guide_V1.pdf\"},{\"rel\":\"http://esipfed.org/ns/fedsearch/1.1/documentation#\",\"hreflang\":\"en-US\",\"href\":\"https://lpdaac.usgs.gov/documents/1004/ECO4ESIALEXI_ATBD_V1.pdf\"},{\"rel\":\"http://esipfed.org/ns/fedsearch/1.1/browse#\",\"hreflang\":\"en-US\",\"href\":\"https://e4ftl01.cr.usgs.gov//WORKING/BRWS/Browse.001/2020.10.23/ECOSTRESS_L4_ESI_ALEXI_13007_004_20201021T190748_0601_01.1.jpg\"},{\"rel\":\"http://esipfed.org/ns/fedsearch/1.1/documentation#\",\"hreflang\":\"en-US\",\"href\":\"https://lpdaac.usgs.gov/documents/227/ECO_Earthdata_Search_Quick_Guide.pdf\"},{\"rel\":\"http://esipfed.org/ns/fedsearch/1.1/data#\",\"hreflang\":\"en-US\",\"href\":\"https://appeears.earthdatacloud.nasa.gov/\"}]}]}}'"
      ]
     },
     "execution_count": 13,
     "metadata": {},
     "output_type": "execute_result"
    }
   ],
   "source": [
    "response.content"
   ]
  },
  {
   "cell_type": "markdown",
   "id": "introductory-manor",
   "metadata": {},
   "source": [
    "A more convenient way to work with this information is to use `json` formatted data. I'm using pretty print `pprint` to print the data in an easy to read way.    \n",
    "\n",
    "**Note**\n",
    "- `response.json()` will format our response in `json` \n",
    "- `['feed']['entry']` returns all entries that CMR returned in the request (not the same as __CMR-Hits__)\n",
    "- `[0]` returns the first entry. Reminder that python starts indexing at 0, not 1!"
   ]
  },
  {
   "cell_type": "code",
   "execution_count": 14,
   "id": "frequent-tucson",
   "metadata": {},
   "outputs": [
    {
     "name": "stdout",
     "output_type": "stream",
     "text": [
      "{'archive_center': 'LP DAAC',\n",
      " 'boxes': ['-90 -180 90 180'],\n",
      " 'browse_flag': True,\n",
      " 'consortiums': ['GEOSS', 'EOSDIS'],\n",
      " 'coordinate_system': 'CARTESIAN',\n",
      " 'data_center': 'LPDAAC_ECS',\n",
      " 'dataset_id': 'ECOSTRESS Land Surface Temperature and Emissivity Daily L2 '\n",
      "               'Global 70m V001',\n",
      " 'has_formats': False,\n",
      " 'has_spatial_subsetting': False,\n",
      " 'has_temporal_subsetting': False,\n",
      " 'has_transforms': False,\n",
      " 'has_variables': False,\n",
      " 'id': 'C1534729776-LPDAAC_ECS',\n",
      " 'links': [{'href': 'https://search.earthdata.nasa.gov/search?q=C1534729776-LPDAAC_ECS',\n",
      "            'hreflang': 'en-US',\n",
      "            'rel': 'http://esipfed.org/ns/fedsearch/1.1/data#'},\n",
      "           {'href': 'https://e4ftl01.cr.usgs.gov/ECOSTRESS/ECO2LSTE.001/',\n",
      "            'hreflang': 'en-US',\n",
      "            'rel': 'http://esipfed.org/ns/fedsearch/1.1/data#'},\n",
      "           {'href': 'https://doi.org/10.5067/ECOSTRESS/ECO2LSTE.001',\n",
      "            'hreflang': 'en-US',\n",
      "            'rel': 'http://esipfed.org/ns/fedsearch/1.1/metadata#'},\n",
      "           {'href': 'https://lpdaac.usgs.gov/',\n",
      "            'hreflang': 'en-US',\n",
      "            'rel': 'http://esipfed.org/ns/fedsearch/1.1/metadata#'},\n",
      "           {'href': 'https://lpdaac.usgs.gov/documents/423/ECO2_User_Guide_V1.pdf',\n",
      "            'hreflang': 'en-US',\n",
      "            'rel': 'http://esipfed.org/ns/fedsearch/1.1/documentation#'},\n",
      "           {'href': 'https://lpdaac.usgs.gov/documents/1324/ECO2_LSTE_ATBD_V1.pdf',\n",
      "            'hreflang': 'en-US',\n",
      "            'rel': 'http://esipfed.org/ns/fedsearch/1.1/documentation#'},\n",
      "           {'href': 'https://ecostress.jpl.nasa.gov/science',\n",
      "            'hreflang': 'en-US',\n",
      "            'rel': 'http://esipfed.org/ns/fedsearch/1.1/metadata#'},\n",
      "           {'href': 'https://lpdaac.usgs.gov/documents/380/ECO2_PSD_V1.pdf',\n",
      "            'hreflang': 'en-US',\n",
      "            'rel': 'http://esipfed.org/ns/fedsearch/1.1/documentation#'},\n",
      "           {'href': 'https://lpdaac.usgs.gov/documents/299/ECO2_ASD_V1.pdf',\n",
      "            'hreflang': 'en-US',\n",
      "            'rel': 'http://esipfed.org/ns/fedsearch/1.1/documentation#'},\n",
      "           {'href': 'https://lpdaac.usgs.gov/documents/227/ECO_Earthdata_Search_Quick_Guide.pdf',\n",
      "            'hreflang': 'en-US',\n",
      "            'rel': 'http://esipfed.org/ns/fedsearch/1.1/documentation#'},\n",
      "           {'href': 'https://e4ftl01.cr.usgs.gov//WORKING/BRWS/Browse.001/2020.10.29/ECOSTRESS_L2_LSTE_13110_011_20201028T103433_0601_01.1.jpg',\n",
      "            'hreflang': 'en-US',\n",
      "            'rel': 'http://esipfed.org/ns/fedsearch/1.1/browse#'},\n",
      "           {'href': 'https://appeears.earthdatacloud.nasa.gov/',\n",
      "            'hreflang': 'en-US',\n",
      "            'rel': 'http://esipfed.org/ns/fedsearch/1.1/data#'},\n",
      "           {'href': 'https://earthexplorer.usgs.gov/',\n",
      "            'hreflang': 'en-US',\n",
      "            'rel': 'http://esipfed.org/ns/fedsearch/1.1/data#'},\n",
      "           {'href': 'https://opendap.cr.usgs.gov/opendap/hyrax/ECOB/ECOSTRESS/ECO2LSTE.001/contents.html',\n",
      "            'hreflang': 'en-US',\n",
      "            'rel': 'http://esipfed.org/ns/fedsearch/1.1/service#'}],\n",
      " 'online_access_flag': True,\n",
      " 'orbit_parameters': {},\n",
      " 'organizations': ['LP DAAC', 'NASA/JPL/ECOSTRESS'],\n",
      " 'original_format': 'UMM_JSON',\n",
      " 'platforms': ['ISS'],\n",
      " 'processing_level_id': '2',\n",
      " 'score': 1.32,\n",
      " 'service_features': {'esi': {'has_formats': False,\n",
      "                              'has_spatial_subsetting': False,\n",
      "                              'has_temporal_subsetting': False,\n",
      "                              'has_transforms': False,\n",
      "                              'has_variables': False},\n",
      "                      'harmony': {'has_formats': False,\n",
      "                                  'has_spatial_subsetting': False,\n",
      "                                  'has_temporal_subsetting': False,\n",
      "                                  'has_transforms': False,\n",
      "                                  'has_variables': False},\n",
      "                      'opendap': {'has_formats': False,\n",
      "                                  'has_spatial_subsetting': False,\n",
      "                                  'has_temporal_subsetting': False,\n",
      "                                  'has_transforms': False,\n",
      "                                  'has_variables': False}},\n",
      " 'short_name': 'ECO2LSTE',\n",
      " 'summary': 'The ECOsystem Spaceborne Thermal Radiometer Experiment on Space '\n",
      "            'Station (ECOSTRESS) mission measures the temperature of plants to '\n",
      "            'better understand how much water plants need and how they respond '\n",
      "            'to stress. ECOSTRESS is attached to the International Space '\n",
      "            'Station (ISS) and collects data over the conterminous United '\n",
      "            'States (CONUS) as well as key biomes and agricultural zones '\n",
      "            'around the world and selected FLUXNET '\n",
      "            '(http://fluxnet.fluxdata.org/about/) validation sites. A map of '\n",
      "            'the acquisition coverage can be found on the ECOSTRESS website '\n",
      "            '(https://ecostress.jpl.nasa.gov/science).\\r\\n'\n",
      "            '\\r\\n'\n",
      "            'The ECO2LSTE Version 1 data product provides atmospherically '\n",
      "            'corrected land surface temperature and emissivity (LST&E) values '\n",
      "            'derived from five thermal infrared (TIR) bands. The ECO2LSTE data '\n",
      "            'product was derived using a physics-based Temperature/Emissivity '\n",
      "            'Separation (TES) algorithm. The ECO2LSTE is provided as swath '\n",
      "            'data and has a spatial resolution of 70 meters (m).  The '\n",
      "            'corresponding ECO1BGEO data product is required to georeference '\n",
      "            'the ECO2LSTE data product. \\r\\n'\n",
      "            '\\r\\n'\n",
      "            'The ECO2LSTE Version 1 data product contains layers of LST, '\n",
      "            'emissivity for bands 1 through 5, quality control for LST&E, LST '\n",
      "            'error, emissivity error for bands 1 through 5, wideband '\n",
      "            'emissivity, and Precipitable Water Vapor (PWV). For acquisitions '\n",
      "            'after May 15, 2019, data products contain data values for TIR '\n",
      "            'bands 2, 4 and 5 only. TIR bands 1 and 3 contain fill values to '\n",
      "            'accommodate direct streaming of data from the ISS as mentioned in '\n",
      "            'the Known Issues section.\\r\\n'\n",
      "            '\\r\\n'\n",
      "            'Data acquisition gaps: ECOSTRESS was launched on June 29, 2018 '\n",
      "            'and moved to autonomous science operations on August 20, 2018 '\n",
      "            'following a successful in-orbit checkout period. On September 29, '\n",
      "            '2018, ECOSTRESS experienced an anomaly with its primary mass '\n",
      "            'storage unit (MSU). ECOSTRESS has a primary and secondary MSU (A '\n",
      "            'and B). On December 5, 2018, the instrument was switched to the '\n",
      "            'secondary MSU and science operations resumed. On March 14, 2019, '\n",
      "            'the secondary MSU experienced a similar anomaly temporarily '\n",
      "            'halting science acquisitions. On May 15, 2019, a new data '\n",
      "            'acquisition approach was implemented and science acquisitions '\n",
      "            'resumed. To optimize the new acquisition approach TIR bands 2, 4 '\n",
      "            'and 5 are being downloaded. The data products are as previously, '\n",
      "            'except the bands not downloaded contain fill values (L1 radiance '\n",
      "            'and L2 emissivity).',\n",
      " 'time_start': '2018-07-09T00:00:00.000Z',\n",
      " 'title': 'ECOSTRESS Land Surface Temperature and Emissivity Daily L2 Global '\n",
      "          '70m V001',\n",
      " 'version_id': '001'}\n"
     ]
    }
   ],
   "source": [
    "pprint(response.json()['feed']['entry'][0])"
   ]
  },
  {
   "cell_type": "markdown",
   "id": "viral-campus",
   "metadata": {},
   "source": [
    "The first response contains a lot more information than we need. We'll narrow in on a few fields to get a feel for what we have. We'll print the name of the dataset (`dataset_id`) and the concept id (`id`). We can build this variable and print statement like we did above with the `url` variable. "
   ]
  },
  {
   "cell_type": "code",
   "execution_count": 15,
   "id": "radio-lightning",
   "metadata": {},
   "outputs": [],
   "source": [
    "collections = response.json()['feed']['entry']"
   ]
  },
  {
   "cell_type": "code",
   "execution_count": 16,
   "id": "other-grant",
   "metadata": {},
   "outputs": [
    {
     "name": "stdout",
     "output_type": "stream",
     "text": [
      "LP DAAC | ECOSTRESS Land Surface Temperature and Emissivity Daily L2 Global 70m V001 | C1534729776-LPDAAC_ECS\n",
      "LP DAAC | ECOSTRESS Geolocation Daily L1B Global 70m V001 | C1534584923-LPDAAC_ECS\n",
      "LP DAAC | ECOSTRESS Evapotranspiration dis-ALEXI Daily L3 CONUS 70 m V001 | C1639530522-LPDAAC_ECS\n",
      "LP DAAC | ECOSTRESS Cloud Mask Daily L2 Global 70m V001 | C1534730833-LPDAAC_ECS\n",
      "LP DAAC | ECOSTRESS Evapotranspiration PT-JPL Daily L3 Global 70m V001 | C1534730469-LPDAAC_ECS\n",
      "LP DAAC | ECOSTRESS Resampled Radiance Daily L1B Global 70m V001 | C1545228916-LPDAAC_ECS\n",
      "LP DAAC | ECOSTRESS At-sensor Calibrated Radiance Daily L1B Global 70m V001 | C1534582789-LPDAAC_ECS\n",
      "LP DAAC | ECOSTRESS L3/L4 Ancillary data Quality Assurance (QA) flags L3 Global 70m V001 | C1534730053-LPDAAC_ECS\n",
      "LP DAAC | ECOSTRESS Evapotranspiration dis-ALEXI USDA Daily L3 Global 30m V001 | C1534730413-LPDAAC_ECS\n",
      "LP DAAC | ECOSTRESS Evaporative Stress Index dis-ALEXI Daily L4 CONUS 70 m V001 | C1639530606-LPDAAC_ECS\n"
     ]
    }
   ],
   "source": [
    "for collection in collections:\n",
    "    print(f'{collection[\"archive_center\"]} | {collection[\"dataset_id\"]} | {collection[\"id\"]}')"
   ]
  },
  {
   "cell_type": "markdown",
   "id": "injured-services",
   "metadata": {},
   "source": [
    "In some situations we may be expecting a certain number of results. Note here that we only have 10 datasets are printed. We know from `CMR-Hits` that there are more than 10 datasets. This is because CMR restricts the number of results returned by each query. The default is 10 but it can be set to a maximum of 2000. We'll set the `page_size` parameter to 25 so we return all results in a single query."
   ]
  },
  {
   "cell_type": "code",
   "execution_count": 17,
   "id": "federal-analyst",
   "metadata": {},
   "outputs": [
    {
     "data": {
      "text/plain": [
       "<Response [200]>"
      ]
     },
     "execution_count": 17,
     "metadata": {},
     "output_type": "execute_result"
    }
   ],
   "source": [
    "response = requests.get(url,\n",
    "                        params={\n",
    "                            #'cloud_hosted': 'True',\n",
    "                            'has_granules': 'True',\n",
    "                            'provider': provider,\n",
    "                            'project': project,\n",
    "                            'page_size': 25\n",
    "                        },\n",
    "                        headers={\n",
    "                            'Accept': 'application/json'\n",
    "                        }\n",
    "                       )\n",
    "response"
   ]
  },
  {
   "cell_type": "code",
   "execution_count": 18,
   "id": "d6e27f88-911b-4bc9-bfe1-dd9cd42c7640",
   "metadata": {
    "tags": []
   },
   "outputs": [
    {
     "data": {
      "text/plain": [
       "'13'"
      ]
     },
     "execution_count": 18,
     "metadata": {},
     "output_type": "execute_result"
    }
   ],
   "source": [
    "response.headers['cmr-hits']"
   ]
  },
  {
   "cell_type": "markdown",
   "id": "46e99c86-39a2-4df0-8aa7-fc5e7f3a1973",
   "metadata": {},
   "source": [
    "Now, when we can re-run our for loop for the collections we now have all of the available collections listed."
   ]
  },
  {
   "cell_type": "code",
   "execution_count": 19,
   "id": "consecutive-detroit",
   "metadata": {},
   "outputs": [
    {
     "name": "stdout",
     "output_type": "stream",
     "text": [
      "LP DAAC | ECOSTRESS Land Surface Temperature and Emissivity Daily L2 Global 70m V001 | C1534729776-LPDAAC_ECS\n",
      "LP DAAC | ECOSTRESS Geolocation Daily L1B Global 70m V001 | C1534584923-LPDAAC_ECS\n",
      "LP DAAC | ECOSTRESS Evapotranspiration dis-ALEXI Daily L3 CONUS 70 m V001 | C1639530522-LPDAAC_ECS\n",
      "LP DAAC | ECOSTRESS Cloud Mask Daily L2 Global 70m V001 | C1534730833-LPDAAC_ECS\n",
      "LP DAAC | ECOSTRESS Evapotranspiration PT-JPL Daily L3 Global 70m V001 | C1534730469-LPDAAC_ECS\n",
      "LP DAAC | ECOSTRESS Resampled Radiance Daily L1B Global 70m V001 | C1545228916-LPDAAC_ECS\n",
      "LP DAAC | ECOSTRESS At-sensor Calibrated Radiance Daily L1B Global 70m V001 | C1534582789-LPDAAC_ECS\n",
      "LP DAAC | ECOSTRESS L3/L4 Ancillary data Quality Assurance (QA) flags L3 Global 70m V001 | C1534730053-LPDAAC_ECS\n",
      "LP DAAC | ECOSTRESS Evapotranspiration dis-ALEXI USDA Daily L3 Global 30m V001 | C1534730413-LPDAAC_ECS\n",
      "LP DAAC | ECOSTRESS Evaporative Stress Index dis-ALEXI Daily L4 CONUS 70 m V001 | C1639530606-LPDAAC_ECS\n",
      "LP DAAC | ECOSTRESS Evaporative Stress Index dis-ALEXI USDA Daily L4 Global 30m V001 | C1534730559-LPDAAC_ECS\n",
      "LP DAAC | ECOSTRESS Evaporative Stress Index PT-JPL Daily L4 Global 70m V001 | C1534730762-LPDAAC_ECS\n",
      "LP DAAC | ECOSTRESS Water Use Efficiency Daily L4 Global 70m V001 | C1534731034-LPDAAC_ECS\n"
     ]
    }
   ],
   "source": [
    "collections = response.json()['feed']['entry']\n",
    "for collection in collections:\n",
    "    print(f'{collection[\"archive_center\"]} | {collection[\"dataset_id\"]} | {collection[\"id\"]}')"
   ]
  },
  {
   "cell_type": "markdown",
   "id": "swedish-engineer",
   "metadata": {},
   "source": [
    "## Searching for Granules\n",
    "In NASA speak, Granules are files or groups of files. In this example, we will search for ECO2LSTE version 1 for a specified region of interest and datetime range.  \n",
    "\n",
    "We need to change the resource url to look for __granules__ instead of collections"
   ]
  },
  {
   "cell_type": "code",
   "execution_count": 20,
   "id": "unlimited-underwear",
   "metadata": {},
   "outputs": [],
   "source": [
    "url = f'{CMR_OPS}/{\"granules\"}'"
   ]
  },
  {
   "cell_type": "markdown",
   "id": "industrial-typing",
   "metadata": {},
   "source": [
    "We will search by `concept_id`, `temporal`, and `bounding_box`.  Details about these search parameters can be found in the CMR API Documentation.\n",
    "\n",
    "The formatting of the values for each parameter is quite specific.  \n",
    "__Temporal parameters__ are in ISO 8061 format `yyyy-MM-ddTHH:mm:ssZ`.  \n",
    "__Bounding box coordinates__ are lower left longitude, lower left latitude, upper right longitude, upper right latitude. "
   ]
  },
  {
   "cell_type": "code",
   "execution_count": 21,
   "id": "a3769176-73bc-4d80-8284-a0f0b15dc7ea",
   "metadata": {},
   "outputs": [],
   "source": [
    "collection_id = 'C1534729776-LPDAAC_ECS'\n",
    "date_range = '2020-10-17T00:00:00Z,2020-11-18T23:59:59Z'\n",
    "bbox = '-120.45264628,34.51050622,-120.40432448,34.53239876'"
   ]
  },
  {
   "cell_type": "code",
   "execution_count": 22,
   "id": "identified-johnson",
   "metadata": {},
   "outputs": [
    {
     "name": "stdout",
     "output_type": "stream",
     "text": [
      "200\n"
     ]
    }
   ],
   "source": [
    "response = requests.get(url, \n",
    "                        params={\n",
    "                            'concept_id': collection_id,\n",
    "                            'temporal': date_range,\n",
    "                            'bounding_box': bbox,\n",
    "                            'page_size': 200,\n",
    "                            },\n",
    "                        headers={\n",
    "                            'Accept': 'application/json'\n",
    "                            }\n",
    "                       )\n",
    "print(response.status_code)"
   ]
  },
  {
   "cell_type": "code",
   "execution_count": 23,
   "id": "aggressive-repair",
   "metadata": {},
   "outputs": [
    {
     "name": "stdout",
     "output_type": "stream",
     "text": [
      "28\n"
     ]
    }
   ],
   "source": [
    "print(response.headers['CMR-Hits'])"
   ]
  },
  {
   "cell_type": "code",
   "execution_count": 24,
   "id": "animal-facing",
   "metadata": {},
   "outputs": [
    {
     "name": "stdout",
     "output_type": "stream",
     "text": [
      "LPDAAC_ECS | ECOSTRESS Land Surface Temperature and Emissivity Daily L2 Global 70m V001 | G1955166480-LPDAAC_ECS\n",
      "LPDAAC_ECS | ECOSTRESS Land Surface Temperature and Emissivity Daily L2 Global 70m V001 | G1955860878-LPDAAC_ECS\n",
      "LPDAAC_ECS | ECOSTRESS Land Surface Temperature and Emissivity Daily L2 Global 70m V001 | G1955860907-LPDAAC_ECS\n",
      "LPDAAC_ECS | ECOSTRESS Land Surface Temperature and Emissivity Daily L2 Global 70m V001 | G1956790291-LPDAAC_ECS\n",
      "LPDAAC_ECS | ECOSTRESS Land Surface Temperature and Emissivity Daily L2 Global 70m V001 | G1957484010-LPDAAC_ECS\n",
      "LPDAAC_ECS | ECOSTRESS Land Surface Temperature and Emissivity Daily L2 Global 70m V001 | G1957483425-LPDAAC_ECS\n",
      "LPDAAC_ECS | ECOSTRESS Land Surface Temperature and Emissivity Daily L2 Global 70m V001 | G1959140552-LPDAAC_ECS\n",
      "LPDAAC_ECS | ECOSTRESS Land Surface Temperature and Emissivity Daily L2 Global 70m V001 | G1959144003-LPDAAC_ECS\n",
      "LPDAAC_ECS | ECOSTRESS Land Surface Temperature and Emissivity Daily L2 Global 70m V001 | G1960024552-LPDAAC_ECS\n",
      "LPDAAC_ECS | ECOSTRESS Land Surface Temperature and Emissivity Daily L2 Global 70m V001 | G1960024537-LPDAAC_ECS\n",
      "LPDAAC_ECS | ECOSTRESS Land Surface Temperature and Emissivity Daily L2 Global 70m V001 | G1960892156-LPDAAC_ECS\n",
      "LPDAAC_ECS | ECOSTRESS Land Surface Temperature and Emissivity Daily L2 Global 70m V001 | G1961251292-LPDAAC_ECS\n",
      "LPDAAC_ECS | ECOSTRESS Land Surface Temperature and Emissivity Daily L2 Global 70m V001 | G1961859384-LPDAAC_ECS\n",
      "LPDAAC_ECS | ECOSTRESS Land Surface Temperature and Emissivity Daily L2 Global 70m V001 | G1961859396-LPDAAC_ECS\n",
      "LPDAAC_ECS | ECOSTRESS Land Surface Temperature and Emissivity Daily L2 Global 70m V001 | G1962720026-LPDAAC_ECS\n",
      "LPDAAC_ECS | ECOSTRESS Land Surface Temperature and Emissivity Daily L2 Global 70m V001 | G1963283754-LPDAAC_ECS\n",
      "LPDAAC_ECS | ECOSTRESS Land Surface Temperature and Emissivity Daily L2 Global 70m V001 | G1964173469-LPDAAC_ECS\n",
      "LPDAAC_ECS | ECOSTRESS Land Surface Temperature and Emissivity Daily L2 Global 70m V001 | G1964173212-LPDAAC_ECS\n",
      "LPDAAC_ECS | ECOSTRESS Land Surface Temperature and Emissivity Daily L2 Global 70m V001 | G1964455718-LPDAAC_ECS\n",
      "LPDAAC_ECS | ECOSTRESS Land Surface Temperature and Emissivity Daily L2 Global 70m V001 | G1964731097-LPDAAC_ECS\n",
      "LPDAAC_ECS | ECOSTRESS Land Surface Temperature and Emissivity Daily L2 Global 70m V001 | G1965332089-LPDAAC_ECS\n",
      "LPDAAC_ECS | ECOSTRESS Land Surface Temperature and Emissivity Daily L2 Global 70m V001 | G1966009898-LPDAAC_ECS\n",
      "LPDAAC_ECS | ECOSTRESS Land Surface Temperature and Emissivity Daily L2 Global 70m V001 | G1966835047-LPDAAC_ECS\n",
      "LPDAAC_ECS | ECOSTRESS Land Surface Temperature and Emissivity Daily L2 Global 70m V001 | G1967120727-LPDAAC_ECS\n",
      "LPDAAC_ECS | ECOSTRESS Land Surface Temperature and Emissivity Daily L2 Global 70m V001 | G1967502414-LPDAAC_ECS\n",
      "LPDAAC_ECS | ECOSTRESS Land Surface Temperature and Emissivity Daily L2 Global 70m V001 | G1968102807-LPDAAC_ECS\n",
      "LPDAAC_ECS | ECOSTRESS Land Surface Temperature and Emissivity Daily L2 Global 70m V001 | G1968495116-LPDAAC_ECS\n",
      "LPDAAC_ECS | ECOSTRESS Land Surface Temperature and Emissivity Daily L2 Global 70m V001 | G1968495429-LPDAAC_ECS\n"
     ]
    }
   ],
   "source": [
    "granules = response.json()['feed']['entry']\n",
    "for granule in granules:\n",
    "    print(f'{granule[\"data_center\"]} | {granule[\"dataset_id\"]} | {granule[\"id\"]}')"
   ]
  },
  {
   "cell_type": "code",
   "execution_count": 25,
   "id": "deluxe-blues",
   "metadata": {},
   "outputs": [
    {
     "name": "stdout",
     "output_type": "stream",
     "text": [
      "{'boxes': ['29.607285 -124.541191 34.880539 -118.98838'],\n",
      " 'browse_flag': True,\n",
      " 'collection_concept_id': 'C1534729776-LPDAAC_ECS',\n",
      " 'coordinate_system': 'CARTESIAN',\n",
      " 'data_center': 'LPDAAC_ECS',\n",
      " 'dataset_id': 'ECOSTRESS Land Surface Temperature and Emissivity Daily L2 '\n",
      "               'Global 70m V001',\n",
      " 'day_night_flag': 'DAY',\n",
      " 'granule_size': '667.132',\n",
      " 'id': 'G1955166480-LPDAAC_ECS',\n",
      " 'links': [{'href': 'https://e4ftl01.cr.usgs.gov//ECOB/ECOSTRESS/ECO2LSTE.001/2020.10.19/ECOSTRESS_L2_LSTE_12978_011_20201019T221736_0601_01.h5',\n",
      "            'hreflang': 'en-US',\n",
      "            'rel': 'http://esipfed.org/ns/fedsearch/1.1/data#',\n",
      "            'title': 'ECOSTRESS_L2_LSTE_12978_011_20201019T221736_0601_01.h5. '\n",
      "                     'MimeType: application/x-hdfeos',\n",
      "            'type': 'application/x-hdfeos'},\n",
      "           {'href': 'https://opendap.cr.usgs.gov/opendap/hyrax//ECOB/ECOSTRESS/ECO2LSTE.001/2020.10.19/ECOSTRESS_L2_LSTE_12978_011_20201019T221736_0601_01.h5',\n",
      "            'hreflang': 'en-US',\n",
      "            'rel': 'http://esipfed.org/ns/fedsearch/1.1/service#',\n",
      "            'title': 'This file may be accessed using OPeNDAP directly from '\n",
      "                     'this link (OPENDAP DATA)',\n",
      "            'type': 'text/html'},\n",
      "           {'href': 'https://dx.doi.org/10.5067/ECOSTRESS/ECO2LSTE.001',\n",
      "            'hreflang': 'en-US',\n",
      "            'rel': 'http://esipfed.org/ns/fedsearch/1.1/documentation#',\n",
      "            'title': 'The Landing Page for this file may be accessed directly '\n",
      "                     'from this link (DOI)',\n",
      "            'type': 'text/html'},\n",
      "           {'href': 'https://e4ftl01.cr.usgs.gov//WORKING/BRWS/Browse.001/2020.10.21/ECOSTRESS_L2_LSTE_12978_011_20201019T221736_0601_01.1.jpg',\n",
      "            'hreflang': 'en-US',\n",
      "            'rel': 'http://esipfed.org/ns/fedsearch/1.1/browse#',\n",
      "            'title': 'This Browse file may be downloaded directly from this '\n",
      "                     'link (BROWSE)',\n",
      "            'type': 'image/jpeg'},\n",
      "           {'href': 'https://e4ftl01.cr.usgs.gov//ECOB/ECOSTRESS/ECO2LSTE.001/2020.10.19/ECOSTRESS_L2_LSTE_12978_011_20201019T221736_0601_01.h5.xml',\n",
      "            'hreflang': 'en-US',\n",
      "            'rel': 'http://esipfed.org/ns/fedsearch/1.1/metadata#',\n",
      "            'title': 'This Metadata file may be downloaded directly from this '\n",
      "                     'link (EXTENDED METADATA)',\n",
      "            'type': 'text/xml'},\n",
      "           {'href': 'https://search.earthdata.nasa.gov/search?q=C1534729776-LPDAAC_ECS',\n",
      "            'hreflang': 'en-US',\n",
      "            'inherited': True,\n",
      "            'rel': 'http://esipfed.org/ns/fedsearch/1.1/data#'},\n",
      "           {'href': 'https://e4ftl01.cr.usgs.gov/ECOSTRESS/ECO2LSTE.001/',\n",
      "            'hreflang': 'en-US',\n",
      "            'inherited': True,\n",
      "            'rel': 'http://esipfed.org/ns/fedsearch/1.1/data#'},\n",
      "           {'href': 'https://doi.org/10.5067/ECOSTRESS/ECO2LSTE.001',\n",
      "            'hreflang': 'en-US',\n",
      "            'inherited': True,\n",
      "            'rel': 'http://esipfed.org/ns/fedsearch/1.1/metadata#'},\n",
      "           {'href': 'https://lpdaac.usgs.gov/',\n",
      "            'hreflang': 'en-US',\n",
      "            'inherited': True,\n",
      "            'rel': 'http://esipfed.org/ns/fedsearch/1.1/metadata#'},\n",
      "           {'href': 'https://lpdaac.usgs.gov/documents/423/ECO2_User_Guide_V1.pdf',\n",
      "            'hreflang': 'en-US',\n",
      "            'inherited': True,\n",
      "            'rel': 'http://esipfed.org/ns/fedsearch/1.1/documentation#'},\n",
      "           {'href': 'https://lpdaac.usgs.gov/documents/1324/ECO2_LSTE_ATBD_V1.pdf',\n",
      "            'hreflang': 'en-US',\n",
      "            'inherited': True,\n",
      "            'rel': 'http://esipfed.org/ns/fedsearch/1.1/documentation#'},\n",
      "           {'href': 'https://ecostress.jpl.nasa.gov/science',\n",
      "            'hreflang': 'en-US',\n",
      "            'inherited': True,\n",
      "            'rel': 'http://esipfed.org/ns/fedsearch/1.1/metadata#'},\n",
      "           {'href': 'https://lpdaac.usgs.gov/documents/380/ECO2_PSD_V1.pdf',\n",
      "            'hreflang': 'en-US',\n",
      "            'inherited': True,\n",
      "            'rel': 'http://esipfed.org/ns/fedsearch/1.1/documentation#'},\n",
      "           {'href': 'https://lpdaac.usgs.gov/documents/299/ECO2_ASD_V1.pdf',\n",
      "            'hreflang': 'en-US',\n",
      "            'inherited': True,\n",
      "            'rel': 'http://esipfed.org/ns/fedsearch/1.1/documentation#'},\n",
      "           {'href': 'https://lpdaac.usgs.gov/documents/227/ECO_Earthdata_Search_Quick_Guide.pdf',\n",
      "            'hreflang': 'en-US',\n",
      "            'inherited': True,\n",
      "            'rel': 'http://esipfed.org/ns/fedsearch/1.1/documentation#'},\n",
      "           {'href': 'https://appeears.earthdatacloud.nasa.gov/',\n",
      "            'hreflang': 'en-US',\n",
      "            'inherited': True,\n",
      "            'rel': 'http://esipfed.org/ns/fedsearch/1.1/data#'},\n",
      "           {'href': 'https://earthexplorer.usgs.gov/',\n",
      "            'hreflang': 'en-US',\n",
      "            'inherited': True,\n",
      "            'rel': 'http://esipfed.org/ns/fedsearch/1.1/data#'},\n",
      "           {'href': 'https://opendap.cr.usgs.gov/opendap/hyrax/ECOB/ECOSTRESS/ECO2LSTE.001/contents.html',\n",
      "            'hreflang': 'en-US',\n",
      "            'inherited': True,\n",
      "            'rel': 'http://esipfed.org/ns/fedsearch/1.1/service#'}],\n",
      " 'online_access_flag': True,\n",
      " 'orbit_calculated_spatial_domains': [{'start_orbit_number': '12978',\n",
      "                                       'stop_orbit_number': '12978'}],\n",
      " 'original_format': 'ECHO10',\n",
      " 'producer_granule_id': 'ECOSTRESS_L2_LSTE_12978_011_20201019T221736_0601_01.h5',\n",
      " 'time_end': '2020-10-19T22:22:37.260Z',\n",
      " 'time_start': '2020-10-19T22:17:37.260Z',\n",
      " 'title': 'SC:ECO2LSTE.001:2413567151',\n",
      " 'updated': '2020-10-20T23:53:17.641Z'}\n"
     ]
    }
   ],
   "source": [
    "pprint(granules[0])"
   ]
  },
  {
   "cell_type": "code",
   "execution_count": null,
   "id": "opposed-times",
   "metadata": {},
   "outputs": [],
   "source": []
  }
 ],
 "metadata": {
  "kernelspec": {
   "display_name": "py39",
   "language": "python",
   "name": "py39"
  },
  "language_info": {
   "codemirror_mode": {
    "name": "ipython",
    "version": 3
   },
   "file_extension": ".py",
   "mimetype": "text/x-python",
   "name": "python",
   "nbconvert_exporter": "python",
   "pygments_lexer": "ipython3",
   "version": "3.9.10"
  }
 },
 "nbformat": 4,
 "nbformat_minor": 5
}
