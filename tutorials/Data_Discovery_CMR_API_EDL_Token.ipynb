{
 "cells": [
  {
   "cell_type": "markdown",
   "id": "ef03c624-93e5-4fe3-920f-3d8e666daf52",
   "metadata": {
    "tags": []
   },
   "source": [
    "# Data discovery with NASA's CMR\n",
    "\n",
    "## Summary\n",
    "\n",
    "In this notebook, we will walk through how to search for Earthdata data collections and granules. Along the way we will explore the available search parameters, information return, and specific contrains when using the CMR API. Our object is to identify assets to access that we would downloaded, or perform S3 direct access, within an analysis workflow \n",
    "\n",
    "We will be querying CMR for [ECOSTRESS]() collections/granules to identify assets we would downloaded, or perform S3 direct access, within an analysis workflow\n",
    "\n",
    "## Requirements\n",
    "\n",
    "### 1. Earthdata Login\n",
    "\n",
    "An Earthdata Login account is required to access data, as well as discover restricted data, from the NASA Earthdata system. Thus, to access NASA data, you need Earthdata Login. Please visit https://urs.earthdata.nasa.gov to register and manage your Earthdata Login account. This account is free to create and only takes a moment to set up.\n",
    "\n",
    "### 2. ECOSTRESS Early Adopter\n",
    "\n",
    "ECOSTRESS build 7 is only open to individuals identified as early adopters. As such ECOSTRESS discovery and access is managed by an access control list. If you are not on the access control list, you will not be able to complete the exercise as written below. \n",
    "\n",
    "## Learning Objectives\n",
    "\n",
    "- understand what CMR/CMR API is and what CMR/CMR API can be used for \n",
    "- how to use the `requests` package to search data collections and granules\n",
    "- how to use an Earthdata Login token to search for data with access control lists\n",
    "- how to parse the results of these searches.\n",
    "\n",
    "## What is CMR\n",
    "CMR is the Common Metadata Repository.  It catalogs all data for NASA's Earth Observing System Data and Information System (EOSDIS).  It is the backend of [Earthdata Search](https://search.earthdata.nasa.gov/search), the GUI search interface you are probably familiar with.  More information about CMR can be found [here](https://earthdata.nasa.gov/eosdis/science-system-description/eosdis-components/cmr).\n",
    "\n",
    "Unfortunately, the GUI for Earthdata Search is not accessible from a cloud instance - at least not without some work.  Earthdata Search is also not immediately reproducible.  What I mean by that is if you create a search using the GUI you would have to note the search criteria (date range, search area, collection name, etc), take a screenshot, copy the search url, or save the list of data granules returned by the search, in order to recreate the search.  This information would have to be re-entered each time you or someone else wanted to do the search.  You could make typos or other mistakes.  A cleaner, reproducible solution is to search CMR programmatically using the CMR API.\n",
    "\n",
    "## What is the CMR API\n",
    "API stands for Application Programming Interface.  It allows applications (software, services, etc) to send information to each other.  A helpful analogy is a waiter in a restaurant.  The waiter takes your drink or food order that you select from the menu, often translated into short-hand, to the bar or kitchen, and then returns (hopefully) with what you ordered when it is ready.\n",
    "\n",
    "The CMR API accepts search terms such as collection name, keywords, datetime range, and location, queries the CMR database and returns the results."
   ]
  },
  {
   "cell_type": "markdown",
   "id": "4c0e6feb-7e22-49e8-ad2f-14341e025608",
   "metadata": {},
   "source": [
    "---"
   ]
  },
  {
   "cell_type": "markdown",
   "id": "instant-parliament",
   "metadata": {},
   "source": [
    "## Getting Started: How to search CMR from Python\n",
    "The first step is to import python packages.  We will use:  \n",
    "- `requests` This package does most of the work for us accessing the CMR API using HTTP methods. \n",
    "- `pprint` to _pretty print_ the results of the search.  \n",
    "\n",
    "A more in-depth tutorial on `requests` is [here](https://realpython.com/python-requests/)"
   ]
  },
  {
   "cell_type": "code",
   "execution_count": 1,
   "id": "prime-hierarchy",
   "metadata": {
    "tags": []
   },
   "outputs": [],
   "source": [
    "import requests\n",
    "import json\n",
    "from pprint import pprint"
   ]
  },
  {
   "cell_type": "markdown",
   "id": "authorized-conditioning",
   "metadata": {},
   "source": [
    "To conduct a search using the CMR API, `requests` needs the url for the root CMR search endpoint. We'll assign this url to a python variable as a _string_."
   ]
  },
  {
   "cell_type": "code",
   "execution_count": 2,
   "id": "existing-concert",
   "metadata": {},
   "outputs": [],
   "source": [
    "CMR_OPS = 'https://cmr.earthdata.nasa.gov/search'"
   ]
  },
  {
   "cell_type": "markdown",
   "id": "sorted-possession",
   "metadata": {},
   "source": [
    "CMR allows search by __collections__, which are datasets, and __granules__, which are files that contain data. Many of the same search parameters can be used for collections and granules but the type of results returned differ. Search parameters can be found in the [API Documentation](https://cmr.earthdata.nasa.gov/search/site/docs/search/api.html).  \n",
    "\n",
    "Whether we search __collections__ or __granules__ is distinguished by adding `\"collections\"` or `\"granules\"` to the end of the CMR endpoint URL.  \n",
    "\n",
    "We are going to search collections first, so we add `\"collections\"` to the URL. We are using a `python` format string in the examples below."
   ]
  },
  {
   "cell_type": "code",
   "execution_count": 3,
   "id": "floating-defensive",
   "metadata": {},
   "outputs": [],
   "source": [
    "url = f'{CMR_OPS}/{\"collections\"}'"
   ]
  },
  {
   "cell_type": "markdown",
   "id": "racial-fifteen",
   "metadata": {},
   "source": [
    "In this first example, I want to retrieve a list of __ECOSTRESS__ collections in the Earthdata Cloud. This includes ECOSTRESS collections from build 7 which at the time of this tutorial, is hidden to all except early adopters. Because of this, an extra parameter needs to be passed in each CMR request that indicates you are part of the access list. An Earthdata Login token will be passed to the `token` parameter, which is generated using your Earthdata Login credentials.  \n",
    "\n",
    "Two options are available to generate an Earthdata Login token. \n",
    "1. Generate a token from the Earthdata Login interface by logging into Earthdata Login and Click Generate Token.\n",
    "2. Programatically generate an Earthdata Login token. Use the [NASA_Earthdata_Login_Token](../how-tos/authentication/NASA_Earthdata_Login_Token.ipynb) notebook to generate and save a token for use in this notebook.  \n",
    "\n",
    "We can read in our token after it has been generated and saved using the [NASA_Earthdata_Login_Token](../how-tos/authentication/NASA_Earthdata_Login_Token.ipynb) notebook. The json file produce can be found here: `/home/jovyan/.hidden_dir/edl_token.json`. We'll read to token into a variable named `token`."
   ]
  },
  {
   "cell_type": "code",
   "execution_count": 4,
   "id": "0f6f0020-55b1-462a-9630-e0ee428b495b",
   "metadata": {},
   "outputs": [],
   "source": [
    "with open('../../.hidden_dir/edl_token.json') as js:\n",
    "    token = json.load(js)['access_token']"
   ]
  },
  {
   "cell_type": "markdown",
   "id": "907bb4fd-c7a8-4762-9347-3d2b11b7fea8",
   "metadata": {},
   "source": [
    "We'll want to get the content in `json` (pronounced \"jason\") format, so I pass a dictionary to the header keyword argument to say that I want results returned as `json`.\n",
    "\n",
    "The `.get()` method is used to send this information to the CMR API. `get()` calls the HTTP method __GET__. "
   ]
  },
  {
   "cell_type": "code",
   "execution_count": 5,
   "id": "suited-wrestling",
   "metadata": {},
   "outputs": [],
   "source": [
    "response = requests.get(url,\n",
    "                        params={\n",
    "                            'cloud_hosted': 'True',\n",
    "                            'has_granules': 'True',\n",
    "                        },\n",
    "                        headers={\n",
    "                            'Accept': 'application/json',\n",
    "                        }\n",
    "                       )"
   ]
  },
  {
   "cell_type": "markdown",
   "id": "monetary-harbor",
   "metadata": {},
   "source": [
    "The request returns a `Response` object.    \n",
    "\n",
    "To check that our request was successful we can print the `response` variable we saved the request to."
   ]
  },
  {
   "cell_type": "code",
   "execution_count": 6,
   "id": "ongoing-progressive",
   "metadata": {},
   "outputs": [
    {
     "data": {
      "text/plain": [
       "<Response [200]>"
      ]
     },
     "execution_count": 6,
     "metadata": {},
     "output_type": "execute_result"
    }
   ],
   "source": [
    "response"
   ]
  },
  {
   "cell_type": "markdown",
   "id": "linear-collins",
   "metadata": {},
   "source": [
    "A __200__ response is what we want. This means that the requests was successful. For more information on HTTP status codes see <https://en.wikipedia.org/wiki/List_of_HTTP_status_codes>\n",
    "\n",
    "A more explict way to check the status code is to use the `status_code` attribute. Both methods return a HTTP status code."
   ]
  },
  {
   "cell_type": "code",
   "execution_count": 7,
   "id": "printable-determination",
   "metadata": {},
   "outputs": [
    {
     "data": {
      "text/plain": [
       "200"
      ]
     },
     "execution_count": 7,
     "metadata": {},
     "output_type": "execute_result"
    }
   ],
   "source": [
    "response.status_code"
   ]
  },
  {
   "cell_type": "markdown",
   "id": "australian-resolution",
   "metadata": {},
   "source": [
    "The response from `requests.get` returns the results of the search and metadata about those results in the `headers`.  \n",
    "\n",
    "More information about the `response` object can be found by typing `help(response)`.\n",
    "\n",
    "`headers` contains useful information in a case-insensitive dictionary. We requested (above) that the information be return in json which means the object return is a dictionary in our Python environment. We'll iterate through the returned dictionary, looping throught each field (`k`) and its associated value (`v`). For more on interating through dictionary object click [here](https://realpython.com/iterate-through-dictionary-python/)."
   ]
  },
  {
   "cell_type": "code",
   "execution_count": 8,
   "id": "driving-vintage",
   "metadata": {},
   "outputs": [
    {
     "name": "stdout",
     "output_type": "stream",
     "text": [
      "Content-Type: application/json;charset=utf-8\n",
      "Content-Length: 4518\n",
      "Connection: keep-alive\n",
      "Date: Fri, 08 Apr 2022 17:26:19 GMT\n",
      "X-Frame-Options: SAMEORIGIN\n",
      "Access-Control-Allow-Origin: *\n",
      "X-XSS-Protection: 1; mode=block\n",
      "CMR-Request-Id: 4af129b5-7119-4c6c-8772-3b5dab7ac964\n",
      "Strict-Transport-Security: max-age=31536000\n",
      "CMR-Search-After: [0.0,18400.0,\"SENTINEL-1A_OCN\",\"1\",1214472977,1250]\n",
      "CMR-Hits: 1172\n",
      "Access-Control-Expose-Headers: CMR-Hits, CMR-Request-Id, X-Request-Id, CMR-Scroll-Id, CMR-Search-After, CMR-Timed-Out, CMR-Shapefile-Original-Point-Count, CMR-Shapefile-Simplified-Point-Count\n",
      "X-Content-Type-Options: nosniff\n",
      "CMR-Took: 194\n",
      "X-Request-Id: pW-PuXNWhMvuUsomy4h5mpMBxPIZQ1A4fuSGh_DZLtQL_y6fSrAZkQ==\n",
      "Vary: Accept-Encoding, User-Agent\n",
      "Content-Encoding: gzip\n",
      "Server: ServerTokens ProductOnly\n",
      "X-Cache: Miss from cloudfront\n",
      "Via: 1.1 e9c8cd6cad69627cb7c9d88123e6e2cc.cloudfront.net (CloudFront)\n",
      "X-Amz-Cf-Pop: HIO50-C2\n",
      "X-Amz-Cf-Id: pW-PuXNWhMvuUsomy4h5mpMBxPIZQ1A4fuSGh_DZLtQL_y6fSrAZkQ==\n"
     ]
    }
   ],
   "source": [
    "for k, v in response.headers.items():\n",
    "    print(f'{k}: {v}')"
   ]
  },
  {
   "cell_type": "markdown",
   "id": "durable-ceramic",
   "metadata": {},
   "source": [
    "Each item in the dictionary can be accessed in the normal way you access a `python` dictionary but the keys uniquely case-insensitive. Let's take a look at the commonly used `CMR-Hits` key.\n",
    "\n"
   ]
  },
  {
   "cell_type": "code",
   "execution_count": 9,
   "id": "entertaining-blend",
   "metadata": {},
   "outputs": [
    {
     "data": {
      "text/plain": [
       "'1172'"
      ]
     },
     "execution_count": 9,
     "metadata": {},
     "output_type": "execute_result"
    }
   ],
   "source": [
    "response.headers['CMR-Hits']"
   ]
  },
  {
   "cell_type": "markdown",
   "id": "governmental-disclosure",
   "metadata": {},
   "source": [
    "Note that \"cmr-hits\" works as well!"
   ]
  },
  {
   "cell_type": "code",
   "execution_count": 10,
   "id": "unsigned-january",
   "metadata": {},
   "outputs": [
    {
     "data": {
      "text/plain": [
       "'1172'"
      ]
     },
     "execution_count": 10,
     "metadata": {},
     "output_type": "execute_result"
    }
   ],
   "source": [
    "response.headers['cmr-hits']"
   ]
  },
  {
   "cell_type": "markdown",
   "id": "eleven-mother",
   "metadata": {},
   "source": [
    "In some situations the response to your query can return a very large number of result, some of which may not be relevant. We can add additional [query parameters](https://cmr.earthdata.nasa.gov/search/site/docs/search/api.html) to restrict the information returned. We're going to restrict the search by the `provider` parameter.\n",
    "\n",
    "You can modify the code below to explore all Earthdata data products hosted by the various providers. When searching by provider, use _Cloud Provider_ to search for cloud-hosted datasets and _On-Premises Provider_ to search for datasets archived at the DAACs. A partial list of providers is given below.\n",
    "\n",
    "DAAC      | Short Name                              | Cloud Provider | On-Premises Provider  \n",
    "----------|-----------------------------------------|----------------|----------------------  \n",
    "NSIDC     | National Snow and Ice Data Center       | NSIDC_CPRD     | NSIDC_ECS  \n",
    "GHRC DAAC | Global Hydrometeorology Resource Center | GHRC_DAAC      | GHRC_DAAC  \n",
    "PO DAAC   | Physical Oceanography Distributed Active Archive Center | POCLOUD | PODAAC  \n",
    "ASF       | Alaska Satellite Facility | ASF | ASF  \n",
    "ORNL DAAC | Oak Ridge National Laboratory | ORNL_CLOUD | ORNL_DAAC  \n",
    "LP DAAC   | Land Processes Distributed Active Archive Center | LPCLOUD | LPDAAC_ECS\n",
    "GES DISC  | NASA Goddard Earth Sciences (GES) Data and Information Services Center (DISC) | GES_DISC | GES_DISC\n",
    "OB DAAC   | NASA's Ocean Biology Distributed Active Archive Center |   | OB_DAAC\n",
    "SEDAC     | NASA's Socioeconomic Data and Applications Center |   | SEDAC"
   ]
  },
  {
   "cell_type": "markdown",
   "id": "5842dc3b-639a-4cac-a838-6413ee1b4bb6",
   "metadata": {},
   "source": [
    "We'll assign the provider to a variable as a _string_ and insert the variable into the parameter argument in the request. We'll also assign the term 'ECOSTRESS' to a varible so we don't need to repeatedly add it to the requests parameters. "
   ]
  },
  {
   "cell_type": "code",
   "execution_count": 11,
   "id": "77daf931-54d6-40b0-823b-a36c352fd06c",
   "metadata": {},
   "outputs": [],
   "source": [
    "provider = 'LPCLOUD'\n",
    "project = 'ECOSTRESS'"
   ]
  },
  {
   "cell_type": "code",
   "execution_count": 12,
   "id": "89d37825-2abf-4b98-8290-9ed1262a9a05",
   "metadata": {},
   "outputs": [],
   "source": [
    "headers = {\n",
    "    'Authorization': f'Bearer {token}',\n",
    "    'Accept': 'application/json',\n",
    "}"
   ]
  },
  {
   "cell_type": "code",
   "execution_count": 13,
   "id": "economic-airfare",
   "metadata": {},
   "outputs": [
    {
     "data": {
      "text/plain": [
       "<Response [200]>"
      ]
     },
     "execution_count": 13,
     "metadata": {},
     "output_type": "execute_result"
    }
   ],
   "source": [
    "response = requests.get(url,\n",
    "                        params={\n",
    "                            'cloud_hosted': 'True',\n",
    "                            'has_granules': 'True',\n",
    "                            'provider': provider,\n",
    "                            'project': project,\n",
    "                        },\n",
    "                        headers=headers\n",
    "                       )\n",
    "response"
   ]
  },
  {
   "cell_type": "code",
   "execution_count": 14,
   "id": "imperial-congo",
   "metadata": {},
   "outputs": [
    {
     "data": {
      "text/plain": [
       "'13'"
      ]
     },
     "execution_count": 14,
     "metadata": {},
     "output_type": "execute_result"
    }
   ],
   "source": [
    "response.headers['cmr-hits']"
   ]
  },
  {
   "cell_type": "markdown",
   "id": "peripheral-static",
   "metadata": {},
   "source": [
    "Search results are contained in the __content__ part of the Response object. However, `response.content` returns information in bytes."
   ]
  },
  {
   "cell_type": "code",
   "execution_count": 15,
   "id": "hawaiian-honolulu",
   "metadata": {
    "tags": []
   },
   "outputs": [
    {
     "data": {
      "text/plain": [
       "b'{\"feed\":{\"updated\":\"2022-04-08T17:26:20.222Z\",\"id\":\"https://cmr.earthdata.nasa.gov:443/search/collections.json?cloud_hosted=True&has_granules=True&provider=LPCLOUD&project=ECOSTRESS\",\"title\":\"ECHO dataset metadata\",\"entry\":[{\"processing_level_id\":\"1A\",\"boxes\":[\"-90 -180 90 180\"],\"time_start\":\"2014-01-01T00:00:00.000Z\",\"version_id\":\"002\",\"updated\":\"2021-06-23T16:51:15.164Z\",\"dataset_id\":\"ECOSTRESS Swath Black Body Instantaneous L1A Global 38 x 69 m V002\",\"has_spatial_subsetting\":false,\"has_transforms\":false,\"has_variables\":false,\"data_center\":\"LPCLOUD\",\"short_name\":\"ECO_L1A_BB\",\"organizations\":[\"LP DAAC\",\"NASA/JPL/ECOSTRESS\"],\"title\":\"ECOSTRESS Swath Black Body Instantaneous L1A Global 38 x 69 m V002\",\"coordinate_system\":\"CARTESIAN\",\"summary\":\"The ECOsystem Spaceborne Thermal Radiometer Experiment on Space Station (ECOSTRESS) will measure the temperature of plants and use that information to better understand how much water plants need and how they respond to stress.\",\"service_features\":{\"opendap\":{\"has_formats\":false,\"has_variables\":false,\"has_transforms\":false,\"has_spatial_subsetting\":false,\"has_temporal_subsetting\":false},\"esi\":{\"has_formats\":false,\"has_variables\":false,\"has_transforms\":false,\"has_spatial_subsetting\":false,\"has_temporal_subsetting\":false},\"harmony\":{\"has_formats\":false,\"has_variables\":false,\"has_transforms\":false,\"has_spatial_subsetting\":false,\"has_temporal_subsetting\":false}},\"orbit_parameters\":{},\"id\":\"C2076119270-LPCLOUD\",\"has_formats\":false,\"score\":1.32,\"consortiums\":[\"GEOSS\",\"EOSDIS\"],\"original_format\":\"UMM_JSON\",\"collection_data_type\":\"SCIENCE_QUALITY\",\"archive_center\":\"LP DAAC\",\"has_temporal_subsetting\":false,\"browse_flag\":false,\"platforms\":[\"ISS\"],\"online_access_flag\":true,\"links\":[{\"rel\":\"http://esipfed.org/ns/fedsearch/1.1/data#\",\"hreflang\":\"en-US\",\"href\":\"https://search.earthdata.nasa.gov/search?q=ECO1ABB+V001\"},{\"rel\":\"http://esipfed.org/ns/fedsearch/1.1/data#\",\"hreflang\":\"en-US\",\"href\":\"https://e4ftl01.cr.usgs.gov/ECOSTRESS/ECO1ABB.001/\"},{\"rel\":\"http://esipfed.org/ns/fedsearch/1.1/metadata#\",\"hreflang\":\"en-US\",\"href\":\"https://lpdaac.usgs.gov/\"}]},{\"processing_level_id\":\"1A\",\"boxes\":[\"-90 -180 90 180\"],\"time_start\":\"2014-01-01T00:00:00.000Z\",\"version_id\":\"002\",\"updated\":\"2021-06-23T16:50:51.069Z\",\"dataset_id\":\"ECOSTRESS Swath Engineering Data Instantaneous L1A Global V002\",\"has_spatial_subsetting\":false,\"has_transforms\":false,\"has_variables\":false,\"data_center\":\"LPCLOUD\",\"short_name\":\"ECO_L1A_ENG\",\"organizations\":[\"LP DAAC\",\"NASA/JPL/ECOSTRESS\"],\"title\":\"ECOSTRESS Swath Engineering Data Instantaneous L1A Global V002\",\"coordinate_system\":\"CARTESIAN\",\"summary\":\"The ECOsystem Spaceborne Thermal Radiometer Experiment on Space Station (ECOSTRESS) will measure the temperature of plants and use that information to better understand how much water plants need and how they respond to stress.\",\"service_features\":{\"opendap\":{\"has_formats\":false,\"has_variables\":false,\"has_transforms\":false,\"has_spatial_subsetting\":false,\"has_temporal_subsetting\":false},\"esi\":{\"has_formats\":false,\"has_variables\":false,\"has_transforms\":false,\"has_spatial_subsetting\":false,\"has_temporal_subsetting\":false},\"harmony\":{\"has_formats\":false,\"has_variables\":false,\"has_transforms\":false,\"has_spatial_subsetting\":false,\"has_temporal_subsetting\":false}},\"orbit_parameters\":{},\"id\":\"C2076086331-LPCLOUD\",\"has_formats\":false,\"score\":1.32,\"consortiums\":[\"GEOSS\",\"EOSDIS\"],\"original_format\":\"UMM_JSON\",\"collection_data_type\":\"SCIENCE_QUALITY\",\"archive_center\":\"LP DAAC\",\"has_temporal_subsetting\":false,\"browse_flag\":false,\"platforms\":[\"ISS\"],\"online_access_flag\":true,\"links\":[{\"rel\":\"http://esipfed.org/ns/fedsearch/1.1/data#\",\"hreflang\":\"en-US\",\"href\":\"https://search.earthdata.nasa.gov/search?q=ECO1AENG+V001\"},{\"rel\":\"http://esipfed.org/ns/fedsearch/1.1/data#\",\"hreflang\":\"en-US\",\"href\":\"https://e4ftl01.cr.usgs.gov/ECOSTRESS/ECO1AENG.001/\"},{\"rel\":\"http://esipfed.org/ns/fedsearch/1.1/metadata#\",\"hreflang\":\"en-US\",\"href\":\"https://lpdaac.usgs.gov/\"},{\"rel\":\"http://esipfed.org/ns/fedsearch/1.1/documentation#\",\"hreflang\":\"en-US\",\"href\":\"https://lpdaac.usgs.gov/sites/default/files/public/product_documentation/ECOSTRESS_User_Guide_v1.pdf\"},{\"rel\":\"http://esipfed.org/ns/fedsearch/1.1/documentation#\",\"hreflang\":\"en-US\",\"href\":\"https://lpdaac.usgs.gov/sites/default/files/public/product_documentation/ECOSTRESS_ATBD_v1.pdf\"}]},{\"processing_level_id\":\"1A\",\"boxes\":[\"-90 -180 90 180\"],\"time_start\":\"2014-01-01T00:00:00.000Z\",\"version_id\":\"002\",\"updated\":\"2021-06-23T16:50:51.088Z\",\"dataset_id\":\"ECOSTRESS Swath Pixel Data Instantaneous L1A Global 38 x 69 m V002\",\"has_spatial_subsetting\":false,\"has_transforms\":false,\"has_variables\":false,\"data_center\":\"LPCLOUD\",\"short_name\":\"ECO_L1A_PIX\",\"organizations\":[\"LP DAAC\",\"NASA/JPL/ECOSTRESS\"],\"title\":\"ECOSTRESS Swath Pixel Data Instantaneous L1A Global 38 x 69 m V002\",\"coordinate_system\":\"CARTESIAN\",\"summary\":\"The ECOsystem Spaceborne Thermal Radiometer Experiment on Space Station (ECOSTRESS) will measure the temperature of plants and use that information to better understand how much water plants need and how they respond to stress.\",\"service_features\":{\"opendap\":{\"has_formats\":false,\"has_variables\":false,\"has_transforms\":false,\"has_spatial_subsetting\":false,\"has_temporal_subsetting\":false},\"esi\":{\"has_formats\":false,\"has_variables\":false,\"has_transforms\":false,\"has_spatial_subsetting\":false,\"has_temporal_subsetting\":false},\"harmony\":{\"has_formats\":false,\"has_variables\":false,\"has_transforms\":false,\"has_spatial_subsetting\":false,\"has_temporal_subsetting\":false}},\"orbit_parameters\":{},\"id\":\"C2076118669-LPCLOUD\",\"has_formats\":false,\"score\":1.32,\"consortiums\":[\"GEOSS\",\"EOSDIS\"],\"original_format\":\"UMM_JSON\",\"collection_data_type\":\"SCIENCE_QUALITY\",\"archive_center\":\"LP DAAC\",\"has_temporal_subsetting\":false,\"browse_flag\":false,\"platforms\":[\"ISS\"],\"online_access_flag\":true,\"links\":[{\"rel\":\"http://esipfed.org/ns/fedsearch/1.1/data#\",\"hreflang\":\"en-US\",\"href\":\"https://search.earthdata.nasa.gov/search?q=ECO_L1A_PIX+V002\"},{\"rel\":\"http://esipfed.org/ns/fedsearch/1.1/data#\",\"hreflang\":\"en-US\",\"href\":\"https://e4ftl01.cr.usgs.gov/ECOSTRESS/ECO_L1A_PIX.002/\"},{\"rel\":\"http://esipfed.org/ns/fedsearch/1.1/metadata#\",\"hreflang\":\"en-US\",\"href\":\"https://lpdaac.usgs.gov/\"}]},{\"processing_level_id\":\"1B\",\"boxes\":[\"-90 -180 90 180\"],\"time_start\":\"2014-01-01T00:00:00.000Z\",\"version_id\":\"002\",\"updated\":\"2021-06-23T16:51:15.169Z\",\"dataset_id\":\"ECOSTRESS Swath Attitude and Ephemeris Instantaneous L1B Global V002\",\"has_spatial_subsetting\":false,\"has_transforms\":false,\"has_variables\":false,\"data_center\":\"LPCLOUD\",\"short_name\":\"ECO_L1B_ATT\",\"organizations\":[\"LP DAAC\",\"NASA/JPL/ECOSTRESS\"],\"title\":\"ECOSTRESS Swath Attitude and Ephemeris Instantaneous L1B Global V002\",\"coordinate_system\":\"CARTESIAN\",\"summary\":\"The ECOsystem Spaceborne Thermal Radiometer Experiment on Space Station (ECOSTRESS) will measure the temperature of plants and use that information to better understand how much water plants need and how they respond to stress.\",\"service_features\":{\"opendap\":{\"has_formats\":false,\"has_variables\":false,\"has_transforms\":false,\"has_spatial_subsetting\":false,\"has_temporal_subsetting\":false},\"esi\":{\"has_formats\":false,\"has_variables\":false,\"has_transforms\":false,\"has_spatial_subsetting\":false,\"has_temporal_subsetting\":false},\"harmony\":{\"has_formats\":false,\"has_variables\":false,\"has_transforms\":false,\"has_spatial_subsetting\":false,\"has_temporal_subsetting\":false}},\"orbit_parameters\":{},\"id\":\"C2076117996-LPCLOUD\",\"has_formats\":false,\"score\":1.32,\"consortiums\":[\"GEOSS\",\"EOSDIS\"],\"original_format\":\"UMM_JSON\",\"collection_data_type\":\"SCIENCE_QUALITY\",\"archive_center\":\"LP DAAC\",\"has_temporal_subsetting\":false,\"browse_flag\":false,\"platforms\":[\"ISS\"],\"online_access_flag\":true,\"links\":[{\"rel\":\"http://esipfed.org/ns/fedsearch/1.1/data#\",\"hreflang\":\"en-US\",\"href\":\"https://search.earthdata.nasa.gov/search?q=ECO_L1B_ATT+V002\"},{\"rel\":\"http://esipfed.org/ns/fedsearch/1.1/data#\",\"hreflang\":\"en-US\",\"href\":\"https://e4ftl01.cr.usgs.gov/ECOSTRESS/ECO_L1B_ATT.002/\"},{\"rel\":\"http://esipfed.org/ns/fedsearch/1.1/metadata#\",\"hreflang\":\"en-US\",\"href\":\"https://doi.org/10.5067/ECOSTRESS/ECO_L1B_ATT.002\"},{\"rel\":\"http://esipfed.org/ns/fedsearch/1.1/metadata#\",\"hreflang\":\"en-US\",\"href\":\"https://lpdaac.usgs.gov/\"},{\"rel\":\"http://esipfed.org/ns/fedsearch/1.1/documentation#\",\"hreflang\":\"en-US\",\"href\":\"https://lpdaac.usgs.gov/sites/default/files/public/product_documentation/ECOSTRESS_User_Guide_v6.pdf\"},{\"rel\":\"http://esipfed.org/ns/fedsearch/1.1/documentation#\",\"hreflang\":\"en-US\",\"href\":\"https://lpdaac.usgs.gov/sites/default/files/public/product_documentation/ECOSTRESS_ATBD_v2.pdf\"},{\"rel\":\"http://esipfed.org/ns/fedsearch/1.1/metadata#\",\"hreflang\":\"en-US\",\"href\":\"https://doi.org/10.5067/ECOSTRESS/ECO_L1B_ATT.002\"}]},{\"processing_level_id\":\"1B\",\"boxes\":[\"-90 -180 90 180\"],\"time_start\":\"2014-01-01T00:00:00.000Z\",\"version_id\":\"002\",\"updated\":\"2021-06-23T16:50:51.081Z\",\"dataset_id\":\"ECOSTRESS Swath Geolocation Instantaneous L1B Global 70 m V002\",\"has_spatial_subsetting\":false,\"has_transforms\":false,\"has_variables\":false,\"data_center\":\"LPCLOUD\",\"short_name\":\"ECO_L1B_GEO\",\"organizations\":[\"LP DAAC\",\"NASA/JPL/ECOSTRESS\"],\"title\":\"ECOSTRESS Swath Geolocation Instantaneous L1B Global 70 m V002\",\"coordinate_system\":\"CARTESIAN\",\"summary\":\"The ECOsystem Spaceborne Thermal Radiometer Experiment on Space Station (ECOSTRESS) will measure the temperature of plants and use that information to better understand how much water plants need and how they respond to stress.\",\"service_features\":{\"opendap\":{\"has_formats\":false,\"has_variables\":false,\"has_transforms\":false,\"has_spatial_subsetting\":false,\"has_temporal_subsetting\":false},\"esi\":{\"has_formats\":false,\"has_variables\":false,\"has_transforms\":false,\"has_spatial_subsetting\":false,\"has_temporal_subsetting\":false},\"harmony\":{\"has_formats\":false,\"has_variables\":false,\"has_transforms\":false,\"has_spatial_subsetting\":false,\"has_temporal_subsetting\":false}},\"orbit_parameters\":{},\"id\":\"C2076087338-LPCLOUD\",\"has_formats\":false,\"score\":1.32,\"consortiums\":[\"GEOSS\",\"EOSDIS\"],\"original_format\":\"UMM_JSON\",\"collection_data_type\":\"SCIENCE_QUALITY\",\"archive_center\":\"LP DAAC\",\"has_temporal_subsetting\":false,\"browse_flag\":false,\"platforms\":[\"ISS\"],\"online_access_flag\":true,\"links\":[{\"rel\":\"http://esipfed.org/ns/fedsearch/1.1/data#\",\"hreflang\":\"en-US\",\"href\":\"https://search.earthdata.nasa.gov/search?q=ECO1BGEO+V001\"},{\"rel\":\"http://esipfed.org/ns/fedsearch/1.1/data#\",\"hreflang\":\"en-US\",\"href\":\"https://e4ftl01.cr.usgs.gov/ECOSTRESS/ECO1BGEO.001/\"},{\"rel\":\"http://esipfed.org/ns/fedsearch/1.1/metadata#\",\"hreflang\":\"en-US\",\"href\":\"https://doi.org/10.5067/ECOSTRESS/ECO1BGEO.001\"},{\"rel\":\"http://esipfed.org/ns/fedsearch/1.1/metadata#\",\"hreflang\":\"en-US\",\"href\":\"https://lpdaac.usgs.gov/\"},{\"rel\":\"http://esipfed.org/ns/fedsearch/1.1/documentation#\",\"hreflang\":\"en-US\",\"href\":\"https://lpdaac.usgs.gov/sites/default/files/public/product_documentation/ECOSTRESS_User_Guide_v6.pdf\"},{\"rel\":\"http://esipfed.org/ns/fedsearch/1.1/documentation#\",\"hreflang\":\"en-US\",\"href\":\"https://lpdaac.usgs.gov/sites/default/files/public/product_documentation/ECOSTRESS_ATBD_v1.pdf\"},{\"rel\":\"http://esipfed.org/ns/fedsearch/1.1/metadata#\",\"hreflang\":\"en-US\",\"href\":\"https://doi.org/10.5067/ECOSTRESS/ECO1BGEO.001\"}]},{\"processing_level_id\":\"1B\",\"boxes\":[\"-90 -180 90 180\"],\"time_start\":\"2014-01-01T00:00:00.000Z\",\"version_id\":\"002\",\"updated\":\"2021-06-23T16:50:51.084Z\",\"dataset_id\":\"ECOSTRESS Swath Top of Atmosphere Calibrated Radiance Instantaneous L1B Global 70 m V002\",\"has_spatial_subsetting\":false,\"has_transforms\":false,\"has_variables\":false,\"data_center\":\"LPCLOUD\",\"short_name\":\"ECO_L1B_RAD\",\"organizations\":[\"LP DAAC\",\"NASA/JPL/ECOSTRESS\"],\"title\":\"ECOSTRESS Swath Top of Atmosphere Calibrated Radiance Instantaneous L1B Global 70 m V002\",\"coordinate_system\":\"CARTESIAN\",\"summary\":\"The ECOsystem Spaceborne Thermal Radiometer Experiment on Space Station (ECOSTRESS) will measure the temperature of plants and use that information to better understand how much water plants need and how they respond to stress.\",\"service_features\":{\"opendap\":{\"has_formats\":false,\"has_variables\":false,\"has_transforms\":false,\"has_spatial_subsetting\":false,\"has_temporal_subsetting\":false},\"esi\":{\"has_formats\":false,\"has_variables\":false,\"has_transforms\":false,\"has_spatial_subsetting\":false,\"has_temporal_subsetting\":false},\"harmony\":{\"has_formats\":false,\"has_variables\":false,\"has_transforms\":false,\"has_spatial_subsetting\":false,\"has_temporal_subsetting\":false}},\"orbit_parameters\":{},\"id\":\"C2076116385-LPCLOUD\",\"has_formats\":false,\"score\":1.32,\"consortiums\":[\"GEOSS\",\"EOSDIS\"],\"original_format\":\"UMM_JSON\",\"collection_data_type\":\"SCIENCE_QUALITY\",\"archive_center\":\"LP DAAC\",\"has_temporal_subsetting\":false,\"browse_flag\":false,\"platforms\":[\"ISS\"],\"online_access_flag\":true,\"links\":[{\"rel\":\"http://esipfed.org/ns/fedsearch/1.1/data#\",\"hreflang\":\"en-US\",\"href\":\"https://search.earthdata.nasa.gov/search?q=ECO_L1B_RAD+V002\"},{\"rel\":\"http://esipfed.org/ns/fedsearch/1.1/data#\",\"hreflang\":\"en-US\",\"href\":\"https://e4ftl01.cr.usgs.gov/ECOSTRESS/ECO_L1B_RAD.002\"},{\"rel\":\"http://esipfed.org/ns/fedsearch/1.1/metadata#\",\"hreflang\":\"en-US\",\"href\":\"https://doi.org/10.5067/ECOSTRESS/ECO_L1B_RAD.002\"},{\"rel\":\"http://esipfed.org/ns/fedsearch/1.1/metadata#\",\"hreflang\":\"en-US\",\"href\":\"https://lpdaac.usgs.gov/\"},{\"rel\":\"http://esipfed.org/ns/fedsearch/1.1/documentation#\",\"hreflang\":\"en-US\",\"href\":\"https://lpdaac.usgs.gov/sites/default/files/public/product_documentation/ECOSTRESS_User_Guide_v6.pdf\"},{\"rel\":\"http://esipfed.org/ns/fedsearch/1.1/documentation#\",\"hreflang\":\"en-US\",\"href\":\"https://lpdaac.usgs.gov/sites/default/files/public/product_documentation/ECOSTRESS_ATBD_v1.pdf\"},{\"rel\":\"http://esipfed.org/ns/fedsearch/1.1/metadata#\",\"hreflang\":\"en-US\",\"href\":\"https://doi.org/10.5067/ECOSTRESS/ECO_L1B_RAD.002\"}]},{\"processing_level_id\":\"2\",\"boxes\":[\"-90 -180 90 180\"],\"time_start\":\"2014-01-01T00:00:00.000Z\",\"version_id\":\"002\",\"updated\":\"2021-06-23T16:50:50.969Z\",\"dataset_id\":\"ECOSTRESS Gridded Cloud Mask Instantaneous L2 Global 70 m V002\",\"has_spatial_subsetting\":false,\"has_transforms\":false,\"has_variables\":false,\"data_center\":\"LPCLOUD\",\"short_name\":\"ECO_L2G_CLOUD\",\"organizations\":[\"LP DAAC\",\"NASA/JPL/ECOSTRESS\"],\"title\":\"ECOSTRESS Gridded Cloud Mask Instantaneous L2 Global 70 m V002\",\"coordinate_system\":\"CARTESIAN\",\"summary\":\"The ECOsystem Spaceborne Thermal Radiometer Experiment on Space Station (ECOSTRESS) will measure the temperature of plants and use that information to better understand how much water plants need and how they respond to stress.\",\"service_features\":{\"opendap\":{\"has_formats\":false,\"has_variables\":false,\"has_transforms\":false,\"has_spatial_subsetting\":false,\"has_temporal_subsetting\":false},\"esi\":{\"has_formats\":false,\"has_variables\":false,\"has_transforms\":false,\"has_spatial_subsetting\":false,\"has_temporal_subsetting\":false},\"harmony\":{\"has_formats\":false,\"has_variables\":false,\"has_transforms\":false,\"has_spatial_subsetting\":false,\"has_temporal_subsetting\":false}},\"orbit_parameters\":{},\"id\":\"C2076113561-LPCLOUD\",\"has_formats\":false,\"score\":1.32,\"consortiums\":[\"GEOSS\",\"EOSDIS\"],\"original_format\":\"UMM_JSON\",\"collection_data_type\":\"SCIENCE_QUALITY\",\"archive_center\":\"LP DAAC\",\"has_temporal_subsetting\":false,\"browse_flag\":false,\"platforms\":[\"ISS\"],\"online_access_flag\":true,\"links\":[{\"rel\":\"http://esipfed.org/ns/fedsearch/1.1/data#\",\"hreflang\":\"en-US\",\"href\":\"https://search.earthdata.nasa.gov/search?q=ECO_L2G_CLOUD+V002\"},{\"rel\":\"http://esipfed.org/ns/fedsearch/1.1/metadata#\",\"hreflang\":\"en-US\",\"href\":\"https://doi.org/10.5067/ECOSTRESS/ECO_L2G_CLOUD.002\"},{\"rel\":\"http://esipfed.org/ns/fedsearch/1.1/metadata#\",\"hreflang\":\"en-US\",\"href\":\"https://lpdaac.usgs.gov/\"},{\"rel\":\"http://esipfed.org/ns/fedsearch/1.1/documentation#\",\"hreflang\":\"en-US\",\"href\":\"https://lpdaac.usgs.gov/sites/default/files/public/product_documentation/ECOSTRESS_User_Guide_v6.pdf\"},{\"rel\":\"http://esipfed.org/ns/fedsearch/1.1/documentation#\",\"hreflang\":\"en-US\",\"href\":\"https://lpdaac.usgs.gov/sites/default/files/public/product_documentation/ECOSTRESS_ATBD_v1.pdf\"}]},{\"processing_level_id\":\"2\",\"boxes\":[\"-90 -180 90 180\"],\"time_start\":\"2018-07-09T00:00:00.000Z\",\"version_id\":\"002\",\"updated\":\"2021-06-23T16:50:51.008Z\",\"dataset_id\":\"ECOSTRESS Gridded Land Surface Temperature and Emissivity Instantaneous L2 Global 70 m V002\",\"has_spatial_subsetting\":false,\"has_transforms\":false,\"has_variables\":false,\"data_center\":\"LPCLOUD\",\"short_name\":\"ECO_L2G_LSTE\",\"organizations\":[\"LP DAAC\",\"NASA/JPL/ECOSTRESS\"],\"title\":\"ECOSTRESS Gridded Land Surface Temperature and Emissivity Instantaneous L2 Global 70 m V002\",\"coordinate_system\":\"CARTESIAN\",\"summary\":\"The ECOsystem Spaceborne Thermal Radiometer Experiment on Space Station (ECOSTRESS) will measure the temperature of plants and use that information to better understand how much water plants need and how they respond to stress.\",\"service_features\":{\"opendap\":{\"has_formats\":false,\"has_variables\":false,\"has_transforms\":false,\"has_spatial_subsetting\":false,\"has_temporal_subsetting\":false},\"esi\":{\"has_formats\":false,\"has_variables\":false,\"has_transforms\":false,\"has_spatial_subsetting\":false,\"has_temporal_subsetting\":false},\"harmony\":{\"has_formats\":false,\"has_variables\":false,\"has_transforms\":false,\"has_spatial_subsetting\":false,\"has_temporal_subsetting\":false}},\"orbit_parameters\":{},\"id\":\"C2076113037-LPCLOUD\",\"has_formats\":false,\"score\":1.32,\"consortiums\":[\"GEOSS\",\"EOSDIS\"],\"original_format\":\"UMM_JSON\",\"collection_data_type\":\"SCIENCE_QUALITY\",\"archive_center\":\"LP DAAC\",\"has_temporal_subsetting\":false,\"browse_flag\":false,\"platforms\":[\"ISS\"],\"online_access_flag\":true,\"links\":[{\"rel\":\"http://esipfed.org/ns/fedsearch/1.1/data#\",\"hreflang\":\"en-US\",\"href\":\"https://search.earthdata.nasa.gov/search?q=ECO_L2G_LSTE+V002\"},{\"rel\":\"http://esipfed.org/ns/fedsearch/1.1/data#\",\"hreflang\":\"en-US\",\"href\":\"https://e4ftl01.cr.usgs.gov/ECOSTRESS/ECO_L2G_LSTE.002/\"},{\"rel\":\"http://esipfed.org/ns/fedsearch/1.1/metadata#\",\"hreflang\":\"en-US\",\"href\":\"https://doi.org/10.5067/ECOSTRESS/ECO_L2G_LSTE.002\"},{\"rel\":\"http://esipfed.org/ns/fedsearch/1.1/metadata#\",\"hreflang\":\"en-US\",\"href\":\"https://lpdaac.usgs.gov/\"},{\"rel\":\"http://esipfed.org/ns/fedsearch/1.1/documentation#\",\"hreflang\":\"en-US\",\"href\":\"https://lpdaac.usgs.gov/sites/default/files/public/product_documentation/ECOSTRESS_User_Guide_v6.pdf\"},{\"rel\":\"http://esipfed.org/ns/fedsearch/1.1/documentation#\",\"hreflang\":\"en-US\",\"href\":\"https://lpdaac.usgs.gov/sites/default/files/public/product_documentation/ECOSTRESS_ATBD_v1.pdf\"}]},{\"processing_level_id\":\"2\",\"boxes\":[\"-90 -180 90 180\"],\"time_start\":\"2018-05-07T00:00:00.000Z\",\"version_id\":\"002\",\"dataset_id\":\"ECOSTRESS Gridded Top of Atmosphere Calibrated Radiance Instantaneous L2 Global 70 m V002\",\"has_spatial_subsetting\":false,\"has_transforms\":false,\"has_variables\":false,\"data_center\":\"LPCLOUD\",\"short_name\":\"ECO_L2G_RAD\",\"organizations\":[\"LP DAAC\",\"NASA/JPL/ECOSTRESS\"],\"title\":\"ECOSTRESS Gridded Top of Atmosphere Calibrated Radiance Instantaneous L2 Global 70 m V002\",\"coordinate_system\":\"CARTESIAN\",\"summary\":\"The ECOsystem Spaceborne Thermal Radiometer Experiment on Space Station (ECOSTRESS) will measure the temperature of plants and use that information to better understand how much water plants need and how they respond to stress.\",\"service_features\":{\"opendap\":{\"has_formats\":false,\"has_variables\":false,\"has_transforms\":false,\"has_spatial_subsetting\":false,\"has_temporal_subsetting\":false},\"esi\":{\"has_formats\":false,\"has_variables\":false,\"has_transforms\":false,\"has_spatial_subsetting\":false,\"has_temporal_subsetting\":false},\"harmony\":{\"has_formats\":false,\"has_variables\":false,\"has_transforms\":false,\"has_spatial_subsetting\":false,\"has_temporal_subsetting\":false}},\"orbit_parameters\":{},\"id\":\"C2074824682-LPCLOUD\",\"has_formats\":false,\"score\":1.32,\"consortiums\":[\"GEOSS\",\"EOSDIS\"],\"original_format\":\"UMM_JSON\",\"collection_data_type\":\"SCIENCE_QUALITY\",\"archive_center\":\"LP DAAC\",\"has_temporal_subsetting\":false,\"browse_flag\":false,\"platforms\":[\"ISS\"],\"online_access_flag\":true,\"links\":[{\"rel\":\"http://esipfed.org/ns/fedsearch/1.1/data#\",\"hreflang\":\"en-US\",\"href\":\"https://search.earthdata.nasa.gov/search?q=ECO_L2G_RAD+V002\"},{\"rel\":\"http://esipfed.org/ns/fedsearch/1.1/data#\",\"hreflang\":\"en-US\",\"href\":\"https://e4ftl01.cr.usgs.gov/ECOSTRESS/ECO_L2G_RAD.002/\"},{\"rel\":\"http://esipfed.org/ns/fedsearch/1.1/metadata#\",\"hreflang\":\"en-US\",\"href\":\"https://doi.org/10.5067/ECOSTRESS/ECO_L2G_RAD.002\"},{\"rel\":\"http://esipfed.org/ns/fedsearch/1.1/metadata#\",\"hreflang\":\"en-US\",\"href\":\"https://lpdaac.usgs.gov/\"},{\"rel\":\"http://esipfed.org/ns/fedsearch/1.1/documentation#\",\"hreflang\":\"en-US\",\"href\":\"https://lpdaac.usgs.gov/sites/default/files/public/product_documentation/ECOSTRESS_User_Guide_v1.pdf\"},{\"rel\":\"http://esipfed.org/ns/fedsearch/1.1/documentation#\",\"hreflang\":\"en-US\",\"href\":\"https://lpdaac.usgs.gov/sites/default/files/public/product_documentation/ECOSTRESS_ATBD_v1.pdf\"},{\"rel\":\"http://esipfed.org/ns/fedsearch/1.1/metadata#\",\"hreflang\":\"en-US\",\"href\":\"https://doi.org/10.5067/ECOSTRESS/ECO_L2G_RAD.002\"}]},{\"processing_level_id\":\"2\",\"boxes\":[\"-90 -180 90 180\"],\"time_start\":\"2014-01-01T00:00:00.000Z\",\"version_id\":\"002\",\"updated\":\"2021-06-23T16:50:51.108Z\",\"dataset_id\":\"ECOSTRESS Tiled Land Surface Temperature and Emissivity Instantaneous L2 Global 70 m V002\",\"has_spatial_subsetting\":false,\"has_transforms\":false,\"has_variables\":false,\"data_center\":\"LPCLOUD\",\"short_name\":\"ECO_L2T_LSTE\",\"organizations\":[\"LP DAAC\",\"NASA/JPL/ECOSTRESS\"],\"title\":\"ECOSTRESS Tiled Land Surface Temperature and Emissivity Instantaneous L2 Global 70 m V002\",\"coordinate_system\":\"CARTESIAN\",\"summary\":\"The ECOsystem Spaceborne Thermal Radiometer Experiment on Space Station (ECOSTRESS) will measure the temperature of plants and use that information to better understand how much water plants need and how they respond to stress.\",\"service_features\":{\"opendap\":{\"has_formats\":false,\"has_variables\":false,\"has_transforms\":false,\"has_spatial_subsetting\":false,\"has_temporal_subsetting\":false},\"esi\":{\"has_formats\":false,\"has_variables\":false,\"has_transforms\":false,\"has_spatial_subsetting\":false,\"has_temporal_subsetting\":false},\"harmony\":{\"has_formats\":false,\"has_variables\":false,\"has_transforms\":false,\"has_spatial_subsetting\":false,\"has_temporal_subsetting\":false}},\"orbit_parameters\":{},\"id\":\"C2076090826-LPCLOUD\",\"has_formats\":false,\"score\":1.32,\"consortiums\":[\"GEOSS\",\"EOSDIS\"],\"original_format\":\"UMM_JSON\",\"collection_data_type\":\"SCIENCE_QUALITY\",\"archive_center\":\"LP DAAC\",\"has_temporal_subsetting\":false,\"browse_flag\":true,\"platforms\":[\"ISS\"],\"online_access_flag\":true,\"links\":[{\"rel\":\"http://esipfed.org/ns/fedsearch/1.1/data#\",\"hreflang\":\"en-US\",\"href\":\"https://search.earthdata.nasa.gov/search?q=ECO2LSTE+V002\"},{\"rel\":\"http://esipfed.org/ns/fedsearch/1.1/data#\",\"hreflang\":\"en-US\",\"href\":\"https://e4ftl01.cr.usgs.gov/ECOSTRESS/ECO2LSTE.002/\"},{\"rel\":\"http://esipfed.org/ns/fedsearch/1.1/metadata#\",\"hreflang\":\"en-US\",\"href\":\"https://doi.org/10.5067/ECOSTRESS/ECO_L2T_LSTE.002\"},{\"rel\":\"http://esipfed.org/ns/fedsearch/1.1/metadata#\",\"hreflang\":\"en-US\",\"href\":\"https://lpdaac.usgs.gov/\"},{\"rel\":\"http://esipfed.org/ns/fedsearch/1.1/documentation#\",\"hreflang\":\"en-US\",\"href\":\"https://lpdaac.usgs.gov/sites/default/files/public/product_documentation/ECOSTRESS_User_Guide_v6.pdf\"},{\"rel\":\"http://esipfed.org/ns/fedsearch/1.1/documentation#\",\"hreflang\":\"en-US\",\"href\":\"https://lpdaac.usgs.gov/sites/default/files/public/product_documentation/ECOSTRESS_ATBD_v1.pdf\"},{\"rel\":\"http://esipfed.org/ns/fedsearch/1.1/browse#\",\"hreflang\":\"en-US\",\"href\":\"https://data.lpdaac.earthdatacloud.nasa.gov/lp-prod-public/ECO_L2T_LSTE.002/ECOv002_L2T_LSTE_21247_032_19MCN_20220405T135253_0700_01/ECOv002_L2T_LSTE_21247_032_19MCN_20220405T135253_0700_01.png\"}]}]}}'"
      ]
     },
     "execution_count": 15,
     "metadata": {},
     "output_type": "execute_result"
    }
   ],
   "source": [
    "response.content"
   ]
  },
  {
   "cell_type": "markdown",
   "id": "introductory-manor",
   "metadata": {},
   "source": [
    "A more convenient way to work with this information is to use `json` formatted data. I'm using pretty print `pprint` to print the data in an easy to read way.    \n",
    "\n",
    "**Note**\n",
    "- `response.json()` will format our response in `json` \n",
    "- `['feed']['entry']` returns all entries that CMR returned in the request (not the same as __CMR-Hits__)\n",
    "- `[0]` returns the first entry. Reminder that python starts indexing at 0, not 1!"
   ]
  },
  {
   "cell_type": "code",
   "execution_count": 16,
   "id": "frequent-tucson",
   "metadata": {},
   "outputs": [
    {
     "name": "stdout",
     "output_type": "stream",
     "text": [
      "{'archive_center': 'LP DAAC',\n",
      " 'boxes': ['-90 -180 90 180'],\n",
      " 'browse_flag': False,\n",
      " 'collection_data_type': 'SCIENCE_QUALITY',\n",
      " 'consortiums': ['GEOSS', 'EOSDIS'],\n",
      " 'coordinate_system': 'CARTESIAN',\n",
      " 'data_center': 'LPCLOUD',\n",
      " 'dataset_id': 'ECOSTRESS Swath Black Body Instantaneous L1A Global 38 x 69 m '\n",
      "               'V002',\n",
      " 'has_formats': False,\n",
      " 'has_spatial_subsetting': False,\n",
      " 'has_temporal_subsetting': False,\n",
      " 'has_transforms': False,\n",
      " 'has_variables': False,\n",
      " 'id': 'C2076119270-LPCLOUD',\n",
      " 'links': [{'href': 'https://search.earthdata.nasa.gov/search?q=ECO1ABB+V001',\n",
      "            'hreflang': 'en-US',\n",
      "            'rel': 'http://esipfed.org/ns/fedsearch/1.1/data#'},\n",
      "           {'href': 'https://e4ftl01.cr.usgs.gov/ECOSTRESS/ECO1ABB.001/',\n",
      "            'hreflang': 'en-US',\n",
      "            'rel': 'http://esipfed.org/ns/fedsearch/1.1/data#'},\n",
      "           {'href': 'https://lpdaac.usgs.gov/',\n",
      "            'hreflang': 'en-US',\n",
      "            'rel': 'http://esipfed.org/ns/fedsearch/1.1/metadata#'}],\n",
      " 'online_access_flag': True,\n",
      " 'orbit_parameters': {},\n",
      " 'organizations': ['LP DAAC', 'NASA/JPL/ECOSTRESS'],\n",
      " 'original_format': 'UMM_JSON',\n",
      " 'platforms': ['ISS'],\n",
      " 'processing_level_id': '1A',\n",
      " 'score': 1.32,\n",
      " 'service_features': {'esi': {'has_formats': False,\n",
      "                              'has_spatial_subsetting': False,\n",
      "                              'has_temporal_subsetting': False,\n",
      "                              'has_transforms': False,\n",
      "                              'has_variables': False},\n",
      "                      'harmony': {'has_formats': False,\n",
      "                                  'has_spatial_subsetting': False,\n",
      "                                  'has_temporal_subsetting': False,\n",
      "                                  'has_transforms': False,\n",
      "                                  'has_variables': False},\n",
      "                      'opendap': {'has_formats': False,\n",
      "                                  'has_spatial_subsetting': False,\n",
      "                                  'has_temporal_subsetting': False,\n",
      "                                  'has_transforms': False,\n",
      "                                  'has_variables': False}},\n",
      " 'short_name': 'ECO_L1A_BB',\n",
      " 'summary': 'The ECOsystem Spaceborne Thermal Radiometer Experiment on Space '\n",
      "            'Station (ECOSTRESS) will measure the temperature of plants and '\n",
      "            'use that information to better understand how much water plants '\n",
      "            'need and how they respond to stress.',\n",
      " 'time_start': '2014-01-01T00:00:00.000Z',\n",
      " 'title': 'ECOSTRESS Swath Black Body Instantaneous L1A Global 38 x 69 m V002',\n",
      " 'updated': '2021-06-23T16:51:15.164Z',\n",
      " 'version_id': '002'}\n"
     ]
    }
   ],
   "source": [
    "pprint(response.json()['feed']['entry'][0])"
   ]
  },
  {
   "cell_type": "markdown",
   "id": "viral-campus",
   "metadata": {},
   "source": [
    "The first response contains a lot more information than we need. We'll narrow in on a few fields to get a feel for what we have. We'll print the name of the dataset (`dataset_id`) and the concept id (`id`). We can build this variable and print statement like we did above with the `url` variable. "
   ]
  },
  {
   "cell_type": "code",
   "execution_count": 17,
   "id": "radio-lightning",
   "metadata": {},
   "outputs": [],
   "source": [
    "collections = response.json()['feed']['entry']"
   ]
  },
  {
   "cell_type": "code",
   "execution_count": 18,
   "id": "other-grant",
   "metadata": {},
   "outputs": [
    {
     "name": "stdout",
     "output_type": "stream",
     "text": [
      "LP DAAC | ECOSTRESS Swath Black Body Instantaneous L1A Global 38 x 69 m V002 | C2076119270-LPCLOUD\n",
      "LP DAAC | ECOSTRESS Swath Engineering Data Instantaneous L1A Global V002 | C2076086331-LPCLOUD\n",
      "LP DAAC | ECOSTRESS Swath Pixel Data Instantaneous L1A Global 38 x 69 m V002 | C2076118669-LPCLOUD\n",
      "LP DAAC | ECOSTRESS Swath Attitude and Ephemeris Instantaneous L1B Global V002 | C2076117996-LPCLOUD\n",
      "LP DAAC | ECOSTRESS Swath Geolocation Instantaneous L1B Global 70 m V002 | C2076087338-LPCLOUD\n",
      "LP DAAC | ECOSTRESS Swath Top of Atmosphere Calibrated Radiance Instantaneous L1B Global 70 m V002 | C2076116385-LPCLOUD\n",
      "LP DAAC | ECOSTRESS Gridded Cloud Mask Instantaneous L2 Global 70 m V002 | C2076113561-LPCLOUD\n",
      "LP DAAC | ECOSTRESS Gridded Land Surface Temperature and Emissivity Instantaneous L2 Global 70 m V002 | C2076113037-LPCLOUD\n",
      "LP DAAC | ECOSTRESS Gridded Top of Atmosphere Calibrated Radiance Instantaneous L2 Global 70 m V002 | C2074824682-LPCLOUD\n",
      "LP DAAC | ECOSTRESS Tiled Land Surface Temperature and Emissivity Instantaneous L2 Global 70 m V002 | C2076090826-LPCLOUD\n"
     ]
    }
   ],
   "source": [
    "for collection in collections:\n",
    "    print(f'{collection[\"archive_center\"]} | {collection[\"dataset_id\"]} | {collection[\"id\"]}')"
   ]
  },
  {
   "cell_type": "markdown",
   "id": "injured-services",
   "metadata": {},
   "source": [
    "In some situations we may be expecting a certain number of results. Note here that we only have 10 datasets are printed. We know from `CMR-Hits` that there are more than 10 datasets. This is because CMR restricts the number of results returned by each query. The default is 10 but it can be set to a maximum of 2000. We'll set the `page_size` parameter to 25 so we return all results in a single query."
   ]
  },
  {
   "cell_type": "code",
   "execution_count": 19,
   "id": "federal-analyst",
   "metadata": {},
   "outputs": [
    {
     "data": {
      "text/plain": [
       "<Response [200]>"
      ]
     },
     "execution_count": 19,
     "metadata": {},
     "output_type": "execute_result"
    }
   ],
   "source": [
    "response = requests.get(url,\n",
    "                        params={\n",
    "                            'cloud_hosted': 'True',\n",
    "                            'has_granules': 'True',\n",
    "                            'provider': provider,\n",
    "                            'project': project,\n",
    "                            'page_size': 25\n",
    "                        },\n",
    "                        headers=headers\n",
    "                       )\n",
    "response"
   ]
  },
  {
   "cell_type": "code",
   "execution_count": 20,
   "id": "d6e27f88-911b-4bc9-bfe1-dd9cd42c7640",
   "metadata": {
    "tags": []
   },
   "outputs": [
    {
     "data": {
      "text/plain": [
       "'13'"
      ]
     },
     "execution_count": 20,
     "metadata": {},
     "output_type": "execute_result"
    }
   ],
   "source": [
    "response.headers['cmr-hits']"
   ]
  },
  {
   "cell_type": "markdown",
   "id": "46e99c86-39a2-4df0-8aa7-fc5e7f3a1973",
   "metadata": {},
   "source": [
    "Now, when we can re-run our for loop for the collections we now have all of the available collections listed."
   ]
  },
  {
   "cell_type": "code",
   "execution_count": 21,
   "id": "consecutive-detroit",
   "metadata": {},
   "outputs": [
    {
     "name": "stdout",
     "output_type": "stream",
     "text": [
      "LP DAAC | ECOSTRESS Swath Black Body Instantaneous L1A Global 38 x 69 m V002 | C2076119270-LPCLOUD\n",
      "LP DAAC | ECOSTRESS Swath Engineering Data Instantaneous L1A Global V002 | C2076086331-LPCLOUD\n",
      "LP DAAC | ECOSTRESS Swath Pixel Data Instantaneous L1A Global 38 x 69 m V002 | C2076118669-LPCLOUD\n",
      "LP DAAC | ECOSTRESS Swath Attitude and Ephemeris Instantaneous L1B Global V002 | C2076117996-LPCLOUD\n",
      "LP DAAC | ECOSTRESS Swath Geolocation Instantaneous L1B Global 70 m V002 | C2076087338-LPCLOUD\n",
      "LP DAAC | ECOSTRESS Swath Top of Atmosphere Calibrated Radiance Instantaneous L1B Global 70 m V002 | C2076116385-LPCLOUD\n",
      "LP DAAC | ECOSTRESS Gridded Cloud Mask Instantaneous L2 Global 70 m V002 | C2076113561-LPCLOUD\n",
      "LP DAAC | ECOSTRESS Gridded Land Surface Temperature and Emissivity Instantaneous L2 Global 70 m V002 | C2076113037-LPCLOUD\n",
      "LP DAAC | ECOSTRESS Gridded Top of Atmosphere Calibrated Radiance Instantaneous L2 Global 70 m V002 | C2074824682-LPCLOUD\n",
      "LP DAAC | ECOSTRESS Tiled Land Surface Temperature and Emissivity Instantaneous L2 Global 70 m V002 | C2076090826-LPCLOUD\n",
      "LP DAAC | ECOSTRESS Tiled Top of Atmosphere Calibrated Radiance Instantaneous L2 Global 70 m V002 | C2074842795-LPCLOUD\n",
      "LP DAAC | ECOSTRESS Swath Cloud Mask Instantaneous L2 Global 70 m V002 | C2076115306-LPCLOUD\n",
      "LP DAAC | ECOSTRESS Swath Land Surface Temperature and Emissivity Instantaneous L2 Global 70 m V002 | C2076114664-LPCLOUD\n"
     ]
    }
   ],
   "source": [
    "collections = response.json()['feed']['entry']\n",
    "for collection in collections:\n",
    "    print(f'{collection[\"archive_center\"]} | {collection[\"dataset_id\"]} | {collection[\"id\"]}')"
   ]
  },
  {
   "cell_type": "markdown",
   "id": "swedish-engineer",
   "metadata": {},
   "source": [
    "## Searching for Granules\n",
    "In NASA speak, Granules are files or groups of files. In this example, we will search for ECO2LSTE version 1 for a specified region of interest and datetime range.  \n",
    "\n",
    "We need to change the resource url to look for __granules__ instead of collections"
   ]
  },
  {
   "cell_type": "code",
   "execution_count": 22,
   "id": "unlimited-underwear",
   "metadata": {},
   "outputs": [],
   "source": [
    "url = f'{CMR_OPS}/{\"granules\"}'"
   ]
  },
  {
   "cell_type": "markdown",
   "id": "industrial-typing",
   "metadata": {},
   "source": [
    "We will search by `concept_id`, `temporal`, and `bounding_box`.  Details about these search parameters can be found in the CMR API Documentation.\n",
    "\n",
    "The formatting of the values for each parameter is quite specific.  \n",
    "__Temporal parameters__ are in ISO 8061 format `yyyy-MM-ddTHH:mm:ssZ`.  \n",
    "__Bounding box coordinates__ are lower left longitude, lower left latitude, upper right longitude, upper right latitude. "
   ]
  },
  {
   "cell_type": "code",
   "execution_count": 23,
   "id": "a3769176-73bc-4d80-8284-a0f0b15dc7ea",
   "metadata": {},
   "outputs": [],
   "source": [
    "collection_id = 'C2076090826-LPCLOUD'\n",
    "date_range = '2022-04-01T00:00:00Z,2022-04-30T23:59:59Z'\n",
    "bbox = '-120.45264628,34.51050622,-120.40432448,34.53239876'"
   ]
  },
  {
   "cell_type": "code",
   "execution_count": 24,
   "id": "identified-johnson",
   "metadata": {},
   "outputs": [
    {
     "name": "stdout",
     "output_type": "stream",
     "text": [
      "200\n"
     ]
    }
   ],
   "source": [
    "response = requests.get(url, \n",
    "                        params={\n",
    "                            'concept_id': collection_id,\n",
    "                            'temporal': date_range,\n",
    "                            'bounding_box': bbox,\n",
    "                            'token': token,\n",
    "                            'page_size': 200\n",
    "                            },\n",
    "                        headers=headers\n",
    "                       )\n",
    "print(response.status_code)"
   ]
  },
  {
   "cell_type": "code",
   "execution_count": 25,
   "id": "aggressive-repair",
   "metadata": {},
   "outputs": [
    {
     "name": "stdout",
     "output_type": "stream",
     "text": [
      "1\n"
     ]
    }
   ],
   "source": [
    "print(response.headers['CMR-Hits'])"
   ]
  },
  {
   "cell_type": "code",
   "execution_count": 26,
   "id": "animal-facing",
   "metadata": {},
   "outputs": [
    {
     "name": "stdout",
     "output_type": "stream",
     "text": [
      "LPCLOUD | ECOSTRESS Tiled Land Surface Temperature and Emissivity Instantaneous L2 Global 70 m V002 | G2248838693-LPCLOUD\n"
     ]
    }
   ],
   "source": [
    "granules = response.json()['feed']['entry']\n",
    "for granule in granules:\n",
    "    print(f'{granule[\"data_center\"]} | {granule[\"dataset_id\"]} | {granule[\"id\"]}')"
   ]
  },
  {
   "cell_type": "code",
   "execution_count": 27,
   "id": "deluxe-blues",
   "metadata": {},
   "outputs": [
    {
     "name": "stdout",
     "output_type": "stream",
     "text": [
      "{'boxes': ['34.207188 -120.828926 35.223133 -119.598442'],\n",
      " 'browse_flag': True,\n",
      " 'collection_concept_id': 'C2076090826-LPCLOUD',\n",
      " 'coordinate_system': 'GEODETIC',\n",
      " 'data_center': 'LPCLOUD',\n",
      " 'dataset_id': 'ECOSTRESS Tiled Land Surface Temperature and Emissivity '\n",
      "               'Instantaneous L2 Global 70 m V002',\n",
      " 'day_night_flag': 'NIGHT',\n",
      " 'granule_size': '13.9612',\n",
      " 'id': 'G2248838693-LPCLOUD',\n",
      " 'links': [{'href': 'https://data.lpdaac.earthdatacloud.nasa.gov/lp-prod-protected/ECO_L2T_LSTE.002/ECOv002_L2T_LSTE_21241_015_10SGD_20220405T034009_0700_01/ECOv002_L2T_LSTE_21241_015_10SGD_20220405T034009_0700_01_water.tif',\n",
      "            'hreflang': 'en-US',\n",
      "            'rel': 'http://esipfed.org/ns/fedsearch/1.1/data#',\n",
      "            'title': 'Download '\n",
      "                     'ECOv002_L2T_LSTE_21241_015_10SGD_20220405T034009_0700_01_water.tif'},\n",
      "           {'href': 's3://lp-prod-protected/ECO_L2T_LSTE.002/ECOv002_L2T_LSTE_21241_015_10SGD_20220405T034009_0700_01/ECOv002_L2T_LSTE_21241_015_10SGD_20220405T034009_0700_01_water.tif',\n",
      "            'hreflang': 'en-US',\n",
      "            'rel': 'http://esipfed.org/ns/fedsearch/1.1/s3#',\n",
      "            'title': 'This link provides direct download access via S3 to the '\n",
      "                     'granule'},\n",
      "           {'href': 'https://data.lpdaac.earthdatacloud.nasa.gov/lp-prod-protected/ECO_L2T_LSTE.002/ECOv002_L2T_LSTE_21241_015_10SGD_20220405T034009_0700_01/ECOv002_L2T_LSTE_21241_015_10SGD_20220405T034009_0700_01_cloud.tif',\n",
      "            'hreflang': 'en-US',\n",
      "            'rel': 'http://esipfed.org/ns/fedsearch/1.1/data#',\n",
      "            'title': 'Download '\n",
      "                     'ECOv002_L2T_LSTE_21241_015_10SGD_20220405T034009_0700_01_cloud.tif'},\n",
      "           {'href': 's3://lp-prod-protected/ECO_L2T_LSTE.002/ECOv002_L2T_LSTE_21241_015_10SGD_20220405T034009_0700_01/ECOv002_L2T_LSTE_21241_015_10SGD_20220405T034009_0700_01_cloud.tif',\n",
      "            'hreflang': 'en-US',\n",
      "            'rel': 'http://esipfed.org/ns/fedsearch/1.1/s3#',\n",
      "            'title': 'This link provides direct download access via S3 to the '\n",
      "                     'granule'},\n",
      "           {'href': 'https://data.lpdaac.earthdatacloud.nasa.gov/lp-prod-protected/ECO_L2T_LSTE.002/ECOv002_L2T_LSTE_21241_015_10SGD_20220405T034009_0700_01/ECOv002_L2T_LSTE_21241_015_10SGD_20220405T034009_0700_01_height.tif',\n",
      "            'hreflang': 'en-US',\n",
      "            'rel': 'http://esipfed.org/ns/fedsearch/1.1/data#',\n",
      "            'title': 'Download '\n",
      "                     'ECOv002_L2T_LSTE_21241_015_10SGD_20220405T034009_0700_01_height.tif'},\n",
      "           {'href': 's3://lp-prod-protected/ECO_L2T_LSTE.002/ECOv002_L2T_LSTE_21241_015_10SGD_20220405T034009_0700_01/ECOv002_L2T_LSTE_21241_015_10SGD_20220405T034009_0700_01_height.tif',\n",
      "            'hreflang': 'en-US',\n",
      "            'rel': 'http://esipfed.org/ns/fedsearch/1.1/s3#',\n",
      "            'title': 'This link provides direct download access via S3 to the '\n",
      "                     'granule'},\n",
      "           {'href': 'https://data.lpdaac.earthdatacloud.nasa.gov/lp-prod-protected/ECO_L2T_LSTE.002/ECOv002_L2T_LSTE_21241_015_10SGD_20220405T034009_0700_01/ECOv002_L2T_LSTE_21241_015_10SGD_20220405T034009_0700_01_QC.tif',\n",
      "            'hreflang': 'en-US',\n",
      "            'rel': 'http://esipfed.org/ns/fedsearch/1.1/data#',\n",
      "            'title': 'Download '\n",
      "                     'ECOv002_L2T_LSTE_21241_015_10SGD_20220405T034009_0700_01_QC.tif'},\n",
      "           {'href': 's3://lp-prod-protected/ECO_L2T_LSTE.002/ECOv002_L2T_LSTE_21241_015_10SGD_20220405T034009_0700_01/ECOv002_L2T_LSTE_21241_015_10SGD_20220405T034009_0700_01_QC.tif',\n",
      "            'hreflang': 'en-US',\n",
      "            'rel': 'http://esipfed.org/ns/fedsearch/1.1/s3#',\n",
      "            'title': 'This link provides direct download access via S3 to the '\n",
      "                     'granule'},\n",
      "           {'href': 'https://data.lpdaac.earthdatacloud.nasa.gov/lp-prod-protected/ECO_L2T_LSTE.002/ECOv002_L2T_LSTE_21241_015_10SGD_20220405T034009_0700_01/ECOv002_L2T_LSTE_21241_015_10SGD_20220405T034009_0700_01_LST.tif',\n",
      "            'hreflang': 'en-US',\n",
      "            'rel': 'http://esipfed.org/ns/fedsearch/1.1/data#',\n",
      "            'title': 'Download '\n",
      "                     'ECOv002_L2T_LSTE_21241_015_10SGD_20220405T034009_0700_01_LST.tif'},\n",
      "           {'href': 's3://lp-prod-protected/ECO_L2T_LSTE.002/ECOv002_L2T_LSTE_21241_015_10SGD_20220405T034009_0700_01/ECOv002_L2T_LSTE_21241_015_10SGD_20220405T034009_0700_01_LST.tif',\n",
      "            'hreflang': 'en-US',\n",
      "            'rel': 'http://esipfed.org/ns/fedsearch/1.1/s3#',\n",
      "            'title': 'This link provides direct download access via S3 to the '\n",
      "                     'granule'},\n",
      "           {'href': 'https://data.lpdaac.earthdatacloud.nasa.gov/lp-prod-protected/ECO_L2T_LSTE.002/ECOv002_L2T_LSTE_21241_015_10SGD_20220405T034009_0700_01/ECOv002_L2T_LSTE_21241_015_10SGD_20220405T034009_0700_01_LST_err.tif',\n",
      "            'hreflang': 'en-US',\n",
      "            'rel': 'http://esipfed.org/ns/fedsearch/1.1/data#',\n",
      "            'title': 'Download '\n",
      "                     'ECOv002_L2T_LSTE_21241_015_10SGD_20220405T034009_0700_01_LST_err.tif'},\n",
      "           {'href': 's3://lp-prod-protected/ECO_L2T_LSTE.002/ECOv002_L2T_LSTE_21241_015_10SGD_20220405T034009_0700_01/ECOv002_L2T_LSTE_21241_015_10SGD_20220405T034009_0700_01_LST_err.tif',\n",
      "            'hreflang': 'en-US',\n",
      "            'rel': 'http://esipfed.org/ns/fedsearch/1.1/s3#',\n",
      "            'title': 'This link provides direct download access via S3 to the '\n",
      "                     'granule'},\n",
      "           {'href': 'https://data.lpdaac.earthdatacloud.nasa.gov/lp-prod-protected/ECO_L2T_LSTE.002/ECOv002_L2T_LSTE_21241_015_10SGD_20220405T034009_0700_01/ECOv002_L2T_LSTE_21241_015_10SGD_20220405T034009_0700_01_EmisWB.tif',\n",
      "            'hreflang': 'en-US',\n",
      "            'rel': 'http://esipfed.org/ns/fedsearch/1.1/data#',\n",
      "            'title': 'Download '\n",
      "                     'ECOv002_L2T_LSTE_21241_015_10SGD_20220405T034009_0700_01_EmisWB.tif'},\n",
      "           {'href': 's3://lp-prod-protected/ECO_L2T_LSTE.002/ECOv002_L2T_LSTE_21241_015_10SGD_20220405T034009_0700_01/ECOv002_L2T_LSTE_21241_015_10SGD_20220405T034009_0700_01_EmisWB.tif',\n",
      "            'hreflang': 'en-US',\n",
      "            'rel': 'http://esipfed.org/ns/fedsearch/1.1/s3#',\n",
      "            'title': 'This link provides direct download access via S3 to the '\n",
      "                     'granule'},\n",
      "           {'href': 'https://data.lpdaac.earthdatacloud.nasa.gov/lp-prod-protected/ECO_L2T_LSTE.002/ECOv002_L2T_LSTE_21241_015_10SGD_20220405T034009_0700_01/ECOv002_L2T_LSTE_21241_015_10SGD_20220405T034009_0700_01.json',\n",
      "            'hreflang': 'en-US',\n",
      "            'rel': 'http://esipfed.org/ns/fedsearch/1.1/metadata#',\n",
      "            'title': 'Download '\n",
      "                     'ECOv002_L2T_LSTE_21241_015_10SGD_20220405T034009_0700_01.json '\n",
      "                     '(VIEW RELATED INFORMATION)'},\n",
      "           {'href': 's3://lp-prod-protected/ECO_L2T_LSTE.002/ECOv002_L2T_LSTE_21241_015_10SGD_20220405T034009_0700_01/ECOv002_L2T_LSTE_21241_015_10SGD_20220405T034009_0700_01.json',\n",
      "            'hreflang': 'en-US',\n",
      "            'rel': 'http://esipfed.org/ns/fedsearch/1.1/metadata#',\n",
      "            'title': 'This link provides direct download access via S3 to the '\n",
      "                     'granule (VIEW RELATED INFORMATION)'},\n",
      "           {'href': 'https://data.lpdaac.earthdatacloud.nasa.gov/lp-prod-protected/ECO_L2T_LSTE.002/ECOv002_L2T_LSTE_21241_015_10SGD_20220405T034009_0700_01/ECOv002_L2T_LSTE_21241_015_10SGD_20220405T034009_0700_01.cmr.xml',\n",
      "            'hreflang': 'en-US',\n",
      "            'rel': 'http://esipfed.org/ns/fedsearch/1.1/metadata#',\n",
      "            'title': 'Download '\n",
      "                     'ECOv002_L2T_LSTE_21241_015_10SGD_20220405T034009_0700_01.cmr.xml '\n",
      "                     '(EXTENDED METADATA)'},\n",
      "           {'href': 's3://lp-prod-protected/ECO_L2T_LSTE.002/ECOv002_L2T_LSTE_21241_015_10SGD_20220405T034009_0700_01/ECOv002_L2T_LSTE_21241_015_10SGD_20220405T034009_0700_01.cmr.xml',\n",
      "            'hreflang': 'en-US',\n",
      "            'rel': 'http://esipfed.org/ns/fedsearch/1.1/metadata#',\n",
      "            'title': 'This link provides direct download access via S3 to the '\n",
      "                     'granule (EXTENDED METADATA)'},\n",
      "           {'href': 'https://data.lpdaac.earthdatacloud.nasa.gov/s3credentials',\n",
      "            'hreflang': 'en-US',\n",
      "            'rel': 'http://esipfed.org/ns/fedsearch/1.1/metadata#',\n",
      "            'title': 'api endpoint to retrieve temporary credentials valid for '\n",
      "                     'same-region direct s3 access (VIEW RELATED INFORMATION)'},\n",
      "           {'href': 'https://data.lpdaac.earthdatacloud.nasa.gov/lp-prod-public/ECO_L2T_LSTE.002/ECOv002_L2T_LSTE_21241_015_10SGD_20220405T034009_0700_01/ECOv002_L2T_LSTE_21241_015_10SGD_20220405T034009_0700_01.png',\n",
      "            'hreflang': 'en-US',\n",
      "            'rel': 'http://esipfed.org/ns/fedsearch/1.1/browse#',\n",
      "            'title': 'Download '\n",
      "                     'ECOv002_L2T_LSTE_21241_015_10SGD_20220405T034009_0700_01.png'},\n",
      "           {'href': 's3://lp-prod-public/ECO_L2T_LSTE.002/ECOv002_L2T_LSTE_21241_015_10SGD_20220405T034009_0700_01/ECOv002_L2T_LSTE_21241_015_10SGD_20220405T034009_0700_01.png',\n",
      "            'hreflang': 'en-US',\n",
      "            'rel': 'http://esipfed.org/ns/fedsearch/1.1/browse#',\n",
      "            'title': 'This link provides direct download access via S3 to the '\n",
      "                     'granule'},\n",
      "           {'href': 'https://data.lpdaac.earthdatacloud.nasa.gov/lp-prod-protected/ECO_L2T_LSTE.002/ECOv002_L2T_LSTE_21241_015_10SGD_20220405T034009_0700_01/ECOv002_L2T_LSTE_21241_015_10SGD_20220405T034009_0700_01_water.jpeg',\n",
      "            'hreflang': 'en-US',\n",
      "            'rel': 'http://esipfed.org/ns/fedsearch/1.1/browse#',\n",
      "            'title': 'Download '\n",
      "                     'ECOv002_L2T_LSTE_21241_015_10SGD_20220405T034009_0700_01_water.jpeg'},\n",
      "           {'href': 's3://lp-prod-protected/ECO_L2T_LSTE.002/ECOv002_L2T_LSTE_21241_015_10SGD_20220405T034009_0700_01/ECOv002_L2T_LSTE_21241_015_10SGD_20220405T034009_0700_01_water.jpeg',\n",
      "            'hreflang': 'en-US',\n",
      "            'rel': 'http://esipfed.org/ns/fedsearch/1.1/browse#',\n",
      "            'title': 'This link provides direct download access via S3 to the '\n",
      "                     'granule'},\n",
      "           {'href': 'https://data.lpdaac.earthdatacloud.nasa.gov/lp-prod-protected/ECO_L2T_LSTE.002/ECOv002_L2T_LSTE_21241_015_10SGD_20220405T034009_0700_01/ECOv002_L2T_LSTE_21241_015_10SGD_20220405T034009_0700_01_water.jpeg.aux.xml',\n",
      "            'hreflang': 'en-US',\n",
      "            'rel': 'http://esipfed.org/ns/fedsearch/1.1/browse#',\n",
      "            'title': 'Download '\n",
      "                     'ECOv002_L2T_LSTE_21241_015_10SGD_20220405T034009_0700_01_water.jpeg.aux.xml'},\n",
      "           {'href': 's3://lp-prod-protected/ECO_L2T_LSTE.002/ECOv002_L2T_LSTE_21241_015_10SGD_20220405T034009_0700_01/ECOv002_L2T_LSTE_21241_015_10SGD_20220405T034009_0700_01_water.jpeg.aux.xml',\n",
      "            'hreflang': 'en-US',\n",
      "            'rel': 'http://esipfed.org/ns/fedsearch/1.1/browse#',\n",
      "            'title': 'This link provides direct download access via S3 to the '\n",
      "                     'granule'},\n",
      "           {'href': 'https://data.lpdaac.earthdatacloud.nasa.gov/lp-prod-protected/ECO_L2T_LSTE.002/ECOv002_L2T_LSTE_21241_015_10SGD_20220405T034009_0700_01/ECOv002_L2T_LSTE_21241_015_10SGD_20220405T034009_0700_01_cloud.jpeg',\n",
      "            'hreflang': 'en-US',\n",
      "            'rel': 'http://esipfed.org/ns/fedsearch/1.1/browse#',\n",
      "            'title': 'Download '\n",
      "                     'ECOv002_L2T_LSTE_21241_015_10SGD_20220405T034009_0700_01_cloud.jpeg'},\n",
      "           {'href': 's3://lp-prod-protected/ECO_L2T_LSTE.002/ECOv002_L2T_LSTE_21241_015_10SGD_20220405T034009_0700_01/ECOv002_L2T_LSTE_21241_015_10SGD_20220405T034009_0700_01_cloud.jpeg',\n",
      "            'hreflang': 'en-US',\n",
      "            'rel': 'http://esipfed.org/ns/fedsearch/1.1/browse#',\n",
      "            'title': 'This link provides direct download access via S3 to the '\n",
      "                     'granule'},\n",
      "           {'href': 'https://data.lpdaac.earthdatacloud.nasa.gov/lp-prod-protected/ECO_L2T_LSTE.002/ECOv002_L2T_LSTE_21241_015_10SGD_20220405T034009_0700_01/ECOv002_L2T_LSTE_21241_015_10SGD_20220405T034009_0700_01_cloud.jpeg.aux.xml',\n",
      "            'hreflang': 'en-US',\n",
      "            'rel': 'http://esipfed.org/ns/fedsearch/1.1/browse#',\n",
      "            'title': 'Download '\n",
      "                     'ECOv002_L2T_LSTE_21241_015_10SGD_20220405T034009_0700_01_cloud.jpeg.aux.xml'},\n",
      "           {'href': 's3://lp-prod-protected/ECO_L2T_LSTE.002/ECOv002_L2T_LSTE_21241_015_10SGD_20220405T034009_0700_01/ECOv002_L2T_LSTE_21241_015_10SGD_20220405T034009_0700_01_cloud.jpeg.aux.xml',\n",
      "            'hreflang': 'en-US',\n",
      "            'rel': 'http://esipfed.org/ns/fedsearch/1.1/browse#',\n",
      "            'title': 'This link provides direct download access via S3 to the '\n",
      "                     'granule'},\n",
      "           {'href': 'https://data.lpdaac.earthdatacloud.nasa.gov/lp-prod-protected/ECO_L2T_LSTE.002/ECOv002_L2T_LSTE_21241_015_10SGD_20220405T034009_0700_01/ECOv002_L2T_LSTE_21241_015_10SGD_20220405T034009_0700_01_height.jpeg',\n",
      "            'hreflang': 'en-US',\n",
      "            'rel': 'http://esipfed.org/ns/fedsearch/1.1/browse#',\n",
      "            'title': 'Download '\n",
      "                     'ECOv002_L2T_LSTE_21241_015_10SGD_20220405T034009_0700_01_height.jpeg'},\n",
      "           {'href': 's3://lp-prod-protected/ECO_L2T_LSTE.002/ECOv002_L2T_LSTE_21241_015_10SGD_20220405T034009_0700_01/ECOv002_L2T_LSTE_21241_015_10SGD_20220405T034009_0700_01_height.jpeg',\n",
      "            'hreflang': 'en-US',\n",
      "            'rel': 'http://esipfed.org/ns/fedsearch/1.1/browse#',\n",
      "            'title': 'This link provides direct download access via S3 to the '\n",
      "                     'granule'},\n",
      "           {'href': 'https://data.lpdaac.earthdatacloud.nasa.gov/lp-prod-protected/ECO_L2T_LSTE.002/ECOv002_L2T_LSTE_21241_015_10SGD_20220405T034009_0700_01/ECOv002_L2T_LSTE_21241_015_10SGD_20220405T034009_0700_01_height.jpeg.aux.xml',\n",
      "            'hreflang': 'en-US',\n",
      "            'rel': 'http://esipfed.org/ns/fedsearch/1.1/browse#',\n",
      "            'title': 'Download '\n",
      "                     'ECOv002_L2T_LSTE_21241_015_10SGD_20220405T034009_0700_01_height.jpeg.aux.xml'},\n",
      "           {'href': 's3://lp-prod-protected/ECO_L2T_LSTE.002/ECOv002_L2T_LSTE_21241_015_10SGD_20220405T034009_0700_01/ECOv002_L2T_LSTE_21241_015_10SGD_20220405T034009_0700_01_height.jpeg.aux.xml',\n",
      "            'hreflang': 'en-US',\n",
      "            'rel': 'http://esipfed.org/ns/fedsearch/1.1/browse#',\n",
      "            'title': 'This link provides direct download access via S3 to the '\n",
      "                     'granule'},\n",
      "           {'href': 'https://data.lpdaac.earthdatacloud.nasa.gov/lp-prod-protected/ECO_L2T_LSTE.002/ECOv002_L2T_LSTE_21241_015_10SGD_20220405T034009_0700_01/ECOv002_L2T_LSTE_21241_015_10SGD_20220405T034009_0700_01_QC.jpeg',\n",
      "            'hreflang': 'en-US',\n",
      "            'rel': 'http://esipfed.org/ns/fedsearch/1.1/browse#',\n",
      "            'title': 'Download '\n",
      "                     'ECOv002_L2T_LSTE_21241_015_10SGD_20220405T034009_0700_01_QC.jpeg'},\n",
      "           {'href': 's3://lp-prod-protected/ECO_L2T_LSTE.002/ECOv002_L2T_LSTE_21241_015_10SGD_20220405T034009_0700_01/ECOv002_L2T_LSTE_21241_015_10SGD_20220405T034009_0700_01_QC.jpeg',\n",
      "            'hreflang': 'en-US',\n",
      "            'rel': 'http://esipfed.org/ns/fedsearch/1.1/browse#',\n",
      "            'title': 'This link provides direct download access via S3 to the '\n",
      "                     'granule'},\n",
      "           {'href': 'https://data.lpdaac.earthdatacloud.nasa.gov/lp-prod-protected/ECO_L2T_LSTE.002/ECOv002_L2T_LSTE_21241_015_10SGD_20220405T034009_0700_01/ECOv002_L2T_LSTE_21241_015_10SGD_20220405T034009_0700_01_QC.jpeg.aux.xml',\n",
      "            'hreflang': 'en-US',\n",
      "            'rel': 'http://esipfed.org/ns/fedsearch/1.1/browse#',\n",
      "            'title': 'Download '\n",
      "                     'ECOv002_L2T_LSTE_21241_015_10SGD_20220405T034009_0700_01_QC.jpeg.aux.xml'},\n",
      "           {'href': 's3://lp-prod-protected/ECO_L2T_LSTE.002/ECOv002_L2T_LSTE_21241_015_10SGD_20220405T034009_0700_01/ECOv002_L2T_LSTE_21241_015_10SGD_20220405T034009_0700_01_QC.jpeg.aux.xml',\n",
      "            'hreflang': 'en-US',\n",
      "            'rel': 'http://esipfed.org/ns/fedsearch/1.1/browse#',\n",
      "            'title': 'This link provides direct download access via S3 to the '\n",
      "                     'granule'},\n",
      "           {'href': 'https://data.lpdaac.earthdatacloud.nasa.gov/lp-prod-protected/ECO_L2T_LSTE.002/ECOv002_L2T_LSTE_21241_015_10SGD_20220405T034009_0700_01/ECOv002_L2T_LSTE_21241_015_10SGD_20220405T034009_0700_01_LST.jpeg',\n",
      "            'hreflang': 'en-US',\n",
      "            'rel': 'http://esipfed.org/ns/fedsearch/1.1/browse#',\n",
      "            'title': 'Download '\n",
      "                     'ECOv002_L2T_LSTE_21241_015_10SGD_20220405T034009_0700_01_LST.jpeg'},\n",
      "           {'href': 's3://lp-prod-protected/ECO_L2T_LSTE.002/ECOv002_L2T_LSTE_21241_015_10SGD_20220405T034009_0700_01/ECOv002_L2T_LSTE_21241_015_10SGD_20220405T034009_0700_01_LST.jpeg',\n",
      "            'hreflang': 'en-US',\n",
      "            'rel': 'http://esipfed.org/ns/fedsearch/1.1/browse#',\n",
      "            'title': 'This link provides direct download access via S3 to the '\n",
      "                     'granule'},\n",
      "           {'href': 'https://data.lpdaac.earthdatacloud.nasa.gov/lp-prod-protected/ECO_L2T_LSTE.002/ECOv002_L2T_LSTE_21241_015_10SGD_20220405T034009_0700_01/ECOv002_L2T_LSTE_21241_015_10SGD_20220405T034009_0700_01_LST.jpeg.aux.xml',\n",
      "            'hreflang': 'en-US',\n",
      "            'rel': 'http://esipfed.org/ns/fedsearch/1.1/browse#',\n",
      "            'title': 'Download '\n",
      "                     'ECOv002_L2T_LSTE_21241_015_10SGD_20220405T034009_0700_01_LST.jpeg.aux.xml'},\n",
      "           {'href': 's3://lp-prod-protected/ECO_L2T_LSTE.002/ECOv002_L2T_LSTE_21241_015_10SGD_20220405T034009_0700_01/ECOv002_L2T_LSTE_21241_015_10SGD_20220405T034009_0700_01_LST.jpeg.aux.xml',\n",
      "            'hreflang': 'en-US',\n",
      "            'rel': 'http://esipfed.org/ns/fedsearch/1.1/browse#',\n",
      "            'title': 'This link provides direct download access via S3 to the '\n",
      "                     'granule'},\n",
      "           {'href': 'https://data.lpdaac.earthdatacloud.nasa.gov/lp-prod-protected/ECO_L2T_LSTE.002/ECOv002_L2T_LSTE_21241_015_10SGD_20220405T034009_0700_01/ECOv002_L2T_LSTE_21241_015_10SGD_20220405T034009_0700_01_LST_err.jpeg',\n",
      "            'hreflang': 'en-US',\n",
      "            'rel': 'http://esipfed.org/ns/fedsearch/1.1/browse#',\n",
      "            'title': 'Download '\n",
      "                     'ECOv002_L2T_LSTE_21241_015_10SGD_20220405T034009_0700_01_LST_err.jpeg'},\n",
      "           {'href': 's3://lp-prod-protected/ECO_L2T_LSTE.002/ECOv002_L2T_LSTE_21241_015_10SGD_20220405T034009_0700_01/ECOv002_L2T_LSTE_21241_015_10SGD_20220405T034009_0700_01_LST_err.jpeg',\n",
      "            'hreflang': 'en-US',\n",
      "            'rel': 'http://esipfed.org/ns/fedsearch/1.1/browse#',\n",
      "            'title': 'This link provides direct download access via S3 to the '\n",
      "                     'granule'},\n",
      "           {'href': 'https://data.lpdaac.earthdatacloud.nasa.gov/lp-prod-protected/ECO_L2T_LSTE.002/ECOv002_L2T_LSTE_21241_015_10SGD_20220405T034009_0700_01/ECOv002_L2T_LSTE_21241_015_10SGD_20220405T034009_0700_01_LST_err.jpeg.aux.xml',\n",
      "            'hreflang': 'en-US',\n",
      "            'rel': 'http://esipfed.org/ns/fedsearch/1.1/browse#',\n",
      "            'title': 'Download '\n",
      "                     'ECOv002_L2T_LSTE_21241_015_10SGD_20220405T034009_0700_01_LST_err.jpeg.aux.xml'},\n",
      "           {'href': 's3://lp-prod-protected/ECO_L2T_LSTE.002/ECOv002_L2T_LSTE_21241_015_10SGD_20220405T034009_0700_01/ECOv002_L2T_LSTE_21241_015_10SGD_20220405T034009_0700_01_LST_err.jpeg.aux.xml',\n",
      "            'hreflang': 'en-US',\n",
      "            'rel': 'http://esipfed.org/ns/fedsearch/1.1/browse#',\n",
      "            'title': 'This link provides direct download access via S3 to the '\n",
      "                     'granule'},\n",
      "           {'href': 'https://data.lpdaac.earthdatacloud.nasa.gov/lp-prod-protected/ECO_L2T_LSTE.002/ECOv002_L2T_LSTE_21241_015_10SGD_20220405T034009_0700_01/ECOv002_L2T_LSTE_21241_015_10SGD_20220405T034009_0700_01_EmisWB.jpeg',\n",
      "            'hreflang': 'en-US',\n",
      "            'rel': 'http://esipfed.org/ns/fedsearch/1.1/browse#',\n",
      "            'title': 'Download '\n",
      "                     'ECOv002_L2T_LSTE_21241_015_10SGD_20220405T034009_0700_01_EmisWB.jpeg'},\n",
      "           {'href': 's3://lp-prod-protected/ECO_L2T_LSTE.002/ECOv002_L2T_LSTE_21241_015_10SGD_20220405T034009_0700_01/ECOv002_L2T_LSTE_21241_015_10SGD_20220405T034009_0700_01_EmisWB.jpeg',\n",
      "            'hreflang': 'en-US',\n",
      "            'rel': 'http://esipfed.org/ns/fedsearch/1.1/browse#',\n",
      "            'title': 'This link provides direct download access via S3 to the '\n",
      "                     'granule'},\n",
      "           {'href': 'https://data.lpdaac.earthdatacloud.nasa.gov/lp-prod-protected/ECO_L2T_LSTE.002/ECOv002_L2T_LSTE_21241_015_10SGD_20220405T034009_0700_01/ECOv002_L2T_LSTE_21241_015_10SGD_20220405T034009_0700_01_EmisWB.jpeg.aux.xml',\n",
      "            'hreflang': 'en-US',\n",
      "            'rel': 'http://esipfed.org/ns/fedsearch/1.1/browse#',\n",
      "            'title': 'Download '\n",
      "                     'ECOv002_L2T_LSTE_21241_015_10SGD_20220405T034009_0700_01_EmisWB.jpeg.aux.xml'},\n",
      "           {'href': 's3://lp-prod-protected/ECO_L2T_LSTE.002/ECOv002_L2T_LSTE_21241_015_10SGD_20220405T034009_0700_01/ECOv002_L2T_LSTE_21241_015_10SGD_20220405T034009_0700_01_EmisWB.jpeg.aux.xml',\n",
      "            'hreflang': 'en-US',\n",
      "            'rel': 'http://esipfed.org/ns/fedsearch/1.1/browse#',\n",
      "            'title': 'This link provides direct download access via S3 to the '\n",
      "                     'granule'},\n",
      "           {'href': 'https://search.earthdata.nasa.gov/search?q=ECO2LSTE+V002',\n",
      "            'hreflang': 'en-US',\n",
      "            'inherited': True,\n",
      "            'rel': 'http://esipfed.org/ns/fedsearch/1.1/data#'},\n",
      "           {'href': 'https://e4ftl01.cr.usgs.gov/ECOSTRESS/ECO2LSTE.002/',\n",
      "            'hreflang': 'en-US',\n",
      "            'inherited': True,\n",
      "            'rel': 'http://esipfed.org/ns/fedsearch/1.1/data#'},\n",
      "           {'href': 'https://doi.org/10.5067/ECOSTRESS/ECO_L2T_LSTE.002',\n",
      "            'hreflang': 'en-US',\n",
      "            'inherited': True,\n",
      "            'rel': 'http://esipfed.org/ns/fedsearch/1.1/metadata#'},\n",
      "           {'href': 'https://lpdaac.usgs.gov/',\n",
      "            'hreflang': 'en-US',\n",
      "            'inherited': True,\n",
      "            'rel': 'http://esipfed.org/ns/fedsearch/1.1/metadata#'},\n",
      "           {'href': 'https://lpdaac.usgs.gov/sites/default/files/public/product_documentation/ECOSTRESS_User_Guide_v6.pdf',\n",
      "            'hreflang': 'en-US',\n",
      "            'inherited': True,\n",
      "            'rel': 'http://esipfed.org/ns/fedsearch/1.1/documentation#'},\n",
      "           {'href': 'https://lpdaac.usgs.gov/sites/default/files/public/product_documentation/ECOSTRESS_ATBD_v1.pdf',\n",
      "            'hreflang': 'en-US',\n",
      "            'inherited': True,\n",
      "            'rel': 'http://esipfed.org/ns/fedsearch/1.1/documentation#'}],\n",
      " 'online_access_flag': True,\n",
      " 'orbit_calculated_spatial_domains': [{'start_orbit_number': '21241',\n",
      "                                       'stop_orbit_number': '21241'}],\n",
      " 'original_format': 'ECHO10',\n",
      " 'producer_granule_id': 'ECOv002_L2T_LSTE_21241_015_10SGD_20220405T034009_0700_01',\n",
      " 'time_end': '2022-04-05T03:45:09.520Z',\n",
      " 'time_start': '2022-04-05T03:40:09.520Z',\n",
      " 'title': 'ECOv002_L2T_LSTE_21241_015_10SGD_20220405T034009_0700_01',\n",
      " 'updated': '2022-04-07T15:08:11.480Z'}\n"
     ]
    }
   ],
   "source": [
    "pprint(granules[0])"
   ]
  },
  {
   "cell_type": "markdown",
   "id": "48f5f279-d2f2-4dff-bc41-15a92535ee1c",
   "metadata": {},
   "source": [
    "## Get URLs to cloud data assets"
   ]
  },
  {
   "cell_type": "code",
   "execution_count": 28,
   "id": "opposed-times",
   "metadata": {},
   "outputs": [
    {
     "data": {
      "text/plain": [
       "['https://data.lpdaac.earthdatacloud.nasa.gov/lp-prod-protected/ECO_L2T_LSTE.002/ECOv002_L2T_LSTE_21241_015_10SGD_20220405T034009_0700_01/ECOv002_L2T_LSTE_21241_015_10SGD_20220405T034009_0700_01_water.tif',\n",
       " 'https://data.lpdaac.earthdatacloud.nasa.gov/lp-prod-protected/ECO_L2T_LSTE.002/ECOv002_L2T_LSTE_21241_015_10SGD_20220405T034009_0700_01/ECOv002_L2T_LSTE_21241_015_10SGD_20220405T034009_0700_01_cloud.tif',\n",
       " 'https://data.lpdaac.earthdatacloud.nasa.gov/lp-prod-protected/ECO_L2T_LSTE.002/ECOv002_L2T_LSTE_21241_015_10SGD_20220405T034009_0700_01/ECOv002_L2T_LSTE_21241_015_10SGD_20220405T034009_0700_01_height.tif',\n",
       " 'https://data.lpdaac.earthdatacloud.nasa.gov/lp-prod-protected/ECO_L2T_LSTE.002/ECOv002_L2T_LSTE_21241_015_10SGD_20220405T034009_0700_01/ECOv002_L2T_LSTE_21241_015_10SGD_20220405T034009_0700_01_QC.tif',\n",
       " 'https://data.lpdaac.earthdatacloud.nasa.gov/lp-prod-protected/ECO_L2T_LSTE.002/ECOv002_L2T_LSTE_21241_015_10SGD_20220405T034009_0700_01/ECOv002_L2T_LSTE_21241_015_10SGD_20220405T034009_0700_01_LST.tif',\n",
       " 'https://data.lpdaac.earthdatacloud.nasa.gov/lp-prod-protected/ECO_L2T_LSTE.002/ECOv002_L2T_LSTE_21241_015_10SGD_20220405T034009_0700_01/ECOv002_L2T_LSTE_21241_015_10SGD_20220405T034009_0700_01_LST_err.tif',\n",
       " 'https://data.lpdaac.earthdatacloud.nasa.gov/lp-prod-protected/ECO_L2T_LSTE.002/ECOv002_L2T_LSTE_21241_015_10SGD_20220405T034009_0700_01/ECOv002_L2T_LSTE_21241_015_10SGD_20220405T034009_0700_01_EmisWB.tif']"
      ]
     },
     "execution_count": 28,
     "metadata": {},
     "output_type": "execute_result"
    }
   ],
   "source": [
    "https_urls = [l['href'] for l in granules[0]['links'] if 'https' in l['href'] and '.tif' in l['href']]\n",
    "https_urls"
   ]
  },
  {
   "cell_type": "code",
   "execution_count": 29,
   "id": "3d967958-0b7e-4c6f-be56-09d2b8e7b40a",
   "metadata": {},
   "outputs": [
    {
     "data": {
      "text/plain": [
       "['s3://lp-prod-protected/ECO_L2T_LSTE.002/ECOv002_L2T_LSTE_21241_015_10SGD_20220405T034009_0700_01/ECOv002_L2T_LSTE_21241_015_10SGD_20220405T034009_0700_01_water.tif',\n",
       " 's3://lp-prod-protected/ECO_L2T_LSTE.002/ECOv002_L2T_LSTE_21241_015_10SGD_20220405T034009_0700_01/ECOv002_L2T_LSTE_21241_015_10SGD_20220405T034009_0700_01_cloud.tif',\n",
       " 's3://lp-prod-protected/ECO_L2T_LSTE.002/ECOv002_L2T_LSTE_21241_015_10SGD_20220405T034009_0700_01/ECOv002_L2T_LSTE_21241_015_10SGD_20220405T034009_0700_01_height.tif',\n",
       " 's3://lp-prod-protected/ECO_L2T_LSTE.002/ECOv002_L2T_LSTE_21241_015_10SGD_20220405T034009_0700_01/ECOv002_L2T_LSTE_21241_015_10SGD_20220405T034009_0700_01_QC.tif',\n",
       " 's3://lp-prod-protected/ECO_L2T_LSTE.002/ECOv002_L2T_LSTE_21241_015_10SGD_20220405T034009_0700_01/ECOv002_L2T_LSTE_21241_015_10SGD_20220405T034009_0700_01_LST.tif',\n",
       " 's3://lp-prod-protected/ECO_L2T_LSTE.002/ECOv002_L2T_LSTE_21241_015_10SGD_20220405T034009_0700_01/ECOv002_L2T_LSTE_21241_015_10SGD_20220405T034009_0700_01_LST_err.tif',\n",
       " 's3://lp-prod-protected/ECO_L2T_LSTE.002/ECOv002_L2T_LSTE_21241_015_10SGD_20220405T034009_0700_01/ECOv002_L2T_LSTE_21241_015_10SGD_20220405T034009_0700_01_EmisWB.tif']"
      ]
     },
     "execution_count": 29,
     "metadata": {},
     "output_type": "execute_result"
    }
   ],
   "source": [
    "s3_urls = [l['href'] for l in granules[0]['links'] if 's3' in l['href'] and '.tif' in l['href']]\n",
    "s3_urls"
   ]
  },
  {
   "cell_type": "code",
   "execution_count": null,
   "id": "4d756922-580d-4b78-82e6-1413896305b4",
   "metadata": {},
   "outputs": [],
   "source": []
  }
 ],
 "metadata": {
  "kernelspec": {
   "display_name": "py39",
   "language": "python",
   "name": "py39"
  },
  "language_info": {
   "codemirror_mode": {
    "name": "ipython",
    "version": 3
   },
   "file_extension": ".py",
   "mimetype": "text/x-python",
   "name": "python",
   "nbconvert_exporter": "python",
   "pygments_lexer": "ipython3",
   "version": "3.9.12"
  }
 },
 "nbformat": 4,
 "nbformat_minor": 5
}
